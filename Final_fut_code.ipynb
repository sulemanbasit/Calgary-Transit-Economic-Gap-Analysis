{
 "cells": [
  {
   "cell_type": "code",
   "execution_count": null,
   "metadata": {},
   "outputs": [],
   "source": [
    "import pandas as pd\n",
    "import numpy as np\n",
    "import matplotlib.pyplot as mpt\n",
    "import os\n",
    "import geopandas as gpd\n",
    "from glob import glob\n",
    "from gtfs_functions import Feed"
   ]
  },
  {
   "cell_type": "markdown",
   "metadata": {},
   "source": [
    "## Variables:"
   ]
  },
  {
   "cell_type": "code",
   "execution_count": null,
   "metadata": {},
   "outputs": [],
   "source": [
    "gtfs_path = \"CT_GTFS.zip\" #update this if needed\n",
    "current_stops_data = \"Stops Sorted.xlsx\"\n",
    "future_stops_data = \"Stops Sorted Future Network.xlsx\"\n",
    "current_cov = 'PTN service coverage.csv'\n",
    "future_cov = 'Future Transit Service Coverage.csv'\n",
    "demand_2 = \"TotalDemandIndexStandardized.xlsx\"\n",
    "comm_file = 'demand.csv'\n",
    "census_file = \"Census by Community 2019_20240401.geojson\"\n",
    "red_code = '201-20718'\n",
    "blue_code = '202-20718'\n",
    "orange_code = '303-20727'\n",
    "yellow_code = '304-20727'\n",
    "teal_code = '306-20727'\n",
    "purple_code = '307-20727'\n",
    "comm_list = []\n",
    "red_list = []\n",
    "blue_list = []\n",
    "orange_list = []\n",
    "yellow_list = []\n",
    "purple_list = []\n",
    "teal_list = []\n",
    "green_list = []\n",
    "future_brentwood_list = []\n",
    "future_tuscany_list = []\n",
    "east_grey_list = []\n",
    "west_grey_list = []"
   ]
  },
  {
   "cell_type": "markdown",
   "metadata": {},
   "source": [
    "# Functions Required"
   ]
  },
  {
   "cell_type": "code",
   "execution_count": null,
   "metadata": {},
   "outputs": [],
   "source": [
    "\n",
    "def assign_grade(score):\n",
    "    for grade, boundary in grade_boundaries.items():\n",
    "        if score >= boundary:\n",
    "            return grade\n",
    "    return 'F'\n",
    "\n",
    "def assign_time(time_list):\n",
    "    time_format_list = [t+':00' for t in time_list]\n",
    "    return time_format_list"
   ]
  },
  {
   "cell_type": "markdown",
   "metadata": {},
   "source": [
    "# Generate Dataset for SF and SC"
   ]
  },
  {
   "cell_type": "markdown",
   "metadata": {},
   "source": [
    "\n",
    "## Input Required:\n"
   ]
  },
  {
   "cell_type": "code",
   "execution_count": null,
   "metadata": {},
   "outputs": [],
   "source": [
    "\n",
    "t = input(\"Input time range and separate by comma (eg. 6am-9am: 6,7,8,9):\")\n",
    "t_l = t.split(',')\n",
    "time_range_list = assign_time(t_l)\n",
    "pattern = '|'.join(time_range_list)\n"
   ]
  },
  {
   "cell_type": "markdown",
   "metadata": {},
   "source": [
    "\n",
    "## Generate Data Set Via GTFS:"
   ]
  },
  {
   "cell_type": "code",
   "execution_count": null,
   "metadata": {},
   "outputs": [],
   "source": [
    "feed = Feed(gtfs_path, time_windows=[0,1,2,3,4,5,6,7,8,9,10,11,12,13,14,15,16,17,18,19,20,21,22,23,24])\n",
    "line_freq = feed.lines_freq\n",
    "ptn = line_freq.loc[line_freq[\"route_name\"].str.contains(\"Line|MAX\")].sort_values(by=['window'])\n",
    "input_hour_performance = ptn.loc[ptn['window'].str.contains(pattern)].sort_values(by=['route_name'])\n",
    "n_trips = input_hour_performance.groupby('route_id')['ntrips'].sum()\n",
    "mean_min_per_trip = input_hour_performance.groupby('route_id')['min_per_trip'].mean()\n",
    "median_min_per_trip = input_hour_performance.groupby('route_id')['min_per_trip'].median()"
   ]
  },
  {
   "cell_type": "markdown",
   "metadata": {},
   "source": [
    "# SF/SC Through Stops Sorted\n"
   ]
  },
  {
   "cell_type": "markdown",
   "metadata": {},
   "source": [
    "## Input Required:\n"
   ]
  },
  {
   "cell_type": "code",
   "execution_count": null,
   "metadata": {},
   "outputs": [],
   "source": [
    "while True:\n",
    "    try:\n",
    "        bus_capacity = int(input(\"Enter the capacity of busses (Only integer value accepted): \"))\n",
    "        train_capacity = int(input(\"Enter the capacity of trains (Only integer value accepted): \"))\n",
    "        break\n",
    "    except ValueError:\n",
    "        # If the input is not a valid integer, print an error message and continue the loop\n",
    "        print(\"Please enter a valid integer value.\")\n"
   ]
  },
  {
   "cell_type": "markdown",
   "metadata": {},
   "source": [
    "## Analysis SF/SC:\n"
   ]
  },
  {
   "cell_type": "code",
   "execution_count": null,
   "metadata": {},
   "outputs": [],
   "source": [
    "blue_trips = n_trips.loc[blue_code]\n",
    "blue_freq = median_min_per_trip.loc[blue_code]\n",
    "red_trips = n_trips.loc[red_code]\n",
    "red_freq = median_min_per_trip.loc[red_code]\n",
    "orange_trips = n_trips.loc[orange_code]\n",
    "orange_freq = median_min_per_trip.loc[orange_code]\n",
    "teal_trips = n_trips.loc[teal_code]\n",
    "teal_freq = median_min_per_trip.loc[teal_code]\n",
    "yellow_trips = n_trips.loc[yellow_code]\n",
    "yellow_freq = median_min_per_trip.loc[yellow_code]\n",
    "purple_trips = n_trips.loc[purple_code]\n",
    "purple_freq = median_min_per_trip.loc[purple_code]\n",
    "green_trips = n_trips.loc[red_code]\n",
    "green_freq = median_min_per_trip.loc[red_code]\n",
    "east_grey_trips = n_trips.loc[teal_code]\n",
    "east_grey_freq = median_min_per_trip.loc[teal_code]\n",
    "west_grey_trips = n_trips.loc[teal_code]\n",
    "west_grey_freq = median_min_per_trip.loc[teal_code]\n",
    "future_brentwood_trips = n_trips.loc[teal_code]\n",
    "future_brentwood_freq = median_min_per_trip.loc[teal_code]\n",
    "future_tuscany_trips = n_trips.loc[teal_code]\n",
    "future_tuscany_freq = median_min_per_trip.loc[teal_code]\n",
    "\n",
    "comm_data = pd.read_csv(comm_file)\n",
    "fut_stop_df = pd.read_excel(future_stops_data, sheet_name = \"Sheet2\")\n",
    "fut_stop_df = fut_stop_df.dropna()\n",
    "fut_stop_df['Community'] = fut_stop_df['Community'].str.rstrip('\\n').str.replace('\\n',',')\n",
    "\n",
    "for index, row in fut_stop_df.iterrows():\n",
    "    if 'Line' in row['Line']:\n",
    "        if 'Red' in row['Line']:\n",
    "            red_list.extend([com for com in row['Community'].split(',')])\n",
    "        elif 'Blue' in row['Line']:\n",
    "            blue_list.extend([com for com in row['Community'].split(',')])\n",
    "        else:\n",
    "            green_list.extend([com for com in row['Community'].split(',')])\n",
    "    else:\n",
    "        if 'Orange' in row['Line']:\n",
    "            orange_list.extend([com for com in row['Community'].split(',')])\n",
    "        elif 'Purple' in row['Line']:\n",
    "            purple_list.extend([com for com in row['Community'].split(',')])\n",
    "        elif 'Teal' in row['Line']:\n",
    "            teal_list.extend([com for com in row['Community'].split(',')])\n",
    "        elif 'Yellow' in row['Line']:\n",
    "            yellow_list.extend([com for com in row['Community'].split(',')])\n",
    "        elif 'East' in row['Line']:\n",
    "            east_grey_list.extend([com for com in row['Community'].split(',')])\n",
    "        elif 'West' in row['Line']:\n",
    "            west_grey_list.extend([com for com in row['Community'].split(',')])\n",
    "        elif 'Brentwood' in row['Line']:\n",
    "            future_brentwood_list.extend([com for com in row['Community'].split(',')])\n",
    "        elif 'Tuscany' in row['Line']:\n",
    "            # print(row['Community'])\n",
    "            future_tuscany_list.extend([com for com in row['Community'].split(',')])\n",
    "            \n",
    "fut_comm_list = list(set(red_list+blue_list+orange_list+purple_list+teal_list+yellow_list+green_list+east_grey_list+west_grey_list+future_brentwood_list+future_tuscany_list))\n",
    "clean_com_list = [item for item in fut_comm_list if item.strip()]\n",
    "fut_service_df = pd.DataFrame(clean_com_list, columns=[\"Community\"]).sort_values(by=\"Community\")\n",
    "\n",
    "fut_service_df[\"Red Trips\"] = fut_service_df[\"Community\"].isin(red_list) * red_trips\n",
    "fut_service_df[\"Red Freq\"] = fut_service_df[\"Community\"].isin(red_list) * red_freq\n",
    "fut_service_df[\"Blue Trips\"] = fut_service_df[\"Community\"].isin(blue_list) * blue_trips\n",
    "fut_service_df[\"Blue Freq\"] = fut_service_df[\"Community\"].isin(blue_list) * blue_freq\n",
    "fut_service_df[\"Green Trips\"] = fut_service_df[\"Community\"].isin(green_list) * green_trips\n",
    "fut_service_df[\"Green Freq\"] = fut_service_df[\"Community\"].isin(green_list) * green_freq\n",
    "fut_service_df[\"Orange Trips\"] = fut_service_df[\"Community\"].isin(orange_list) * orange_trips\n",
    "fut_service_df[\"Orange Freq\"] = fut_service_df[\"Community\"].isin(orange_list) * orange_freq\n",
    "fut_service_df[\"Yellow Trips\"] = fut_service_df[\"Community\"].isin(yellow_list) * yellow_trips\n",
    "fut_service_df[\"Yellow Freq\"] = fut_service_df[\"Community\"].isin(yellow_list) * yellow_freq\n",
    "fut_service_df[\"Teal Trips\"] = fut_service_df[\"Community\"].isin(teal_list) * teal_trips\n",
    "fut_service_df[\"Teal Freq\"] = fut_service_df[\"Community\"].isin(teal_list) * teal_freq\n",
    "fut_service_df[\"Purple Trips\"] = fut_service_df[\"Community\"].isin(purple_list) * purple_trips\n",
    "fut_service_df[\"Purple Freq\"] = fut_service_df[\"Community\"].isin(purple_list) * purple_freq\n",
    "fut_service_df[\"East Grey Trips\"] = fut_service_df[\"Community\"].isin(east_grey_list) * east_grey_trips\n",
    "fut_service_df[\"East Grey Freq\"] = fut_service_df[\"Community\"].isin(east_grey_list) * east_grey_freq\n",
    "fut_service_df[\"West Grey Trips\"] = fut_service_df[\"Community\"].isin(west_grey_list) * west_grey_trips\n",
    "fut_service_df[\"West Grey Freq\"] = fut_service_df[\"Community\"].isin(west_grey_list) * west_grey_freq\n",
    "fut_service_df[\"Future Brentwood Trips\"] = fut_service_df[\"Community\"].isin(future_brentwood_list) * future_brentwood_trips\n",
    "fut_service_df[\"Future Brentwood Freq\"] = fut_service_df[\"Community\"].isin(future_brentwood_list) * future_brentwood_freq\n",
    "fut_service_df[\"Future Tuscany Trips\"] = fut_service_df[\"Community\"].isin(future_tuscany_list) * future_tuscany_trips\n",
    "fut_service_df[\"Future Tuscany Freq\"] = fut_service_df[\"Community\"].isin(future_tuscany_list) * future_tuscany_freq\n",
    "\n",
    "\n",
    "# Merge the two DataFrames on the 'Community' and 'Community Name' columns\n",
    "merged_data = pd.merge(fut_service_df, comm_data, left_on='Community', right_on='Community Name', how='right')\n",
    "\n",
    "# Update the 'Population' column in sup_fc with the corresponding values from comm_data\n",
    "fut_service_df['Population'] = fut_service_df['Community'].apply(\n",
    "    lambda x: merged_data.loc[merged_data['Community Name'] == x, 'Population in private households'].iloc[0]\n",
    "    if x in merged_data['Community Name'].tolist() else 0\n",
    ")\n",
    "\n",
    "# dropping rows that have no population:\n",
    "fut_service_df = fut_service_df[fut_service_df['Population'] != 0]\n",
    "\n",
    "# Calculate Index\n",
    "fut_service_df[\"Frequency Index\"] = fut_service_df.filter(like=\"Freq\").sum(axis=1)\n",
    "fut_service_df['Total Trips'] = fut_service_df.filter(regex=\"Red Trips|Blue Trips|Green Trips\").sum(axis=1)*train_capacity + fut_service_df.filter(regex=\"Orange Trips|Yellow Trips|Teal Trips|Yellow Trips|Purple Trips|East Grey Trips|West Grey Trips|Future Brentwood Trips| Future Tuscany Trips\").sum(axis=1)*bus_capacity\n",
    "fut_service_df[\"Capacity Index\"] = fut_service_df['Total Trips']/fut_service_df.filter(like='Population').sum(axis=1)\n",
    "\n",
    "min_freq = min(fut_service_df['Frequency Index'])\n",
    "max_freq = max(fut_service_df['Frequency Index'])\n",
    "min_cap = min(fut_service_df['Capacity Index'])\n",
    "max_cap = max(fut_service_df['Capacity Index'])\n",
    "\n",
    "fut_service_df['SS Frequency Index'] = (fut_service_df['Frequency Index']-min_freq)/(max_freq-min_freq)\n",
    "fut_service_df['SS Capacity Index'] = (fut_service_df['Capacity Index']-min_cap)/(max_cap-min_cap)"
   ]
  },
  {
   "cell_type": "markdown",
   "metadata": {},
   "source": [
    "# SF SC SC"
   ]
  },
  {
   "cell_type": "code",
   "execution_count": null,
   "metadata": {},
   "outputs": [],
   "source": [
    "fut_cov_file = pd.read_csv(future_cov)\n",
    "\n",
    "fut_sup_upper = fut_service_df.copy()\n",
    "fut_sup_upper['Community'] = fut_sup_upper[\"Community\"].str.upper()\n",
    "\n",
    "future_merged = pd.merge(fut_sup_upper, fut_cov_file, how='right', left_on='Community', right_on='NAME')\n",
    "\n",
    "final_future_supply = future_merged[['NAME','SS Frequency Index','SS Capacity Index','SS_Ser_Cov']]\n",
    "\n",
    "final_future_supply = final_future_supply.rename(columns={'SS_Ser_Cov':\"SS Coverage Index\"})\n",
    "final_future_supply = final_future_supply.fillna(0)\n",
    "\n",
    "final_future_supply['Average Supply Index'] = final_future_supply[['SS Frequency Index','SS Capacity Index','SS Coverage Index']].mean(axis=1)"
   ]
  },
  {
   "cell_type": "markdown",
   "metadata": {},
   "source": [
    "# Merge Demand and Supply"
   ]
  },
  {
   "cell_type": "code",
   "execution_count": null,
   "metadata": {},
   "outputs": [],
   "source": [
    "demand_df = pd.read_excel(demand_2) # This will be data that has demand index, so if the data is already in a data frame, use that\n",
    "demand_df['NAME'] = demand_df['NAME'].str.upper()\n",
    "\n",
    "dns_fut_merge = pd.merge(final_future_supply,demand_df, how='right', left_on='NAME', right_on='NAME')\n",
    "\n",
    "final_future_df = dns_fut_merge[['NAME',\"Low Income Index\",\"Seniors Index\",\"Rent Index\",\"Total Community Index\", \"SS Frequency Index\", \"SS Capacity Index\",'SS Coverage Index',\"Standardized Total Community Index\",\"Average Supply Index\"]]\n",
    "\n",
    "final_future_df = final_future_df.rename(columns={'Standardized Total Community Index': 'Community Demand Index'})\n",
    "final_future_df = final_future_df.fillna(0)\n",
    "\n",
    "final_future_df[\"Transit Gap\"] = final_future_df['Community Demand Index'] - final_future_df['Average Supply Index']\n",
    "\n",
    "percentiles = final_future_df['Transit Gap'].quantile([0.2,0.4,0.6,0.8])\n",
    "\n",
    "grade_boundaries = { # Create percentiles to assign proper letter grade\n",
    "    'A': percentiles[0.8],  # Top 20% get an 'A'\n",
    "    'B': percentiles[0.6],  # Next 20% get a 'B'\n",
    "    'C': percentiles[0.4],  # Next 20% get a 'C'\n",
    "    'D': percentiles[0.2],  # Next 20% get a 'D'\n",
    "    'F': 0                   # Bottom 20% get an 'F'\n",
    "}\n",
    "final_future_df[\"Letter Grade\"] = final_future_df['Transit Gap'].apply(assign_grade)"
   ]
  },
  {
   "cell_type": "markdown",
   "metadata": {},
   "source": [
    "# Boundaries + Final Data Set"
   ]
  },
  {
   "cell_type": "code",
   "execution_count": null,
   "metadata": {},
   "outputs": [],
   "source": [
    "comm_geo = gpd.read_file(census_file)\n",
    "dns_bound_data = pd.merge(final_future_df, comm_geo, how='left', left_on='NAME', right_on='name')\n",
    "future_dns = gpd.GeoDataFrame(dns_bound_data[['NAME',\"Low Income Index\",\"Seniors Index\",\"Rent Index\",\"Total Community Index\", \"SS Frequency Index\", \"SS Capacity Index\",'SS Coverage Index',\"Community Demand Index\",\"Average Supply Index\",'Transit Gap','Letter Grade','geometry']])"
   ]
  }
 ],
 "metadata": {
  "language_info": {
   "name": "python"
  }
 },
 "nbformat": 4,
 "nbformat_minor": 2
}
