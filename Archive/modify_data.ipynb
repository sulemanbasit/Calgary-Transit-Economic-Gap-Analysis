{
 "cells": [
  {
   "cell_type": "code",
   "execution_count": 4,
   "metadata": {},
   "outputs": [],
   "source": [
    "import numpy as np\n",
    "import pandas as pd\n",
    "import os\n",
    "# %%\n"
   ]
  },
  {
   "cell_type": "code",
   "execution_count": 8,
   "metadata": {},
   "outputs": [],
   "source": [
    "df_census = pd.read_csv(os.getcwd()+\"/Data Sets/Census_by_Community_2019_20240208 (1) (1).csv\")\n",
    "df_comm = pd.read_excel(os.getcwd()+\"/Data Sets/Analysis Data/Community Profiles Compiled.xlsx\")"
   ]
  },
  {
   "cell_type": "code",
   "execution_count": 14,
   "metadata": {},
   "outputs": [
    {
     "data": {
      "text/plain": [
       "0                                          NaN\n",
       "1                                          NaN\n",
       "2                                          NaN\n",
       "3                                          NaN\n",
       "4                                          NaN\n",
       "                        ...                   \n",
       "321                                        NaN\n",
       "322                                        NaN\n",
       "323       -113.9976484734701 50.89524017539856\n",
       "324     -114.14126941361104 50.930356910392454\n",
       "325                                        NaN\n",
       "Name: Unnamed: 1009, Length: 326, dtype: object"
      ]
     },
     "execution_count": 14,
     "metadata": {},
     "output_type": "execute_result"
    }
   ],
   "source": []
  }
 ],
 "metadata": {
  "kernelspec": {
   "display_name": "Python 3",
   "language": "python",
   "name": "python3"
  },
  "language_info": {
   "codemirror_mode": {
    "name": "ipython",
    "version": 3
   },
   "file_extension": ".py",
   "mimetype": "text/x-python",
   "name": "python",
   "nbconvert_exporter": "python",
   "pygments_lexer": "ipython3",
   "version": "3.12.2"
  }
 },
 "nbformat": 4,
 "nbformat_minor": 2
}
