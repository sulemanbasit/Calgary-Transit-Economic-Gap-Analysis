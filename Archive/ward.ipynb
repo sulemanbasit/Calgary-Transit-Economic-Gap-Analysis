{
 "cells": [
  {
   "cell_type": "code",
   "execution_count": null,
   "metadata": {},
   "outputs": [],
   "source": [
    "# !pip3 install wget"
   ]
  },
  {
   "cell_type": "code",
   "execution_count": 3,
   "metadata": {},
   "outputs": [
    {
     "name": "stderr",
     "output_type": "stream",
     "text": [
      "/Users/sulemanbasit/Library/Python/3.9/lib/python/site-packages/urllib3/__init__.py:34: NotOpenSSLWarning: urllib3 v2.0 only supports OpenSSL 1.1.1+, currently the 'ssl' module is compiled with 'LibreSSL 2.8.3'. See: https://github.com/urllib3/urllib3/issues/3020\n",
      "  warnings.warn(\n"
     ]
    }
   ],
   "source": [
    "import requests\n",
    "from bs4 import BeautifulSoup\n",
    "import os\n",
    "import wget\n",
    "import re"
   ]
  },
  {
   "cell_type": "code",
   "execution_count": 4,
   "metadata": {},
   "outputs": [],
   "source": [
    "url = 'https://www.calgary.ca/communities/profiles/wards.html'\n",
    "\n",
    "# Send a GET request to the URL\n",
    "response = requests.get(url)\n",
    "soup = BeautifulSoup(response.text, 'html.parser')\n",
    "# print(response.status_code)\n",
    "wrd = soup.select('div.text.parbase a')\n"
   ]
  },
  {
   "cell_type": "code",
   "execution_count": 5,
   "metadata": {},
   "outputs": [
    {
     "name": "stdout",
     "output_type": "stream",
     "text": [
      "['/communities/profiles/ward-1.html', '/communities/profiles/ward-2.html', '/communities/profiles/ward-3.html', '/communities/profiles/ward-4.html', '/communities/profiles/ward-5.html', '/communities/profiles/ward-6.html', '/communities/profiles/ward-7.html', '/communities/profiles/ward-8.html', '/communities/profiles/ward-9.html', '/communities/profiles/ward-10.html', '/communities/profiles/ward-11.html', '/communities/profiles/ward-12.html', '/communities/profiles/ward-13.html', '/communities/profiles/ward-14.html']\n"
     ]
    }
   ],
   "source": [
    "clean_link = []\n",
    "for link in wrd:\n",
    "    if re.search(r'/communities/profiles/ward(.+).html', str(link)):\n",
    "        link_string = re.sub(r'<a href=\"(.*)\">(.*)</a>', r'\\1',str(link))\n",
    "        clean_link.append(str(link_string))\n",
    "\n",
    "# print(clean_link)\n"
   ]
  },
  {
   "cell_type": "code",
   "execution_count": 28,
   "metadata": {},
   "outputs": [
    {
     "name": "stdout",
     "output_type": "stream",
     "text": [
      "File 'ward-1-profile.pdf' downloaded successfully.\n",
      "File 'ward-2-profile.pdf' downloaded successfully.\n",
      "File 'ward-3-profile.pdf' downloaded successfully.\n",
      "File 'ward-4-profile.pdf' downloaded successfully.\n",
      "File 'ward-5-profile.pdf' downloaded successfully.\n",
      "File 'ward-6-profile.pdf' downloaded successfully.\n",
      "File 'ward-7-profile.pdf' downloaded successfully.\n",
      "File 'ward-8-profile.pdf' downloaded successfully.\n",
      "File 'ward-9-profile.pdf' downloaded successfully.\n",
      "File 'ward-10-profile.pdf' downloaded successfully.\n",
      "File 'ward-11-profile.pdf' downloaded successfully.\n",
      "File 'ward-12-profile.pdf' downloaded successfully.\n",
      "File 'ward-13-profile.pdf' downloaded successfully.\n",
      "File 'ward-14-profile.pdf' downloaded successfully.\n"
     ]
    }
   ],
   "source": [
    "\n",
    "for lnk in clean_link:\n",
    "    sub_url = url[:22] + lnk\n",
    "    # print(sub_url)\n",
    "    new_response = requests.get(sub_url)\n",
    "    soup = BeautifulSoup(new_response.text, 'html.parser')\n",
    "    link = soup.findAll('a', \"cui btn-md primary mb-responsive\")\n",
    "    match = re.search(r'href=\"(.*?)\"', str(link))\n",
    "    if match:\n",
    "        sub_link = match.group(1)\n",
    "        sub_pdf_url = url[:22] + sub_link\n",
    "        output_name = sub_link[55:]\n",
    "        last_response = requests.get(sub_pdf_url)\n",
    "        if last_response.status_code == 200:\n",
    "            with open(output_name, 'wb') as file:\n",
    "                file.write(last_response.content)\n",
    "                print(f\"File '{output_name}' downloaded successfully.\")\n",
    "        else:\n",
    "            print(f\"Failed to download file. Status code: {last_response.status_code}\")\n",
    "        # print(sub_link[:55])\n",
    "        # print(sub_pdf_url)"
   ]
  }
 ],
 "metadata": {
  "kernelspec": {
   "display_name": "Python 3",
   "language": "python",
   "name": "python3"
  },
  "language_info": {
   "codemirror_mode": {
    "name": "ipython",
    "version": 3
   },
   "file_extension": ".py",
   "mimetype": "text/x-python",
   "name": "python",
   "nbconvert_exporter": "python",
   "pygments_lexer": "ipython3",
   "version": "3.9.6"
  },
  "orig_nbformat": 4
 },
 "nbformat": 4,
 "nbformat_minor": 2
}
