{
 "cells": [
  {
   "cell_type": "code",
   "execution_count": 1,
   "metadata": {},
   "outputs": [],
   "source": [
    "import pandas as pd\n",
    "import numpy as np\n",
    "import matplotlib.pyplot as mpt\n",
    "import os\n",
    "import geopandas as gpd\n",
    "from glob import glob\n",
    "from gtfs_functions import Feed"
   ]
  },
  {
   "cell_type": "markdown",
   "metadata": {},
   "source": [
    "## Variables:"
   ]
  },
  {
   "cell_type": "code",
   "execution_count": null,
   "metadata": {},
   "outputs": [],
   "source": [
    "gtfs_path = \"CT_GTFS.zip\" #update this if needed\n",
    "current_stops_data = \"Stops Sorted.xlsx\"\n",
    "future_stops_data = \"Stops Sorted Future Network.xlsx\"\n",
    "current_cov = 'PTN service coverage.csv'\n",
    "future_cov = 'Future Transit Service Coverage.csv'\n",
    "demand_2 = \"TotalDemandIndexStandardized.xlsx\"\n",
    "comm_file = 'demand.csv'\n",
    "census_file = \"Census by Community 2019_20240401.geojson\"\n",
    "red_code = '201-20718'\n",
    "blue_code = '202-20718'\n",
    "orange_code = '303-20727'\n",
    "yellow_code = '304-20727'\n",
    "teal_code = '306-20727'\n",
    "purple_code = '307-20727'\n",
    "comm_list = []\n",
    "red_list = []\n",
    "blue_list = []\n",
    "orange_list = []\n",
    "yellow_list = []\n",
    "purple_list = []\n",
    "teal_list = []"
   ]
  },
  {
   "cell_type": "markdown",
   "metadata": {},
   "source": [
    "# Functions Required"
   ]
  },
  {
   "cell_type": "code",
   "execution_count": null,
   "metadata": {},
   "outputs": [],
   "source": [
    "def assign_grade(score):\n",
    "    for grade, boundary in grade_boundaries.items():\n",
    "        if score >= boundary:\n",
    "            return grade\n",
    "    return 'F'"
   ]
  },
  {
   "cell_type": "code",
   "execution_count": null,
   "metadata": {},
   "outputs": [],
   "source": [
    "def assign_time(time_list):\n",
    "    time_format_list = [t+':00' for t in time_list]\n",
    "    return time_format_list"
   ]
  },
  {
   "cell_type": "markdown",
   "metadata": {},
   "source": [
    "# Generate Dataset for SF and SC"
   ]
  },
  {
   "cell_type": "markdown",
   "metadata": {},
   "source": [
    "## Input Required:"
   ]
  },
  {
   "cell_type": "code",
   "execution_count": null,
   "metadata": {},
   "outputs": [],
   "source": [
    "t = input(\"Input time range and separate by comma (eg. 6am-9am: 6,7,8,9):\")\n",
    "t_l = t.split(',')\n",
    "time_range_list = assign_time(t_l)\n",
    "pattern = '|'.join(time_range_list)"
   ]
  },
  {
   "cell_type": "markdown",
   "metadata": {},
   "source": [
    "## Generate Data Set Via GTFS:"
   ]
  },
  {
   "cell_type": "code",
   "execution_count": null,
   "metadata": {},
   "outputs": [],
   "source": [
    "feed = Feed(gtfs_path, time_windows=[0,1,2,3,4,5,6,7,8,9,10,11,12,13,14,15,16,17,18,19,20,21,22,23,24])\n",
    "line_freq = feed.lines_freq\n",
    "ptn = line_freq.loc[line_freq[\"route_name\"].str.contains(\"Line|MAX\")].sort_values(by=['window'])\n",
    "input_hour_performance = ptn.loc[ptn['window'].str.contains(pattern)].sort_values(by=['route_name'])\n",
    "n_trips = input_hour_performance.groupby('route_id')['ntrips'].sum()\n",
    "mean_min_per_trip = input_hour_performance.groupby('route_id')['min_per_trip'].mean()\n",
    "median_min_per_trip = input_hour_performance.groupby('route_id')['min_per_trip'].median()"
   ]
  },
  {
   "cell_type": "markdown",
   "metadata": {},
   "source": [
    "# SF/SC Through Stops Sorted"
   ]
  },
  {
   "cell_type": "markdown",
   "metadata": {},
   "source": [
    "## Input Required:"
   ]
  },
  {
   "cell_type": "code",
   "execution_count": null,
   "metadata": {},
   "outputs": [],
   "source": [
    "while True:\n",
    "    try:\n",
    "        bus_capacity = int(input(\"Enter the capacity of busses (Only integer value accepted): \"))\n",
    "        train_capacity = int(input(\"Enter the capacity of trains (Only integer value accepted): \"))\n",
    "        break\n",
    "    except ValueError:\n",
    "        # If the input is not a valid integer, print an error message and continue the loop\n",
    "        print(\"Please enter a valid integer value.\")"
   ]
  },
  {
   "cell_type": "markdown",
   "metadata": {},
   "source": [
    "## Analysis SF/SC:"
   ]
  },
  {
   "cell_type": "code",
   "execution_count": null,
   "metadata": {},
   "outputs": [],
   "source": [
    "blue_trips = n_trips.loc[blue_code]\n",
    "blue_freq = median_min_per_trip.loc[blue_code]\n",
    "red_trips = n_trips.loc[red_code]\n",
    "red_freq = median_min_per_trip.loc[red_code]\n",
    "orange_trips = n_trips.loc[orange_code]\n",
    "orange_freq = median_min_per_trip.loc[orange_code]\n",
    "teal_trips = n_trips.loc[teal_code]\n",
    "teal_freq = median_min_per_trip.loc[teal_code]\n",
    "yellow_trips = n_trips.loc[yellow_code]\n",
    "yellow_freq = median_min_per_trip.loc[yellow_code]\n",
    "purple_trips = n_trips.loc[purple_code]\n",
    "purple_freq = median_min_per_trip.loc[purple_code]"
   ]
  },
  {
   "cell_type": "code",
   "execution_count": null,
   "metadata": {},
   "outputs": [],
   "source": [
    "comm_data = pd.read_csv(comm_file)\n",
    "stop_df = pd.read_excel(current_stops_data, sheet_name = \"Sheet2\")\n",
    "stop_df['Community'] = stop_df['Community'].str.rstrip('\\n').str.replace('\\n',',')"
   ]
  },
  {
   "cell_type": "code",
   "execution_count": null,
   "metadata": {},
   "outputs": [],
   "source": [
    "for index, row in stop_df.iterrows():\n",
    "    if 'Line' in row['Line']:\n",
    "        if 'Red' in row['Line']:\n",
    "            red_list.extend([com for com in row['Community'].split(',')])\n",
    "        else:\n",
    "            blue_list.extend([com for com in row['Community'].split(',')])\n",
    "    else:\n",
    "        if 'Orange' in row['Line']:\n",
    "            orange_list.extend([com for com in row['Community'].split(',')])\n",
    "        elif 'Purple' in row['Line']:\n",
    "            purple_list.extend([com for com in row['Community'].split(',')])\n",
    "        elif 'Teal' in row['Line']:\n",
    "            teal_list.extend([com for com in row['Community'].split(',')])\n",
    "        else:\n",
    "            yellow_list.extend([com for com in row['Community'].split(',')])\n",
    "            \n",
    "comm_list = list(set(red_list+blue_list+orange_list+purple_list+teal_list+yellow_list))\n",
    "clean_com_list = [item for item in comm_list if item.strip()]\n",
    "service_df = pd.DataFrame(clean_com_list, columns=[\"Community\"]).sort_values(by=\"Community\")\n",
    "\n",
    "service_df[\"Red Trips\"] = service_df[\"Community\"].isin(red_list) * red_trips\n",
    "service_df[\"Red Freq\"] = service_df[\"Community\"].isin(red_list) * red_freq\n",
    "service_df[\"Blue Trips\"] = service_df[\"Community\"].isin(blue_list) * blue_trips\n",
    "service_df[\"Blue Freq\"] = service_df[\"Community\"].isin(blue_list) * blue_freq\n",
    "service_df[\"Orange Trips\"] = service_df[\"Community\"].isin(orange_list) * orange_trips\n",
    "service_df[\"Orange Freq\"] = service_df[\"Community\"].isin(orange_list) * orange_freq\n",
    "service_df[\"Yellow Trips\"] = service_df[\"Community\"].isin(yellow_list) * yellow_trips\n",
    "service_df[\"Yellow Freq\"] = service_df[\"Community\"].isin(yellow_list) * yellow_freq\n",
    "service_df[\"Teal Trips\"] = service_df[\"Community\"].isin(teal_list) * teal_trips\n",
    "service_df[\"Teal Freq\"] = service_df[\"Community\"].isin(teal_list) * teal_freq\n",
    "service_df[\"Purple Trips\"] = service_df[\"Community\"].isin(purple_list) * purple_trips\n",
    "service_df[\"Purple Freq\"] = service_df[\"Community\"].isin(purple_list) * purple_freq\n",
    "\n",
    "# Merge the two DataFrames on the 'Community' and 'Community Name' columns\n",
    "merged_data = pd.merge(service_df, comm_data, left_on='Community', right_on='Community Name', how='right')\n",
    "\n",
    "# Update the 'Population' column in sup_fc with the corresponding values from comm_data\n",
    "service_df['Population'] = service_df['Community'].apply(\n",
    "    lambda x: merged_data.loc[merged_data['Community Name'] == x, 'Population in private households'].iloc[0]\n",
    "    if x in merged_data['Community Name'].tolist() else 0\n",
    ")\n",
    "\n",
    "# dropping rows that have no population:\n",
    "service_df = service_df[service_df['Population'] != 0]\n",
    "\n",
    "# Calculate Index\n",
    "service_df[\"Frequency Index\"] = service_df.filter(like=\"Freq\").sum(axis=1)\n",
    "service_df['Total Trips'] = service_df.filter(regex=\"Red Trips|Blue Trips\").sum(axis=1)*train_capacity + service_df.filter(regex=\"Orange Trips|Yellow Trips|Teal Trips|Yellow Trips|Purple Trips\").sum(axis=1)*bus_capacity\n",
    "service_df[\"Capacity Index\"] = service_df['Total Trips']/service_df.filter(like='Population').sum(axis=1)\n",
    "\n",
    "min_freq = min(service_df['Frequency Index'])\n",
    "max_freq = max(service_df['Frequency Index'])\n",
    "min_cap = min(service_df['Capacity Index'])\n",
    "max_cap = max(service_df['Capacity Index'])\n",
    "\n",
    "service_df['SS Frequency Index'] = (service_df['Frequency Index']-min_freq)/(max_freq-min_freq)\n",
    "service_df['SS Capacity Index'] = (service_df['Capacity Index']-min_cap)/(max_cap-min_cap)"
   ]
  },
  {
   "cell_type": "markdown",
   "metadata": {},
   "source": [
    "# SF SC SC"
   ]
  },
  {
   "cell_type": "code",
   "execution_count": null,
   "metadata": {},
   "outputs": [],
   "source": [
    "curr_cov_file = pd.read_csv(current_cov)\n",
    "\n",
    "supply_df_upper = service_df.copy()\n",
    "supply_df_upper['Community'] = supply_df_upper['Community'].str.upper()\n",
    "\n",
    "merged_data = pd.merge(supply_df_upper, curr_cov_file, how='right', left_on='Community', right_on='NAME')\n",
    "\n",
    "final_supply = merged_data[['NAME','SS Frequency Index','SS Capacity Index','SS_Ser_Cov']]\n",
    "\n",
    "final_supply = final_supply.rename(columns={'SS_Ser_Cov':\"SS Coverage Index\"})\n",
    "final_supply = final_supply.fillna(0)\n",
    "\n",
    "final_supply['Average Supply Index'] = final_supply[['SS Frequency Index','SS Capacity Index','SS Coverage Index']].mean(axis=1)"
   ]
  },
  {
   "cell_type": "markdown",
   "metadata": {},
   "source": [
    "# Merge Demand and Supply"
   ]
  },
  {
   "cell_type": "code",
   "execution_count": null,
   "metadata": {},
   "outputs": [],
   "source": [
    "demand_df = pd.read_excel(demand_2) # This will be data that has demand index, so if the data is already in a data frame, use that\n",
    "demand_df['NAME'] = demand_df['NAME'].str.upper()\n",
    "\n",
    "dns_merge = pd.merge(final_supply,demand_df, how='right', left_on='NAME', right_on='NAME')\n",
    "\n",
    "final_current_df = dns_merge[['NAME',\"Low Income Index\",\"Seniors Index\",\"Rent Index\",\"Total Community Index\", \"SS Frequency Index\", \"SS Capacity Index\",'SS Coverage Index',\"Standardized Total Community Index\",\"Average Supply Index\"]]\n",
    "final_current_df = final_current_df.rename(columns={'Standardized Total Community Index': 'Community Demand Index'})\n",
    "final_current_df = final_current_df.fillna(0)\n",
    "\n",
    "final_current_df[\"Transit Gap\"] = final_current_df['Community Demand Index'] - final_current_df['Average Supply Index']\n",
    "\n",
    "percentiles = final_current_df['Transit Gap'].quantile([0.2,0.4,0.6,0.8])\n",
    "\n",
    "grade_boundaries = { # Create percentiles to assign proper letter grade\n",
    "    'A': percentiles[0.8],  # Top 20% get an 'A'\n",
    "    'B': percentiles[0.6],  # Next 20% get a 'B'\n",
    "    'C': percentiles[0.4],  # Next 20% get a 'C'\n",
    "    'D': percentiles[0.2],  # Next 20% get a 'D'\n",
    "    'F': 0                   # Bottom 20% get an 'F'\n",
    "}\n",
    "final_current_df['Letter Grade'] = final_current_df['Transit Gap'].apply(assign_grade)\n",
    "\n"
   ]
  },
  {
   "cell_type": "markdown",
   "metadata": {},
   "source": [
    "# Boundaries + Final Data Set"
   ]
  },
  {
   "cell_type": "code",
   "execution_count": null,
   "metadata": {},
   "outputs": [],
   "source": [
    "comm_geo = gpd.read_file(census_file)\n",
    "dns_bound_data = pd.merge(final_current_df, comm_geo, how='left', left_on='NAME', right_on='name')\n",
    "current_dns = gpd.GeoDataFrame(dns_bound_data[['NAME',\"Low Income Index\",\"Seniors Index\",\"Rent Index\",\"Total Community Index\", \"SS Frequency Index\", \"SS Capacity Index\",'SS Coverage Index',\"Community Demand Index\",\"Average Supply Index\",'Transit Gap','Letter Grade','geometry']])\n"
   ]
  }
 ],
 "metadata": {
  "kernelspec": {
   "display_name": "Python 3",
   "language": "python",
   "name": "python3"
  },
  "language_info": {
   "codemirror_mode": {
    "name": "ipython",
    "version": 3
   },
   "file_extension": ".py",
   "mimetype": "text/x-python",
   "name": "python",
   "nbconvert_exporter": "python",
   "pygments_lexer": "ipython3",
   "version": "3.9.6"
  }
 },
 "nbformat": 4,
 "nbformat_minor": 2
}
