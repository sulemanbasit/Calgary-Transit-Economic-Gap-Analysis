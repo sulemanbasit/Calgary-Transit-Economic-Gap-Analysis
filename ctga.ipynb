{
 "cells": [
  {
   "cell_type": "code",
   "execution_count": null,
   "metadata": {},
   "outputs": [],
   "source": [
    "# !pip3 install matplotlib\n",
    "# !pip3 install tabula-py\n",
    "# !pip3 install PyPDF2\n",
    "# !pip3 install pdfminer.six\n",
    "# !pip3 install PyMuPDF\n",
    "# !pip3 install camelot-py\n",
    "# !pip3 install --upgrade pip\n",
    "# !pip3 install geopandas\n",
    "# !pip3 install plotly\n",
    "# !pip3 install pandas\n",
    "# !pip3 install pdfplumber\n",
    "# !pip3 install scipy\n",
    "# !pip3 install --upgrade pandas\n",
    "# !pip3 install arcgis\n",
    "# !pip3 install json\n",
    "# !pip3 install gtfs_functions\n",
    "# !pip3 install keplergl"
   ]
  },
  {
   "cell_type": "code",
   "execution_count": null,
   "metadata": {},
   "outputs": [],
   "source": [
    "import pandas as pd\n",
    "import numpy as np\n",
    "import matplotlib as mpt\n",
    "import os\n",
    "# import PyPDF2\n",
    "# import tabula\n",
    "# import tabulate\n",
    "# import pdfminer\n",
    "import geopandas as gpd\n",
    "import fiona\n",
    "from glob import glob\n",
    "import plotly.express as px\n",
    "from shapely.geometry import Point, MultiPolygon\n",
    "from shapely import wkt\n",
    "# import pdfplumber\n",
    "import scipy\n",
    "import json\n",
    "# import arcgis\n",
    "from gtfs_functions import Feed\n",
    "from gtfs_functions.gtfs_plots import map_gdf\n",
    "# import keplergl as kpl\n"
   ]
  },
  {
   "cell_type": "code",
   "execution_count": null,
   "metadata": {},
   "outputs": [],
   "source": [
    "\n",
    "def save_to_csv(df, output_folder, file_name):\n",
    "    \"\"\"AI is creating summary for save_to_csv\n",
    "\n",
    "    Args:\n",
    "        df (Pandas Data Frame): Contains data frame that needs to be converted and saved as csv\n",
    "        output_folder (Str): Destination path where df needs to be saved\n",
    "        file_name (Str): File name that df needs to be saved as\n",
    "    \"\"\"\n",
    "    # Check if the output folder exists, if not, create it\n",
    "    if not os.path.exists(output_folder):\n",
    "        os.makedirs(output_folder)\n",
    "\n",
    "    # Define the output file path\n",
    "    output_file_path = os.path.join(output_folder, file_name)\n",
    "    \n",
    "    # Save the DataFrame to CSV in the output folder\n",
    "    df.to_csv(output_file_path, index=False)\n",
    "    print(f\"DataFrame saved to: {output_file_path}\")\n"
   ]
  },
  {
   "cell_type": "code",
   "execution_count": null,
   "metadata": {},
   "outputs": [],
   "source": [
    "def convert_data (file_path):\n",
    "    \"\"\"\n",
    "    Function to convert files of appropriate structure to csv format, creating point object with files that have lat and lon values\n",
    "\n",
    "    Args:\n",
    "        file_path (str): File Path to open and convert to csv file format\n",
    "    \"\"\"\n",
    "    df = pd.read_csv(file_path)\n",
    "    output_folder_path = os.getcwd()+\"/Data Sets/Analysis Data/\"\n",
    "    # print(output_folder_path)\n",
    "    output_file_name = file_path.split('/')[-1].split('.')[0] + \".csv\"\n",
    "    # output_destination = os.path.join(output_folder_path, output_file_name)\n",
    "    # if 'lat' in str(df.columns) and 'lon' in str(df.columns):\n",
    "    #     lat = \"\"\n",
    "    #     lon = \"\"\n",
    "    #     for col in df.columns:\n",
    "    #         if str(col).endswith('lat'):\n",
    "    #             lat = str(col)\n",
    "    #         elif str(col).endswith('lon'):\n",
    "    #             lon = str(col)\n",
    "    #     df_geo = gpd.GeoDataFrame(df, geometry=gpd.points_from_xy(df[lat],df[lon]))\n",
    "    #     if not os.path.exists(output_folder_path):\n",
    "    #         os.make_dir(output_folder_path)\n",
    "    #     # df_geo.drop(columns=[lat, lon]).to_csv(output_destination, index = False)\n",
    "    #     final_df = df_geo.drop(columns=[lat, lon])\n",
    "    #     save_to_csv(final_df, output_folder_path, output_file_name)\n",
    "    #     print(\"{} saved in {}\".format(output_file_name, output_folder_path))\n",
    "    # else:\n",
    "    # df.to_csv(output_destination, index=False)\n",
    "    save_to_csv(df, output_folder_path, output_file_name)\n",
    "    print(\"{} saved in {}\".format(output_file_name, output_folder_path))"
   ]
  },
  {
   "cell_type": "code",
   "execution_count": null,
   "metadata": {},
   "outputs": [],
   "source": [
    "data_path = os.getcwd()+\"/Data Sets/CT_GTFS/\"\n",
    "# ignore_file = ['agency.txt', \"calendar.txt\",\"calendar_dates.txt\"]\n",
    "convert_data(data_path+\"shapes.txt\")\n",
    "# Loop through files in the folder\n",
    "# for filename in os.listdir(data_path):\n",
    "#     # print(filename)\n",
    "#     file_path = data_path + filename\n",
    "#     if os.path.isfile(file_path) and filename not in ignore_file:\n",
    "#         try:\n",
    "#             with open(file_path, 'r', encoding='utf-8') as file:\n",
    "#                 # Assuming text files, read the content\n",
    "#                 content = file.read()\n",
    "#                 # Do something with the content\n",
    "#                 convert_data(content)\n",
    "#         except UnicodeDecodeError:\n",
    "#             print(\"Error decoding file:\", file_path)\n",
    "#             continue"
   ]
  },
  {
   "cell_type": "markdown",
   "metadata": {},
   "source": [
    "# Program To Calculate Demand Index Using Z-Method"
   ]
  },
  {
   "cell_type": "code",
   "execution_count": null,
   "metadata": {},
   "outputs": [],
   "source": [
    "community_data_path = os.getcwd()+\"/Data Sets/Analysis Data/Community Profiles Compiled.xlsx\""
   ]
  },
  {
   "cell_type": "code",
   "execution_count": null,
   "metadata": {},
   "outputs": [],
   "source": [
    "comm_df = pd.read_excel(community_data_path)\n",
    "# comm_df.head()"
   ]
  },
  {
   "cell_type": "code",
   "execution_count": null,
   "metadata": {},
   "outputs": [],
   "source": [
    "comm_df.head()"
   ]
  },
  {
   "cell_type": "code",
   "execution_count": null,
   "metadata": {},
   "outputs": [],
   "source": [
    "output_folder_path = os.getcwd()+\"/Data Sets/Analysis Data\""
   ]
  },
  {
   "cell_type": "code",
   "execution_count": null,
   "metadata": {},
   "outputs": [],
   "source": [
    "#Z-Score method manually\n",
    "pop_mean = comm_df['Population in private households'].mean()\n",
    "pop_std = comm_df['Population in private households'].std()\n",
    "\n",
    "\n",
    "medinc_mean = comm_df[\"Median household income of private households\"].mean()\n",
    "medinc_std = comm_df[\"Median household income of private households\"].std()\n",
    "\n",
    "low_mean = comm_df['Population in private households to whom low income concepts are applicable (Number in low income)'].mean()\n",
    "low_std = comm_df['Population in private households to whom low income concepts are applicable (Number in low income)'].std()\n",
    "\n",
    "trans_mean = ((comm_df['Employed']/comm_df[\"Employed labour force aged 15 years and over in private households\"])*comm_df['Public transit']).mean()\n",
    "trans_std = ((comm_df['Employed']/comm_df[\"Employed labour force aged 15 years and over in private households\"])*comm_df['Public transit']).std()\n",
    "\n",
    "rent_mean = (comm_df['Per cent households with income spending 30% or more total income on shelter (Renter)']*comm_df['Private households with total income greater than zero (Renter)']).mean()\n",
    "rent_std = (comm_df['Per cent households with income spending 30% or more total income on shelter (Renter)']*comm_df['Private households with total income greater than zero (Renter)']).std()\n",
    "\n",
    "seniors_mean = comm_df['65 to 84 years'].mean()\n",
    "seniors_std = comm_df['65 to 84 years'].std()"
   ]
  },
  {
   "cell_type": "code",
   "execution_count": null,
   "metadata": {},
   "outputs": [],
   "source": [
    "row, col = comm_df.shape\n",
    "z_rows_to_append = []\n",
    "for c in range(row):\n",
    "    community = comm_df['Community Name'][c]\n",
    "    \n",
    "    pop = comm_df['Population in private households'][c]\n",
    "    # pop_ss = (pop-pop_max)/(pop_max-pop_min)\n",
    "    z_pop_score = (pop-pop_mean)/pop_std\n",
    "    \n",
    "    med = comm_df['Median household income of private households'][c]\n",
    "    # med_ss = (med-medinc_max)/(medinc_max-medinc_min)\n",
    "    z_med_score = (med-medinc_mean)/medinc_std\n",
    "    \n",
    "    trans = ((comm_df['Employed']/comm_df[\"Employed labour force aged 15 years and over in private households\"])*comm_df['Public transit'])[c]\n",
    "    # trans_ss = (trans-trans_max)/(trans_max-trans_min)\n",
    "    z_trans_score = (trans-trans_mean)/trans_std\n",
    "    \n",
    "    rent = (comm_df['Per cent households with income spending 30% or more total income on shelter (Renter)']*comm_df['Private households with total income greater than zero (Renter)'])[c]\n",
    "    # rent_ss = (rent-rent_max)/(rent_max-rent_min)\n",
    "    z_rent_score = (rent-rent_mean)/rent_std\n",
    "    \n",
    "    low = comm_df['Population in private households to whom low income concepts are applicable (Number in low income)'][c]\n",
    "    # low_ss = (low-low_max)/(low_max-low_min)\n",
    "    z_low_score = (low-low_mean)/low_std\n",
    "\n",
    "    sen = comm_df['65 to 84 years'][c]\n",
    "    z_seniors_score = (sen-seniors_mean)/seniors_std\n",
    "\n",
    "    z_result = z_trans_score+z_rent_score+z_low_score-z_med_score+z_seniors_score\n",
    "    # z_result = z_trans_score+z_rent_score+z_low_score+z_seniors_score\n",
    "\n",
    "    column_df = {\"Community Name\": community, \"Z Score\": z_result}\n",
    "    columns_df = {\"Community Name\": community, \"Low Income Index\": z_low_score, \"Seniors Index\": z_seniors_score, \"Public Transit Index\": z_trans_score, \"Rent Index\": z_rent_score, \"Median Income\": z_med_score}\n",
    "    z_rows_to_append.append(column_df)\n",
    "\n",
    "\n",
    "Z_index_df = pd.DataFrame(z_rows_to_append)"
   ]
  },
  {
   "cell_type": "code",
   "execution_count": null,
   "metadata": {},
   "outputs": [],
   "source": [
    "Z_index_df.head()"
   ]
  },
  {
   "cell_type": "code",
   "execution_count": null,
   "metadata": {},
   "outputs": [],
   "source": [
    "z_max = Z_index_df['Z Score'].max()\n",
    "z_min = Z_index_df['Z Score'].min()"
   ]
  },
  {
   "cell_type": "code",
   "execution_count": null,
   "metadata": {},
   "outputs": [],
   "source": [
    "print(z_max)\n",
    "print(z_min)"
   ]
  },
  {
   "cell_type": "code",
   "execution_count": null,
   "metadata": {},
   "outputs": [],
   "source": [
    "row, col = Z_index_df.shape\n",
    "z_ss_rows = []\n",
    "for c in range(row):\n",
    "    community = Z_index_df[\"Community Name\"][c]\n",
    "    z_score = Z_index_df['Z Score'][c]\n",
    "\n",
    "    z_ss_result = (z_score-z_min)/(z_max-z_min)\n",
    "\n",
    "    column_df = {\"Community Name\": community, \"Z Score\": z_ss_result}\n",
    "    z_ss_rows.append(column_df)\n",
    "    \n",
    "z_ss_index_df = pd.DataFrame(z_ss_rows)"
   ]
  },
  {
   "cell_type": "code",
   "execution_count": null,
   "metadata": {},
   "outputs": [],
   "source": [
    "z_ss_index_df.head()"
   ]
  },
  {
   "cell_type": "code",
   "execution_count": null,
   "metadata": {},
   "outputs": [],
   "source": [
    "save_to_csv(z_ss_index_df, output_folder_path, 'Z Standardized Demand Index.csv')"
   ]
  },
  {
   "cell_type": "markdown",
   "metadata": {},
   "source": [
    "# Program To Visualize ArcGis Data"
   ]
  },
  {
   "cell_type": "code",
   "execution_count": null,
   "metadata": {},
   "outputs": [],
   "source": [
    "gis_link = \"https://ucalgary.maps.arcgis.com\"\n",
    "gis_user = \"sbasit_ucalgary\"\n",
    "gis_pass = \"Sa5nar9(\""
   ]
  },
  {
   "cell_type": "code",
   "execution_count": null,
   "metadata": {},
   "outputs": [],
   "source": [
    "my_gis = arcgis.GIS(gis_link,gis_user,gis_pass)"
   ]
  },
  {
   "cell_type": "code",
   "execution_count": null,
   "metadata": {},
   "outputs": [],
   "source": [
    "help(arcgis.GIS)"
   ]
  },
  {
   "cell_type": "code",
   "execution_count": null,
   "metadata": {},
   "outputs": [],
   "source": [
    "my_gis = arcgis.GIS(api_key = \"AAPK049cf86d96f4462ba33f8b661792d2f0z748Z0jNex7rIOx45MLoRtWEUFk5CElu0-Obz_3bxUwj9_Q8MI398NcMkS9xWe5F\")"
   ]
  },
  {
   "cell_type": "code",
   "execution_count": null,
   "metadata": {},
   "outputs": [],
   "source": [
    "map = my_gis.map(\"d343d4c8db7343368ad524174e793da1\")"
   ]
  },
  {
   "cell_type": "code",
   "execution_count": null,
   "metadata": {},
   "outputs": [],
   "source": [
    "map"
   ]
  },
  {
   "cell_type": "markdown",
   "metadata": {},
   "source": [
    "# Join Multipolygon Data To Profile"
   ]
  },
  {
   "cell_type": "code",
   "execution_count": 49,
   "metadata": {},
   "outputs": [],
   "source": [
    "folder_path = os.getcwd()+\"/Data Sets/Analysis Data/\"\n",
    "comm_file = \"Community Profiles Compiled.xlsx\"\n",
    "bound_file = \"Boundraries_Data_by_Community .csv\"\n",
    "z_index_file = \"Z Standardized Demand Index.csv\"\n",
    "census_file = \"Census by Community 2019_20240401.geojson\""
   ]
  },
  {
   "cell_type": "code",
   "execution_count": 54,
   "metadata": {},
   "outputs": [],
   "source": [
    "comm_data = pd.read_excel(folder_path+comm_file)\n",
    "comm_bound = gpd.read_file(folder_path+census_file)\n",
    "z_index = pd.read_csv(folder_path+z_index_file)"
   ]
  },
  {
   "cell_type": "code",
   "execution_count": null,
   "metadata": {},
   "outputs": [],
   "source": [
    "comm_bound.columns"
   ]
  },
  {
   "cell_type": "code",
   "execution_count": null,
   "metadata": {},
   "outputs": [],
   "source": [
    "comm_bound_lower = comm_bound.copy()\n",
    "comm_bound_lower['name'] = comm_bound_lower['name'].str.lower()\n",
    "comm_data_lower = comm_data.copy()\n",
    "comm_data_lower['Community Name'] = comm_data_lower['Community Name'].str.lower()\n",
    "comm_z_lower = z_index.copy()\n",
    "comm_z_lower[\"Community Name\"] = comm_z_lower['Community Name'].str.lower()\n",
    "\n",
    "# Merge the DataFrames based on the lower case names\n",
    "# merged_data = pd.merge(comm_data_lower, comm_bound_lower, left_on='Community Name', right_on='NAME', how='inner')\n",
    "merged_data = pd.merge(comm_z_lower, comm_bound_lower, how='left', left_on='Community Name', right_on='name')\n",
    "\n",
    "# Convert back to original case if needed\n",
    "merged_data['name'] = comm_bound['name']  # Assuming you want to keep the original case for boundary names\n",
    "merged_data['Community Name'] = comm_data['Community Name']  # Assuming you want to keep the original case for community names\n",
    "\n",
    "# Now merged_data contains the rows where the names match, regardless of case"
   ]
  },
  {
   "cell_type": "code",
   "execution_count": null,
   "metadata": {},
   "outputs": [],
   "source": [
    "merged_data.head()"
   ]
  },
  {
   "cell_type": "code",
   "execution_count": null,
   "metadata": {},
   "outputs": [],
   "source": [
    "sub_set_data = merged_data[[\"Community Name\",\"Z Score\", \"geometry\"]]"
   ]
  },
  {
   "cell_type": "code",
   "execution_count": null,
   "metadata": {},
   "outputs": [],
   "source": [
    "sub_set_data.head()\n",
    "type(sub_set_data['geometry'][1])"
   ]
  },
  {
   "cell_type": "code",
   "execution_count": null,
   "metadata": {},
   "outputs": [],
   "source": [
    "gpd_data = gpd.GeoDataFrame(sub_set_data, geometry=\"geometry\")"
   ]
  },
  {
   "cell_type": "code",
   "execution_count": null,
   "metadata": {},
   "outputs": [],
   "source": [
    "gpd_data.to_file(folder_path+\"Community_Z_Boundary.geojson\", driver=\"GeoJSON\")"
   ]
  },
  {
   "cell_type": "markdown",
   "metadata": {},
   "source": [
    "# Calculate Supply Frequency"
   ]
  },
  {
   "cell_type": "code",
   "execution_count": null,
   "metadata": {},
   "outputs": [],
   "source": [
    "gtfs_path = os.getcwd()+\"/Data Sets/CT_GTFS.zip\"\n",
    "feed = Feed(gtfs_path, start_date = \"2024-02-19\", end_date = \"2024-02-23\", time_windows=[0,1,2,3,4,5,6,7,8,9,10,11,12,13,14,15,16,17,18,19,20,21,22,23,24])"
   ]
  },
  {
   "cell_type": "code",
   "execution_count": null,
   "metadata": {},
   "outputs": [],
   "source": [
    "routes = feed.routes\n",
    "trips = feed.trips\n",
    "stops = feed.stops\n",
    "stop_times = feed.stop_times\n",
    "shapes = feed.shapes"
   ]
  },
  {
   "cell_type": "code",
   "execution_count": null,
   "metadata": {},
   "outputs": [],
   "source": [
    "feed = Feed(gtfs_path,start_date=\"2024-02-17\", end_date=\"2024-02-17\")\n",
    "stop_freq = feed.stops_freq"
   ]
  },
  {
   "cell_type": "code",
   "execution_count": null,
   "metadata": {},
   "outputs": [],
   "source": [
    "stop_list = [3641, 3816, 3817, 3960, 4155, 4934, 6801, 6802, 6803, 6804, 6805, 6806, 6807, 6815, 6816, 6817, 6818, 6819, 6820, 6822, 6823, 6824, 6825, 6827, 6828, 6829, 6830, 6831, 8556, 8557, 8558, 8559, 8560, 8561, 8562, 8563, 8564, 8565, 8566, 9261, 9262, 9263, 9264, 9387, 9390, 9391, 9392, 3627, 3628, 3629, 3630, 3631, 3632, 3633, 3634, 3635, 3636, 3637, 3638, 3639, 6747, 6808, 6809, 6810, 6811, 6812, 6813, 6814, 6825, 6831, 8567, 8568, 8569, 8570, 8571, 8572, 9385, 9396, 9781, 9896, 9897, 2350, 2376, 2793, 2794, 2795, 2796, 2797, 2798, 2799, 2800, 2801, 2802, 2803, 3495, 5701, 5703, 5718, 5730, 5731, 5732, 5734, 5789, 6048, 6724, 6846, 7281, 7759, 7762, 7763, 7764, 7881, 7892, 8157, 8161, 8162, 8163, 8215, 9400, 9407, 9409, 9430, 9439, 9617, 3368, 3370, 3371, 3372, 3380, 3381, 3382, 3383, 3384, 3751, 3761, 4567, 4568, 4582, 4583, 5147, 5385, 5630, 5752, 5754, 5767, 5769, 6099, 6110, 6111, 6586, 6982, 8038, 8368, 9174, 9178, 9828, 2469, 2486, 2487, 2488, 2489, 2498, 3371, 3531, 3744, 3745, 3746, 3747, 3748, 3755, 3756, 3764, 3765, 3766, 3767, 3870, 5762, 5763, 6119, 6982, 9453, 9935, 2178, 2180, 2234, 2299, 2788, 3387, 3388, 3389, 3390, 3391, 3392, 3886, 4352, 5057, 7380, 8271, 8653, 8832, 9802, 9805, 9807, 9808, 9809, 9810, 9815, 9816, 9817, 9818, 9820, 9821]\n",
    "stop_list_str = [str(x) for x in stop_list]\n",
    "# stop_freq.loc[stop_freq[\"stop_id\"].isin(stop_list_str)].sort_values(by='stop_id').to_excel(\"PTN_stop_frequency.xlsx\")\n",
    "stop_freq.loc[stop_freq[\"stop_id\"].isin(stop_list_str)].sort_values(by='stop_id')\n",
    "# type(stop_freq[\"stop_id\"][1])\n",
    "# stop_freq"
   ]
  },
  {
   "cell_type": "code",
   "execution_count": null,
   "metadata": {},
   "outputs": [],
   "source": [
    "line_freq = feed.lines_freq"
   ]
  },
  {
   "cell_type": "code",
   "execution_count": null,
   "metadata": {},
   "outputs": [],
   "source": [
    "line_freq.loc[line_freq[\"route_name\"].str.contains(\"Line|MAX\")].sort_values(by=['window']).to_excel(\"Lines_Frequency.xlsx\")\n",
    "# line_freq.loc[line_freq[\"route_name\"].str.contains(\"Line|MAX\")]"
   ]
  },
  {
   "cell_type": "code",
   "execution_count": null,
   "metadata": {},
   "outputs": [],
   "source": [
    "feed.routes_patterns.loc[feed.routes_patterns[\"route_name\"].str.contains(\"Line|MAX\")]"
   ]
  },
  {
   "cell_type": "code",
   "execution_count": null,
   "metadata": {},
   "outputs": [],
   "source": [
    "seg = feed.segments"
   ]
  },
  {
   "cell_type": "code",
   "execution_count": null,
   "metadata": {},
   "outputs": [],
   "source": [
    "seg.loc[seg[\"route_name\"].str.contains(\"MAX|Line\")]"
   ]
  },
  {
   "cell_type": "code",
   "execution_count": null,
   "metadata": {},
   "outputs": [],
   "source": [
    "feed = Feed(gtfs_path,start_date=\"2024-02-17\", end_date=\"2024-02-17\")\n",
    "\n",
    "feed.stop_times.fillna('', inplace=True)\n",
    "feed.trips.fillna('', inplace=True)\n",
    "# Repeat for other DataFrame attributes as needed\n",
    "\n",
    "# Now call get_segments_freq()\n",
    "segments_freq = feed.segments_freq"
   ]
  },
  {
   "cell_type": "code",
   "execution_count": null,
   "metadata": {},
   "outputs": [],
   "source": [
    "filtered_segments = segments_freq.loc[segments_freq[\"route_name\"].str.contains(\"MAX|Line\")]"
   ]
  },
  {
   "cell_type": "code",
   "execution_count": null,
   "metadata": {},
   "outputs": [],
   "source": [
    "map = kpl.KeplerGl(data=dict(data = filtered_segments, name = \"PTN_segments\"), config= ptn_config, height = 750)\n",
    "map.add_data(gpd_data, name=\"Community\")\n",
    "map"
   ]
  },
  {
   "cell_type": "code",
   "execution_count": null,
   "metadata": {},
   "outputs": [],
   "source": [
    "ptn_config = map.config"
   ]
  },
  {
   "cell_type": "markdown",
   "metadata": {},
   "source": [
    "# Supply Frequency and Capacity"
   ]
  },
  {
   "cell_type": "code",
   "execution_count": 29,
   "metadata": {},
   "outputs": [],
   "source": [
    "data_path = os.getcwd()+\"/Data Sets/Analysis Data/\"\n",
    "current_supply_data = \"Supplyside588.xlsx\"\n",
    "future_supply_data = \"Supplyside588 - With future stops Updated.xlsx\""
   ]
  },
  {
   "cell_type": "code",
   "execution_count": 71,
   "metadata": {},
   "outputs": [],
   "source": [
    "blue_trips = 193\n",
    "blue_freq = 8.9333\n",
    "red_trips = 444\n",
    "red_freq = 6.7\n",
    "orange_trips = 98\n",
    "orange_freq = 7.0833\n",
    "teal_trips = 65\n",
    "teal_freq = 15.6923\n",
    "yellow_trips = 75\n",
    "yellow_freq = 9.75\n",
    "purple_trips = 127\n",
    "purple_freq = 20.5172\n",
    "\n",
    "bus_capacity = 65\n",
    "train_capacity = 600\n"
   ]
  },
  {
   "cell_type": "code",
   "execution_count": 32,
   "metadata": {},
   "outputs": [],
   "source": [
    "supply_df = pd.read_excel(data_path+current_supply_data, sheet_name=\"Frequency Index\")\n"
   ]
  },
  {
   "cell_type": "code",
   "execution_count": 33,
   "metadata": {},
   "outputs": [
    {
     "data": {
      "text/html": [
       "<div>\n",
       "<style scoped>\n",
       "    .dataframe tbody tr th:only-of-type {\n",
       "        vertical-align: middle;\n",
       "    }\n",
       "\n",
       "    .dataframe tbody tr th {\n",
       "        vertical-align: top;\n",
       "    }\n",
       "\n",
       "    .dataframe thead th {\n",
       "        text-align: right;\n",
       "    }\n",
       "</style>\n",
       "<table border=\"1\" class=\"dataframe\">\n",
       "  <thead>\n",
       "    <tr style=\"text-align: right;\">\n",
       "      <th></th>\n",
       "      <th>Community</th>\n",
       "      <th>Blue</th>\n",
       "      <th>Red</th>\n",
       "      <th>Orange</th>\n",
       "      <th>Yellow</th>\n",
       "      <th>Purple</th>\n",
       "      <th>Teal</th>\n",
       "      <th>Total</th>\n",
       "      <th>Standardized Score</th>\n",
       "    </tr>\n",
       "  </thead>\n",
       "  <tbody>\n",
       "    <tr>\n",
       "      <th>0</th>\n",
       "      <td>Acadia</td>\n",
       "      <td>0</td>\n",
       "      <td>60</td>\n",
       "      <td>0</td>\n",
       "      <td>0</td>\n",
       "      <td>0</td>\n",
       "      <td>20</td>\n",
       "      <td>80</td>\n",
       "      <td>0.704545</td>\n",
       "    </tr>\n",
       "    <tr>\n",
       "      <th>1</th>\n",
       "      <td>Altadore</td>\n",
       "      <td>0</td>\n",
       "      <td>0</td>\n",
       "      <td>0</td>\n",
       "      <td>18</td>\n",
       "      <td>0</td>\n",
       "      <td>0</td>\n",
       "      <td>18</td>\n",
       "      <td>0.000000</td>\n",
       "    </tr>\n",
       "    <tr>\n",
       "      <th>2</th>\n",
       "      <td>Applewood Park</td>\n",
       "      <td>0</td>\n",
       "      <td>0</td>\n",
       "      <td>0</td>\n",
       "      <td>0</td>\n",
       "      <td>23</td>\n",
       "      <td>0</td>\n",
       "      <td>23</td>\n",
       "      <td>0.056818</td>\n",
       "    </tr>\n",
       "    <tr>\n",
       "      <th>3</th>\n",
       "      <td>Arbour Lake</td>\n",
       "      <td>0</td>\n",
       "      <td>60</td>\n",
       "      <td>0</td>\n",
       "      <td>0</td>\n",
       "      <td>0</td>\n",
       "      <td>0</td>\n",
       "      <td>60</td>\n",
       "      <td>0.477273</td>\n",
       "    </tr>\n",
       "    <tr>\n",
       "      <th>4</th>\n",
       "      <td>Aspen Woods</td>\n",
       "      <td>46</td>\n",
       "      <td>0</td>\n",
       "      <td>0</td>\n",
       "      <td>0</td>\n",
       "      <td>0</td>\n",
       "      <td>0</td>\n",
       "      <td>46</td>\n",
       "      <td>0.318182</td>\n",
       "    </tr>\n",
       "  </tbody>\n",
       "</table>\n",
       "</div>"
      ],
      "text/plain": [
       "        Community  Blue  Red  Orange  Yellow  Purple  Teal  Total  \\\n",
       "0          Acadia     0   60       0       0       0    20     80   \n",
       "1        Altadore     0    0       0      18       0     0     18   \n",
       "2  Applewood Park     0    0       0       0      23     0     23   \n",
       "3     Arbour Lake     0   60       0       0       0     0     60   \n",
       "4     Aspen Woods    46    0       0       0       0     0     46   \n",
       "\n",
       "   Standardized Score  \n",
       "0            0.704545  \n",
       "1            0.000000  \n",
       "2            0.056818  \n",
       "3            0.477273  \n",
       "4            0.318182  "
      ]
     },
     "execution_count": 33,
     "metadata": {},
     "output_type": "execute_result"
    }
   ],
   "source": [
    "supply_df.head()"
   ]
  },
  {
   "cell_type": "code",
   "execution_count": 95,
   "metadata": {},
   "outputs": [],
   "source": [
    "sup_fc = pd.DataFrame()"
   ]
  },
  {
   "cell_type": "code",
   "execution_count": 96,
   "metadata": {},
   "outputs": [],
   "source": [
    "sup_fc['Community'] = supply_df['Community']\n",
    "sup_fc['Blue Trips'] = supply_df['Blue']\n",
    "sup_fc['Blue Freq'] = supply_df['Blue']\n",
    "sup_fc['Red Trips'] = supply_df[\"Red\"]\n",
    "sup_fc['Red Freq'] = supply_df[\"Red\"]\n",
    "sup_fc['Teal Trips'] = supply_df[\"Teal\"]\n",
    "sup_fc['Teal Freq'] = supply_df[\"Teal\"]\n",
    "sup_fc['Orange Trips'] = supply_df[\"Orange\"]\n",
    "sup_fc['Orange Freq'] = supply_df[\"Orange\"]\n",
    "sup_fc['Yellow Trips'] = supply_df[\"Yellow\"]\n",
    "sup_fc['Yellow Freq'] = supply_df[\"Yellow\"]\n",
    "sup_fc['Purple Trips'] = supply_df[\"Purple\"]\n",
    "sup_fc['Purple Freq'] = supply_df[\"Purple\"]"
   ]
  },
  {
   "cell_type": "code",
   "execution_count": 97,
   "metadata": {},
   "outputs": [],
   "source": [
    "sup_fc.loc[(sup_fc['Blue Trips'] != 0),'Blue Trips'] = blue_trips\n",
    "sup_fc.loc[(sup_fc['Blue Freq'] != 0),'Blue Freq'] = blue_freq\n",
    "sup_fc.loc[(sup_fc['Red Trips'] != 0),'Red Trips'] = red_trips\n",
    "sup_fc.loc[(sup_fc['Red Freq'] != 0),'Red Freq'] = red_freq\n",
    "sup_fc.loc[(sup_fc['Orange Trips'] != 0),'Orange Trips'] = orange_trips\n",
    "sup_fc.loc[(sup_fc['Orange Freq'] != 0),'Orange Freq'] = orange_freq\n",
    "sup_fc.loc[(sup_fc['Yellow Trips'] != 0),'Yellow Trips'] = yellow_trips\n",
    "sup_fc.loc[(sup_fc['Yellow Freq'] != 0),'Yellow Freq'] = yellow_freq\n",
    "sup_fc.loc[(sup_fc['Teal Trips'] != 0),'Teal Trips'] = teal_trips\n",
    "sup_fc.loc[(sup_fc['Teal Freq'] != 0),'Teal Freq'] = teal_freq\n",
    "sup_fc.loc[(sup_fc['Purple Trips'] != 0),'Purple Trips'] = purple_trips\n",
    "sup_fc.loc[(sup_fc['Purple Freq'] != 0),'Purple Freq'] = purple_freq"
   ]
  },
  {
   "cell_type": "code",
   "execution_count": 98,
   "metadata": {},
   "outputs": [
    {
     "data": {
      "text/html": [
       "<div>\n",
       "<style scoped>\n",
       "    .dataframe tbody tr th:only-of-type {\n",
       "        vertical-align: middle;\n",
       "    }\n",
       "\n",
       "    .dataframe tbody tr th {\n",
       "        vertical-align: top;\n",
       "    }\n",
       "\n",
       "    .dataframe thead th {\n",
       "        text-align: right;\n",
       "    }\n",
       "</style>\n",
       "<table border=\"1\" class=\"dataframe\">\n",
       "  <thead>\n",
       "    <tr style=\"text-align: right;\">\n",
       "      <th></th>\n",
       "      <th>Community</th>\n",
       "      <th>Blue Trips</th>\n",
       "      <th>Blue Freq</th>\n",
       "      <th>Red Trips</th>\n",
       "      <th>Red Freq</th>\n",
       "      <th>Teal Trips</th>\n",
       "      <th>Teal Freq</th>\n",
       "      <th>Orange Trips</th>\n",
       "      <th>Orange Freq</th>\n",
       "      <th>Yellow Trips</th>\n",
       "      <th>Yellow Freq</th>\n",
       "      <th>Purple Trips</th>\n",
       "      <th>Purple Freq</th>\n",
       "    </tr>\n",
       "  </thead>\n",
       "  <tbody>\n",
       "    <tr>\n",
       "      <th>0</th>\n",
       "      <td>Acadia</td>\n",
       "      <td>0</td>\n",
       "      <td>0.0000</td>\n",
       "      <td>444</td>\n",
       "      <td>6.7</td>\n",
       "      <td>65</td>\n",
       "      <td>15.6923</td>\n",
       "      <td>0</td>\n",
       "      <td>0.0000</td>\n",
       "      <td>0</td>\n",
       "      <td>0.00</td>\n",
       "      <td>0</td>\n",
       "      <td>0.0000</td>\n",
       "    </tr>\n",
       "    <tr>\n",
       "      <th>1</th>\n",
       "      <td>Altadore</td>\n",
       "      <td>0</td>\n",
       "      <td>0.0000</td>\n",
       "      <td>0</td>\n",
       "      <td>0.0</td>\n",
       "      <td>0</td>\n",
       "      <td>0.0000</td>\n",
       "      <td>0</td>\n",
       "      <td>0.0000</td>\n",
       "      <td>75</td>\n",
       "      <td>9.75</td>\n",
       "      <td>0</td>\n",
       "      <td>0.0000</td>\n",
       "    </tr>\n",
       "    <tr>\n",
       "      <th>2</th>\n",
       "      <td>Applewood Park</td>\n",
       "      <td>0</td>\n",
       "      <td>0.0000</td>\n",
       "      <td>0</td>\n",
       "      <td>0.0</td>\n",
       "      <td>0</td>\n",
       "      <td>0.0000</td>\n",
       "      <td>0</td>\n",
       "      <td>0.0000</td>\n",
       "      <td>0</td>\n",
       "      <td>0.00</td>\n",
       "      <td>127</td>\n",
       "      <td>20.5172</td>\n",
       "    </tr>\n",
       "    <tr>\n",
       "      <th>3</th>\n",
       "      <td>Arbour Lake</td>\n",
       "      <td>0</td>\n",
       "      <td>0.0000</td>\n",
       "      <td>444</td>\n",
       "      <td>6.7</td>\n",
       "      <td>0</td>\n",
       "      <td>0.0000</td>\n",
       "      <td>0</td>\n",
       "      <td>0.0000</td>\n",
       "      <td>0</td>\n",
       "      <td>0.00</td>\n",
       "      <td>0</td>\n",
       "      <td>0.0000</td>\n",
       "    </tr>\n",
       "    <tr>\n",
       "      <th>4</th>\n",
       "      <td>Aspen Woods</td>\n",
       "      <td>193</td>\n",
       "      <td>8.9333</td>\n",
       "      <td>0</td>\n",
       "      <td>0.0</td>\n",
       "      <td>0</td>\n",
       "      <td>0.0000</td>\n",
       "      <td>0</td>\n",
       "      <td>0.0000</td>\n",
       "      <td>0</td>\n",
       "      <td>0.00</td>\n",
       "      <td>0</td>\n",
       "      <td>0.0000</td>\n",
       "    </tr>\n",
       "    <tr>\n",
       "      <th>5</th>\n",
       "      <td>Banff Trail</td>\n",
       "      <td>0</td>\n",
       "      <td>0.0000</td>\n",
       "      <td>0</td>\n",
       "      <td>0.0</td>\n",
       "      <td>0</td>\n",
       "      <td>0.0000</td>\n",
       "      <td>98</td>\n",
       "      <td>7.0833</td>\n",
       "      <td>0</td>\n",
       "      <td>0.00</td>\n",
       "      <td>0</td>\n",
       "      <td>0.0000</td>\n",
       "    </tr>\n",
       "    <tr>\n",
       "      <th>6</th>\n",
       "      <td>Banff Trail</td>\n",
       "      <td>0</td>\n",
       "      <td>0.0000</td>\n",
       "      <td>444</td>\n",
       "      <td>6.7</td>\n",
       "      <td>0</td>\n",
       "      <td>0.0000</td>\n",
       "      <td>98</td>\n",
       "      <td>7.0833</td>\n",
       "      <td>0</td>\n",
       "      <td>0.00</td>\n",
       "      <td>0</td>\n",
       "      <td>0.0000</td>\n",
       "    </tr>\n",
       "    <tr>\n",
       "      <th>7</th>\n",
       "      <td>Bayview</td>\n",
       "      <td>0</td>\n",
       "      <td>0.0000</td>\n",
       "      <td>0</td>\n",
       "      <td>0.0</td>\n",
       "      <td>0</td>\n",
       "      <td>0.0000</td>\n",
       "      <td>0</td>\n",
       "      <td>0.0000</td>\n",
       "      <td>75</td>\n",
       "      <td>9.75</td>\n",
       "      <td>0</td>\n",
       "      <td>0.0000</td>\n",
       "    </tr>\n",
       "    <tr>\n",
       "      <th>8</th>\n",
       "      <td>Beltline</td>\n",
       "      <td>0</td>\n",
       "      <td>0.0000</td>\n",
       "      <td>444</td>\n",
       "      <td>6.7</td>\n",
       "      <td>0</td>\n",
       "      <td>0.0000</td>\n",
       "      <td>0</td>\n",
       "      <td>0.0000</td>\n",
       "      <td>75</td>\n",
       "      <td>9.75</td>\n",
       "      <td>127</td>\n",
       "      <td>20.5172</td>\n",
       "    </tr>\n",
       "    <tr>\n",
       "      <th>9</th>\n",
       "      <td>Braeside</td>\n",
       "      <td>0</td>\n",
       "      <td>0.0000</td>\n",
       "      <td>0</td>\n",
       "      <td>0.0</td>\n",
       "      <td>0</td>\n",
       "      <td>0.0000</td>\n",
       "      <td>0</td>\n",
       "      <td>0.0000</td>\n",
       "      <td>75</td>\n",
       "      <td>9.75</td>\n",
       "      <td>0</td>\n",
       "      <td>0.0000</td>\n",
       "    </tr>\n",
       "  </tbody>\n",
       "</table>\n",
       "</div>"
      ],
      "text/plain": [
       "        Community  Blue Trips  Blue Freq  Red Trips  Red Freq  Teal Trips  \\\n",
       "0          Acadia           0     0.0000        444       6.7          65   \n",
       "1        Altadore           0     0.0000          0       0.0           0   \n",
       "2  Applewood Park           0     0.0000          0       0.0           0   \n",
       "3     Arbour Lake           0     0.0000        444       6.7           0   \n",
       "4     Aspen Woods         193     8.9333          0       0.0           0   \n",
       "5     Banff Trail           0     0.0000          0       0.0           0   \n",
       "6     Banff Trail           0     0.0000        444       6.7           0   \n",
       "7         Bayview           0     0.0000          0       0.0           0   \n",
       "8        Beltline           0     0.0000        444       6.7           0   \n",
       "9        Braeside           0     0.0000          0       0.0           0   \n",
       "\n",
       "   Teal Freq  Orange Trips  Orange Freq  Yellow Trips  Yellow Freq  \\\n",
       "0    15.6923             0       0.0000             0         0.00   \n",
       "1     0.0000             0       0.0000            75         9.75   \n",
       "2     0.0000             0       0.0000             0         0.00   \n",
       "3     0.0000             0       0.0000             0         0.00   \n",
       "4     0.0000             0       0.0000             0         0.00   \n",
       "5     0.0000            98       7.0833             0         0.00   \n",
       "6     0.0000            98       7.0833             0         0.00   \n",
       "7     0.0000             0       0.0000            75         9.75   \n",
       "8     0.0000             0       0.0000            75         9.75   \n",
       "9     0.0000             0       0.0000            75         9.75   \n",
       "\n",
       "   Purple Trips  Purple Freq  \n",
       "0             0       0.0000  \n",
       "1             0       0.0000  \n",
       "2           127      20.5172  \n",
       "3             0       0.0000  \n",
       "4             0       0.0000  \n",
       "5             0       0.0000  \n",
       "6             0       0.0000  \n",
       "7             0       0.0000  \n",
       "8           127      20.5172  \n",
       "9             0       0.0000  "
      ]
     },
     "execution_count": 98,
     "metadata": {},
     "output_type": "execute_result"
    }
   ],
   "source": [
    "sup_fc.head(10)"
   ]
  },
  {
   "cell_type": "code",
   "execution_count": 99,
   "metadata": {},
   "outputs": [
    {
     "data": {
      "text/html": [
       "<div>\n",
       "<style scoped>\n",
       "    .dataframe tbody tr th:only-of-type {\n",
       "        vertical-align: middle;\n",
       "    }\n",
       "\n",
       "    .dataframe tbody tr th {\n",
       "        vertical-align: top;\n",
       "    }\n",
       "\n",
       "    .dataframe thead th {\n",
       "        text-align: right;\n",
       "    }\n",
       "</style>\n",
       "<table border=\"1\" class=\"dataframe\">\n",
       "  <thead>\n",
       "    <tr style=\"text-align: right;\">\n",
       "      <th></th>\n",
       "      <th>Community Name</th>\n",
       "      <th>Population in private households</th>\n",
       "      <th>0 to 14 years</th>\n",
       "      <th>65 to 84 years</th>\n",
       "      <th>85 years and over</th>\n",
       "      <th>Population aged 15 years and over in private households</th>\n",
       "      <th>In the labor force</th>\n",
       "      <th>Employed</th>\n",
       "      <th>Self-Employed</th>\n",
       "      <th>Unemployed</th>\n",
       "      <th>...</th>\n",
       "      <th>15 to 29 minutes</th>\n",
       "      <th>30 to 44 minutes</th>\n",
       "      <th>45 to 59 minutes</th>\n",
       "      <th>Employed labour force aged 15 years and over in private households3</th>\n",
       "      <th>Between 5 a.m. and 5:59 a.m.</th>\n",
       "      <th>Between 6 a.m. and 6:59 a.m.</th>\n",
       "      <th>Between 7 a.m. and 7:59 a.m.</th>\n",
       "      <th>Between 8 a.m. and 8:59 a.m.</th>\n",
       "      <th>Between 9 a.m. and 11:59 a.m.</th>\n",
       "      <th>Between 12 p.m. and 4:59 a.m.</th>\n",
       "    </tr>\n",
       "  </thead>\n",
       "  <tbody>\n",
       "    <tr>\n",
       "      <th>0</th>\n",
       "      <td>Abbeydale</td>\n",
       "      <td>5925</td>\n",
       "      <td>1200</td>\n",
       "      <td>605</td>\n",
       "      <td>50</td>\n",
       "      <td>4725</td>\n",
       "      <td>3115</td>\n",
       "      <td>2650</td>\n",
       "      <td>295</td>\n",
       "      <td>470</td>\n",
       "      <td>...</td>\n",
       "      <td>1260</td>\n",
       "      <td>465</td>\n",
       "      <td>105</td>\n",
       "      <td>2335.0</td>\n",
       "      <td>290</td>\n",
       "      <td>420</td>\n",
       "      <td>530</td>\n",
       "      <td>300</td>\n",
       "      <td>275</td>\n",
       "      <td>525</td>\n",
       "    </tr>\n",
       "    <tr>\n",
       "      <th>1</th>\n",
       "      <td>Acadia</td>\n",
       "      <td>9915</td>\n",
       "      <td>1280</td>\n",
       "      <td>1555</td>\n",
       "      <td>290</td>\n",
       "      <td>8635</td>\n",
       "      <td>5765</td>\n",
       "      <td>4985</td>\n",
       "      <td>775</td>\n",
       "      <td>780</td>\n",
       "      <td>...</td>\n",
       "      <td>1675</td>\n",
       "      <td>565</td>\n",
       "      <td>160</td>\n",
       "      <td>3840.0</td>\n",
       "      <td>245</td>\n",
       "      <td>735</td>\n",
       "      <td>1050</td>\n",
       "      <td>795</td>\n",
       "      <td>495</td>\n",
       "      <td>525</td>\n",
       "    </tr>\n",
       "    <tr>\n",
       "      <th>2</th>\n",
       "      <td>Albert Park/Radisson Heights</td>\n",
       "      <td>6740</td>\n",
       "      <td>1160</td>\n",
       "      <td>675</td>\n",
       "      <td>80</td>\n",
       "      <td>5580</td>\n",
       "      <td>3415</td>\n",
       "      <td>2905</td>\n",
       "      <td>400</td>\n",
       "      <td>510</td>\n",
       "      <td>...</td>\n",
       "      <td>1195</td>\n",
       "      <td>435</td>\n",
       "      <td>140</td>\n",
       "      <td>2430.0</td>\n",
       "      <td>235</td>\n",
       "      <td>500</td>\n",
       "      <td>535</td>\n",
       "      <td>280</td>\n",
       "      <td>360</td>\n",
       "      <td>525</td>\n",
       "    </tr>\n",
       "    <tr>\n",
       "      <th>3</th>\n",
       "      <td>Altadore</td>\n",
       "      <td>7290</td>\n",
       "      <td>1475</td>\n",
       "      <td>565</td>\n",
       "      <td>70</td>\n",
       "      <td>5810</td>\n",
       "      <td>4480</td>\n",
       "      <td>4105</td>\n",
       "      <td>900</td>\n",
       "      <td>375</td>\n",
       "      <td>...</td>\n",
       "      <td>1155</td>\n",
       "      <td>195</td>\n",
       "      <td>40</td>\n",
       "      <td>2245.0</td>\n",
       "      <td>65</td>\n",
       "      <td>330</td>\n",
       "      <td>770</td>\n",
       "      <td>515</td>\n",
       "      <td>350</td>\n",
       "      <td>215</td>\n",
       "    </tr>\n",
       "    <tr>\n",
       "      <th>4</th>\n",
       "      <td>Applewood Park</td>\n",
       "      <td>6830</td>\n",
       "      <td>1155</td>\n",
       "      <td>700</td>\n",
       "      <td>40</td>\n",
       "      <td>5680</td>\n",
       "      <td>3775</td>\n",
       "      <td>3180</td>\n",
       "      <td>425</td>\n",
       "      <td>595</td>\n",
       "      <td>...</td>\n",
       "      <td>1535</td>\n",
       "      <td>500</td>\n",
       "      <td>150</td>\n",
       "      <td>2790.0</td>\n",
       "      <td>295</td>\n",
       "      <td>550</td>\n",
       "      <td>490</td>\n",
       "      <td>370</td>\n",
       "      <td>465</td>\n",
       "      <td>620</td>\n",
       "    </tr>\n",
       "  </tbody>\n",
       "</table>\n",
       "<p>5 rows × 48 columns</p>\n",
       "</div>"
      ],
      "text/plain": [
       "                 Community Name  Population in private households  \\\n",
       "0                     Abbeydale                              5925   \n",
       "1                        Acadia                              9915   \n",
       "2  Albert Park/Radisson Heights                              6740   \n",
       "3                      Altadore                              7290   \n",
       "4                Applewood Park                              6830   \n",
       "\n",
       "   0 to 14 years  65 to 84 years 85 years and over  \\\n",
       "0           1200             605               50    \n",
       "1           1280            1555               290   \n",
       "2           1160             675                80   \n",
       "3           1475             565                70   \n",
       "4           1155             700                40   \n",
       "\n",
       "   Population aged 15 years and over in private households  \\\n",
       "0                                               4725         \n",
       "1                                               8635         \n",
       "2                                               5580         \n",
       "3                                               5810         \n",
       "4                                               5680         \n",
       "\n",
       "   In the labor force  Employed  Self-Employed  Unemployed  ...  \\\n",
       "0                3115      2650            295         470  ...   \n",
       "1                5765      4985            775         780  ...   \n",
       "2                3415      2905            400         510  ...   \n",
       "3                4480      4105            900         375  ...   \n",
       "4                3775      3180            425         595  ...   \n",
       "\n",
       "   15 to 29 minutes  30 to 44 minutes  45 to 59 minutes  \\\n",
       "0              1260               465               105   \n",
       "1              1675               565               160   \n",
       "2              1195               435               140   \n",
       "3              1155               195                40   \n",
       "4              1535               500               150   \n",
       "\n",
       "   Employed labour force aged 15 years and over in private households3  \\\n",
       "0                                             2335.0                     \n",
       "1                                             3840.0                     \n",
       "2                                             2430.0                     \n",
       "3                                             2245.0                     \n",
       "4                                             2790.0                     \n",
       "\n",
       "   Between 5 a.m. and 5:59 a.m.  Between 6 a.m. and 6:59 a.m.  \\\n",
       "0                           290                           420   \n",
       "1                           245                           735   \n",
       "2                           235                           500   \n",
       "3                            65                           330   \n",
       "4                           295                           550   \n",
       "\n",
       "   Between 7 a.m. and 7:59 a.m.  Between 8 a.m. and 8:59 a.m.  \\\n",
       "0                           530                           300   \n",
       "1                          1050                           795   \n",
       "2                           535                           280   \n",
       "3                           770                           515   \n",
       "4                           490                           370   \n",
       "\n",
       "   Between 9 a.m. and 11:59 a.m.  Between 12 p.m. and 4:59 a.m.  \n",
       "0                            275                            525  \n",
       "1                            495                            525  \n",
       "2                            360                            525  \n",
       "3                            350                            215  \n",
       "4                            465                            620  \n",
       "\n",
       "[5 rows x 48 columns]"
      ]
     },
     "execution_count": 99,
     "metadata": {},
     "output_type": "execute_result"
    }
   ],
   "source": [
    "comm_data.head()"
   ]
  },
  {
   "cell_type": "code",
   "execution_count": 109,
   "metadata": {},
   "outputs": [],
   "source": [
    "# Merge the two DataFrames on the 'Community' and 'Community Name' columns\n",
    "merged_data = pd.merge(sup_fc, comm_data, left_on='Community', right_on='Community Name', how='right')\n",
    "\n",
    "# Update the 'Population' column in sup_fc with the corresponding values from comm_data\n",
    "sup_fc['Population'] = merged_data['Population in private households']"
   ]
  },
  {
   "cell_type": "code",
   "execution_count": 110,
   "metadata": {},
   "outputs": [],
   "source": [
    "freq_col = sup_fc.filter(like=\"Freq\")\n",
    "sup_fc['Total Freq'] = freq_col.sum(axis=1)"
   ]
  },
  {
   "cell_type": "code",
   "execution_count": 111,
   "metadata": {},
   "outputs": [],
   "source": [
    "trip_col = sup_fc.filter(like=\"Trips\")\n",
    "train_col = trip_col.filter(regex=\"Blue|Red\")\n",
    "bus_col = trip_col.filter(regex=\"Orange|Teal|Yellow|Purple\")\n",
    "pop_col = sup_fc.filter(like=\"Population\")"
   ]
  },
  {
   "cell_type": "code",
   "execution_count": 112,
   "metadata": {},
   "outputs": [],
   "source": [
    "# sup_fc[\"Capacity Index\"] = ((train_col.sum(axis=1)*train_capacity)+(bus_col.sum(axis=1)*bus_capacity))/pop_col.sum(axis=1)\n",
    "sup_fc['Sum Train Capacity'] = train_col.sum(axis=1)*train_capacity\n",
    "sup_fc['Sum Bus Capacity'] = bus_col.sum(axis=1)*bus_capacity"
   ]
  },
  {
   "cell_type": "code",
   "execution_count": 113,
   "metadata": {},
   "outputs": [],
   "source": [
    "sup_fc[\"Capacity Index\"] = (sup_fc['Sum Train Capacity']+sup_fc['Sum Bus Capacity'])/pop_col.sum(axis=1)"
   ]
  },
  {
   "cell_type": "code",
   "execution_count": 114,
   "metadata": {},
   "outputs": [],
   "source": [
    "min_freq = min(sup_fc[\"Total Freq\"])\n",
    "max_freq = max(sup_fc[\"Total Freq\"])\n",
    "min_cap = min(sup_fc['Capacity Index'])\n",
    "max_cap = max(sup_fc['Capacity Index'])"
   ]
  },
  {
   "cell_type": "code",
   "execution_count": 115,
   "metadata": {},
   "outputs": [
    {
     "name": "stdout",
     "output_type": "stream",
     "text": [
      "13.4 74.9344 0.1883693972179289 426.24\n"
     ]
    }
   ],
   "source": [
    "print(min_freq, max_freq, min_cap, max_cap)"
   ]
  },
  {
   "cell_type": "code",
   "execution_count": 116,
   "metadata": {},
   "outputs": [],
   "source": [
    "sup_fc['SS Freq'] = (sup_fc['Total Freq']-min_freq)/(max_freq-min_freq)\n",
    "sup_fc['SS Cap'] = (sup_fc['Capacity Index']-min_cap)/(max_cap-min_cap)"
   ]
  },
  {
   "cell_type": "code",
   "execution_count": 117,
   "metadata": {},
   "outputs": [
    {
     "data": {
      "text/html": [
       "<div>\n",
       "<style scoped>\n",
       "    .dataframe tbody tr th:only-of-type {\n",
       "        vertical-align: middle;\n",
       "    }\n",
       "\n",
       "    .dataframe tbody tr th {\n",
       "        vertical-align: top;\n",
       "    }\n",
       "\n",
       "    .dataframe thead th {\n",
       "        text-align: right;\n",
       "    }\n",
       "</style>\n",
       "<table border=\"1\" class=\"dataframe\">\n",
       "  <thead>\n",
       "    <tr style=\"text-align: right;\">\n",
       "      <th></th>\n",
       "      <th>Community</th>\n",
       "      <th>Blue Trips</th>\n",
       "      <th>Blue Freq</th>\n",
       "      <th>Red Trips</th>\n",
       "      <th>Red Freq</th>\n",
       "      <th>Teal Trips</th>\n",
       "      <th>Teal Freq</th>\n",
       "      <th>Orange Trips</th>\n",
       "      <th>Orange Freq</th>\n",
       "      <th>Yellow Trips</th>\n",
       "      <th>Yellow Freq</th>\n",
       "      <th>Purple Trips</th>\n",
       "      <th>Purple Freq</th>\n",
       "      <th>Population</th>\n",
       "      <th>Total Freq</th>\n",
       "      <th>Sum Train Capacity</th>\n",
       "      <th>Sum Bus Capacity</th>\n",
       "      <th>Capacity Index</th>\n",
       "      <th>SS Freq</th>\n",
       "      <th>SS Cap</th>\n",
       "    </tr>\n",
       "  </thead>\n",
       "  <tbody>\n",
       "    <tr>\n",
       "      <th>53</th>\n",
       "      <td>Millrise</td>\n",
       "      <td>0</td>\n",
       "      <td>0.0</td>\n",
       "      <td>444</td>\n",
       "      <td>6.7</td>\n",
       "      <td>0</td>\n",
       "      <td>0.0</td>\n",
       "      <td>0</td>\n",
       "      <td>0.0</td>\n",
       "      <td>0</td>\n",
       "      <td>0.0</td>\n",
       "      <td>0</td>\n",
       "      <td>0.0</td>\n",
       "      <td>625</td>\n",
       "      <td>13.4</td>\n",
       "      <td>266400</td>\n",
       "      <td>0</td>\n",
       "      <td>426.24</td>\n",
       "      <td>0.0</td>\n",
       "      <td>1.0</td>\n",
       "    </tr>\n",
       "  </tbody>\n",
       "</table>\n",
       "</div>"
      ],
      "text/plain": [
       "   Community  Blue Trips  Blue Freq  Red Trips  Red Freq  Teal Trips  \\\n",
       "53  Millrise           0        0.0        444       6.7           0   \n",
       "\n",
       "    Teal Freq  Orange Trips  Orange Freq  Yellow Trips  Yellow Freq  \\\n",
       "53        0.0             0          0.0             0          0.0   \n",
       "\n",
       "    Purple Trips  Purple Freq  Population  Total Freq  Sum Train Capacity  \\\n",
       "53             0          0.0         625        13.4              266400   \n",
       "\n",
       "    Sum Bus Capacity  Capacity Index  SS Freq  SS Cap  \n",
       "53                 0          426.24      0.0     1.0  "
      ]
     },
     "execution_count": 117,
     "metadata": {},
     "output_type": "execute_result"
    }
   ],
   "source": [
    "sup_fc.loc[sup_fc[\"Capacity Index\"]==max_cap].head()"
   ]
  },
  {
   "cell_type": "code",
   "execution_count": 118,
   "metadata": {},
   "outputs": [
    {
     "data": {
      "text/plain": [
       "(100, 20)"
      ]
     },
     "execution_count": 118,
     "metadata": {},
     "output_type": "execute_result"
    }
   ],
   "source": [
    "sup_fc.shape"
   ]
  }
 ],
 "metadata": {
  "kernelspec": {
   "display_name": "Python 3",
   "language": "python",
   "name": "python3"
  },
  "language_info": {
   "codemirror_mode": {
    "name": "ipython",
    "version": 3
   },
   "file_extension": ".py",
   "mimetype": "text/x-python",
   "name": "python",
   "nbconvert_exporter": "python",
   "pygments_lexer": "ipython3",
   "version": "3.12.2"
  }
 },
 "nbformat": 4,
 "nbformat_minor": 2
}
