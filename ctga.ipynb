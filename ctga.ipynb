{
 "cells": [
  {
   "cell_type": "code",
   "execution_count": 3,
   "metadata": {},
   "outputs": [],
   "source": [
    "# !pip3 install matplotlib\n",
    "# !pip3 install tabula-py\n",
    "# !pip3 install PyPDF2\n",
    "# !pip3 install pdfminer.six\n",
    "# !pip3 install PyMuPDF\n",
    "# !pip3 install camelot-py\n",
    "# !pip3 install --upgrade pip\n",
    "# !pip3 install geopandas\n",
    "# !pip3 install plotly\n",
    "# !pip3 install pandas\n",
    "# !pip3 install pdfplumber\n",
    "# !pip3 install scipy\n",
    "# !pip3 install --upgrade pandas"
   ]
  },
  {
   "cell_type": "code",
   "execution_count": 2,
   "metadata": {},
   "outputs": [],
   "source": [
    "import pandas as pd\n",
    "import numpy as np\n",
    "import matplotlib as mpt\n",
    "import os\n",
    "import PyPDF2\n",
    "import tabula\n",
    "import tabulate\n",
    "import pdfminer\n",
    "import geopandas as gpd\n",
    "import fiona\n",
    "from glob import glob\n",
    "import plotly.express as px\n",
    "from shapely.geometry import Point\n",
    "import pdfplumber\n",
    "import scipy\n"
   ]
  },
  {
   "cell_type": "code",
   "execution_count": 63,
   "metadata": {},
   "outputs": [],
   "source": [
    "def convert_data (file_path):\n",
    "    \"\"\"\n",
    "    Function to convert files of appropriate structure to csv format, creating point object with files that have lat and lon values\n",
    "\n",
    "    Args:\n",
    "        file_path (str): File Path to open and convert to csv file format\n",
    "    \"\"\"\n",
    "    df = pd.read_csv(file_path)\n",
    "    output_folder_path = os.path.join(\"/Data Sets/Analysis Data/\",os.getcwd())\n",
    "    # print(output_folder_path)\n",
    "    output_file_name = file_path.split('/')[-1].split('.')[0] + \".csv\"\n",
    "    if 'lat' in str(df.columns) and 'lon' in str(df.columns):\n",
    "        lat = \"\"\n",
    "        lon = \"\"\n",
    "        for col in df.columns:\n",
    "            if str(col).endswith('lat'):\n",
    "                lat = str(col)\n",
    "            elif str(col).endswith('lon'):\n",
    "                lon = str(col)\n",
    "        df_geo = gpd.GeoDataFrame(df, geometry=gpd.points_from_xy(df[lat],df[lon]))\n",
    "        if not os.path.exists(output_folder_path):\n",
    "            os.make_dir(output_folder_path)\n",
    "        df_geo.drop(columns=[lat, lon]).to_csv(output_file_name, index = False)\n",
    "        print(\"{} saved in {}\".format(output_file_name, output_folder_path))\n",
    "    else:\n",
    "        df.to_csv(output_file_name, index=False)\n",
    "        print(\"{} saved in {}\".format(output_file_name, output_folder_path))"
   ]
  },
  {
   "cell_type": "code",
   "execution_count": 16,
   "metadata": {},
   "outputs": [
    {
     "name": "stdout",
     "output_type": "stream",
     "text": [
      "stop_times.csv saved in /Users/sulemanbasit/PycharmProjects/Calgary-Transit-Economic-Gap-Analysis\n"
     ]
    }
   ],
   "source": [
    "# data_path = input(\"include relative path to the dataset: (should work for windows/mac: )\")\n",
    "data_path = os.getcwd()+\"/Data Sets/CT_GTFS/stop_times.txt\"\n",
    "# with open(data_path, 'r') as f:\n",
    "#     print(f.read())\n",
    "convert_data(data_path)\n",
    "# shape = pd.read_csv(data_path)\n",
    "# shape_geo = gpd.GeoDataFrame(shape)\n"
   ]
  },
  {
   "cell_type": "code",
   "execution_count": 1,
   "metadata": {},
   "outputs": [
    {
     "ename": "NameError",
     "evalue": "name 'shape_geo' is not defined",
     "output_type": "error",
     "traceback": [
      "\u001b[0;31m---------------------------------------------------------------------------\u001b[0m",
      "\u001b[0;31mNameError\u001b[0m                                 Traceback (most recent call last)",
      "Cell \u001b[0;32mIn[1], line 1\u001b[0m\n\u001b[0;32m----> 1\u001b[0m \u001b[43mshape_geo\u001b[49m\u001b[38;5;241m.\u001b[39mshape\n\u001b[1;32m      2\u001b[0m shape_geo\u001b[38;5;241m.\u001b[39mcolumns\n\u001b[1;32m      3\u001b[0m \u001b[38;5;66;03m# shape_geo['coordinates'] = shape_geo.apply(lambda row: Point(row['stop_lat'], row['stop_lon']), axis=1)\u001b[39;00m\n\u001b[1;32m      4\u001b[0m \n\u001b[1;32m      5\u001b[0m \u001b[38;5;66;03m# shape_geo.set_geometry(col=['shape_pt_lat','shape_pt_lon'])\u001b[39;00m\n\u001b[1;32m      6\u001b[0m \u001b[38;5;66;03m# shape_geo.get_coordinates()\u001b[39;00m\n",
      "\u001b[0;31mNameError\u001b[0m: name 'shape_geo' is not defined"
     ]
    }
   ],
   "source": []
  },
  {
   "cell_type": "code",
   "execution_count": 7,
   "metadata": {},
   "outputs": [],
   "source": [
    "# community_path = os.getcwd() + \"/Community Profiles/\"\n",
    "# ward_path = os.getcwd() + \"/ward_profiles/\"\n",
    "\n",
    "# if os.path.isdir(ward_path):\n",
    "#     try:\n",
    "#         # List all files in the specified folder\n",
    "#         files = os.listdir(ward_path)\n",
    "\n",
    "#         # Extract file names\n",
    "#         file_names = [file for file in files if os.path.isfile(os.path.join(ward_path, file)) and \"ward\" in file]\n",
    "\n",
    "#         # print(\"File names in the folder:\")\n",
    "#         # for file_name in file_names:\n",
    "#         #     print(file_name)\n",
    "\n",
    "#     except FileNotFoundError:\n",
    "#         print(f\"The specified folder '{ward_path}' does not exist.\")\n",
    "#     except PermissionError:\n",
    "#         print(f\"Permission denied to access '{ward_path}'.\")\n",
    "\n",
    "# # data = camelot.read_pdf(ward_path+file_names[0])"
   ]
  },
  {
   "cell_type": "code",
   "execution_count": 11,
   "metadata": {},
   "outputs": [],
   "source": [
    "\n",
    "def save_to_csv(df, output_folder, file_name):\n",
    "    \"\"\"AI is creating summary for save_to_csv\n",
    "\n",
    "    Args:\n",
    "        df (Pandas Data Frame): Contains data frame that needs to be converted and saved as csv\n",
    "        output_folder (Str): Destination path where df needs to be saved\n",
    "        file_name (Str): File name that df needs to be saved as\n",
    "    \"\"\"\n",
    "    # Check if the output folder exists, if not, create it\n",
    "    if not os.path.exists(output_folder):\n",
    "        os.makedirs(output_folder)\n",
    "\n",
    "    # Define the output file path\n",
    "    output_file_path = os.path.join(output_folder, file_name)\n",
    "    \n",
    "    # Save the DataFrame to CSV in the output folder\n",
    "    df.to_csv(output_file_path, index=False)\n",
    "    print(f\"DataFrame saved to: {output_file_path}\")\n"
   ]
  },
  {
   "cell_type": "code",
   "execution_count": 56,
   "metadata": {},
   "outputs": [
    {
     "name": "stdout",
     "output_type": "stream",
     "text": [
      "DataFrame saved to: /Users/sulemanbasit/Project/Calgary-Transit-Economic-Gap-Analysis/Data Sets/Analysis Data/Ward1.csv\n"
     ]
    }
   ],
   "source": [
    "# save_to_csv(combined_df, os.getcwd()+\"/Data Sets/Analysis Data\", \"Ward1.csv\")"
   ]
  },
  {
   "cell_type": "code",
   "execution_count": 3,
   "metadata": {},
   "outputs": [],
   "source": [
    "community_data_path = os.getcwd()+\"/Data Sets/Analysis Data/Community Profiles Compiled.xlsx\""
   ]
  },
  {
   "cell_type": "code",
   "execution_count": 4,
   "metadata": {},
   "outputs": [],
   "source": [
    "comm_df = pd.read_excel(community_data_path)\n",
    "# comm_df.head()"
   ]
  },
  {
   "cell_type": "code",
   "execution_count": 23,
   "metadata": {},
   "outputs": [
    {
     "name": "stdout",
     "output_type": "stream",
     "text": [
      "<class 'pandas.core.frame.DataFrame'>\n"
     ]
    }
   ],
   "source": [
    "comm_df.head()\n",
    "# summary_stat = comm_df.describe()\n",
    "# print(type(summary_stat))\n",
    "# comm_df.set_index(\"Community Name\", inplace=True)"
   ]
  },
  {
   "cell_type": "code",
   "execution_count": 13,
   "metadata": {},
   "outputs": [],
   "source": [
    "\n",
    "# Initialize an empty list to hold dictionaries of row data\n",
    "rows_to_append = []\n",
    "\n",
    "# Loop through rows of comm_df and append data to rows_to_append list\n",
    "for index, row in comm_df.iterrows():\n",
    "    comm_low = row['Population in private households to whom low income concepts are applicable (Number in low income)']\n",
    "    comm_pop = row['Population in private households']\n",
    "    comm_seniors = row['65 to 84 years']\n",
    "    comm_lab_trans = (comm_pop/row[\"Employed labour force aged 15 years and over in private households\"])*row['Public transit']\n",
    "    comm_rent = row[\"Per cent households with income spending 30% or more total income on shelter (Renter)\"]\n",
    "    \n",
    "    # Calculate index values\n",
    "    low_income_index = (comm_low / comm_pop) * 100\n",
    "    seniors_index = (comm_seniors / comm_pop) * 100\n",
    "    labour_transit_index = (comm_lab_trans / comm_pop) * 100\n",
    "    rent_index = comm_rent * 100\n",
    "    \n",
    "    # Create a dictionary for the row and append it to the list\n",
    "    index_columns = {\"Community Name\": row['Community Name'], \"Low Income Index\": low_income_index, \"Seniors Index\": seniors_index, \"Public Transit Index\": labour_transit_index, \"Rent Index\": rent_index}\n",
    "    rows_to_append.append(index_columns)\n",
    "\n",
    "# Convert the list of dictionaries to a DataFrame\n",
    "first_index_df = pd.DataFrame(rows_to_append)\n",
    "\n"
   ]
  },
  {
   "cell_type": "code",
   "execution_count": 19,
   "metadata": {},
   "outputs": [
    {
     "data": {
      "text/html": [
       "<div>\n",
       "<style scoped>\n",
       "    .dataframe tbody tr th:only-of-type {\n",
       "        vertical-align: middle;\n",
       "    }\n",
       "\n",
       "    .dataframe tbody tr th {\n",
       "        vertical-align: top;\n",
       "    }\n",
       "\n",
       "    .dataframe thead th {\n",
       "        text-align: right;\n",
       "    }\n",
       "</style>\n",
       "<table border=\"1\" class=\"dataframe\">\n",
       "  <thead>\n",
       "    <tr style=\"text-align: right;\">\n",
       "      <th></th>\n",
       "      <th>Low Income Index</th>\n",
       "      <th>Seniors Index</th>\n",
       "      <th>Public Transit Index</th>\n",
       "      <th>Rent Index</th>\n",
       "    </tr>\n",
       "  </thead>\n",
       "  <tbody>\n",
       "    <tr>\n",
       "      <th>count</th>\n",
       "      <td>200.000000</td>\n",
       "      <td>201.000000</td>\n",
       "      <td>201.000000</td>\n",
       "      <td>200.000000</td>\n",
       "    </tr>\n",
       "    <tr>\n",
       "      <th>mean</th>\n",
       "      <td>9.199300</td>\n",
       "      <td>15.747882</td>\n",
       "      <td>8.491043</td>\n",
       "      <td>32.075000</td>\n",
       "    </tr>\n",
       "    <tr>\n",
       "      <th>std</th>\n",
       "      <td>5.025992</td>\n",
       "      <td>12.932667</td>\n",
       "      <td>5.359082</td>\n",
       "      <td>11.326998</td>\n",
       "    </tr>\n",
       "    <tr>\n",
       "      <th>min</th>\n",
       "      <td>0.000000</td>\n",
       "      <td>0.000000</td>\n",
       "      <td>0.000000</td>\n",
       "      <td>0.000000</td>\n",
       "    </tr>\n",
       "    <tr>\n",
       "      <th>25%</th>\n",
       "      <td>5.935447</td>\n",
       "      <td>8.910412</td>\n",
       "      <td>5.197505</td>\n",
       "      <td>29.000000</td>\n",
       "    </tr>\n",
       "    <tr>\n",
       "      <th>50%</th>\n",
       "      <td>8.549317</td>\n",
       "      <td>13.351499</td>\n",
       "      <td>7.586207</td>\n",
       "      <td>33.000000</td>\n",
       "    </tr>\n",
       "    <tr>\n",
       "      <th>75%</th>\n",
       "      <td>11.965880</td>\n",
       "      <td>17.813765</td>\n",
       "      <td>11.250000</td>\n",
       "      <td>38.000000</td>\n",
       "    </tr>\n",
       "    <tr>\n",
       "      <th>max</th>\n",
       "      <td>28.947368</td>\n",
       "      <td>78.712221</td>\n",
       "      <td>38.625954</td>\n",
       "      <td>70.000000</td>\n",
       "    </tr>\n",
       "  </tbody>\n",
       "</table>\n",
       "</div>"
      ],
      "text/plain": [
       "       Low Income Index  Seniors Index  Public Transit Index  Rent Index\n",
       "count        200.000000     201.000000            201.000000  200.000000\n",
       "mean           9.199300      15.747882              8.491043   32.075000\n",
       "std            5.025992      12.932667              5.359082   11.326998\n",
       "min            0.000000       0.000000              0.000000    0.000000\n",
       "25%            5.935447       8.910412              5.197505   29.000000\n",
       "50%            8.549317      13.351499              7.586207   33.000000\n",
       "75%           11.965880      17.813765             11.250000   38.000000\n",
       "max           28.947368      78.712221             38.625954   70.000000"
      ]
     },
     "execution_count": 19,
     "metadata": {},
     "output_type": "execute_result"
    }
   ],
   "source": [
    "first_index_df.describe()"
   ]
  },
  {
   "cell_type": "code",
   "execution_count": 16,
   "metadata": {},
   "outputs": [
    {
     "name": "stdout",
     "output_type": "stream",
     "text": [
      "DataFrame saved to: /Users/sulemanbasit/Project/Calgary-Transit-Economic-Gap-Analysis/Data Sets/Analysis Data/First Demand Index.csv\n"
     ]
    }
   ],
   "source": [
    "output_folder_path = os.getcwd()+\"/Data Sets/Analysis Data\"\n",
    "save_to_csv(first_index_df, output_folder_path, \"First Demand Index.csv\")"
   ]
  },
  {
   "cell_type": "code",
   "execution_count": 42,
   "metadata": {},
   "outputs": [],
   "source": [
    "#Z-Score method\n",
    "z_pop = scipy.stats.zscore(comm_df[\"Population in private households\"])\n",
    "z_median = scipy.stats.zscore(comm_df[\"Median household income of private households\"])\n",
    "z_low = scipy.stats.zscore(comm_df['Population in private households to whom low income concepts are applicable (Number in low income)'])\n",
    "z_trans = scipy.stats.zscore((comm_df[\"Population in private households\"]/comm_df[\"Employed labour force aged 15 years and over in private households\"])*comm_df['Public transit'])\n",
    "z_rent = scipy.stats.zscore(comm_df[\"Per cent households with income spending 30% or more total income on shelter (Renter)\"])"
   ]
  },
  {
   "cell_type": "code",
   "execution_count": 59,
   "metadata": {},
   "outputs": [
    {
     "data": {
      "text/plain": [
       "Series([], Name: Population in private households to whom low income concepts are applicable (Number in low income), dtype: float64)"
      ]
     },
     "execution_count": 59,
     "metadata": {},
     "output_type": "execute_result"
    }
   ],
   "source": []
  },
  {
   "cell_type": "code",
   "execution_count": 52,
   "metadata": {},
   "outputs": [],
   "source": [
    "row, col = comm_df.shape\n",
    "z_rows_to_append = []\n",
    "for c in range(row):\n",
    "    community = comm_df['Community Name'][c]\n",
    "    pop = z_pop[c]\n",
    "    # print(pop)\n",
    "    med = z_median[c]\n",
    "    # print(med)\n",
    "    trans = z_trans[c]\n",
    "    # print(trans)\n",
    "    rent = z_rent[c]\n",
    "    low = z_low[c]\n",
    "    if()\n",
    "\n",
    "    result = pop+trans+rent+low-med\n",
    "\n",
    "    column_df = {\"Community Name\": community, \"Z Score\": result}\n",
    "    z_rows_to_append.append(column_df)\n",
    "    # break\n",
    "\n",
    "Z_index_df = pd.DataFrame(z_rows_to_append)"
   ]
  },
  {
   "cell_type": "code",
   "execution_count": 46,
   "metadata": {},
   "outputs": [
    {
     "data": {
      "text/html": [
       "<div>\n",
       "<style scoped>\n",
       "    .dataframe tbody tr th:only-of-type {\n",
       "        vertical-align: middle;\n",
       "    }\n",
       "\n",
       "    .dataframe tbody tr th {\n",
       "        vertical-align: top;\n",
       "    }\n",
       "\n",
       "    .dataframe thead th {\n",
       "        text-align: right;\n",
       "    }\n",
       "</style>\n",
       "<table border=\"1\" class=\"dataframe\">\n",
       "  <thead>\n",
       "    <tr style=\"text-align: right;\">\n",
       "      <th></th>\n",
       "      <th>Community Name</th>\n",
       "      <th>Z Score</th>\n",
       "    </tr>\n",
       "  </thead>\n",
       "  <tbody>\n",
       "    <tr>\n",
       "      <th>0</th>\n",
       "      <td>Abbeydale</td>\n",
       "      <td>NaN</td>\n",
       "    </tr>\n",
       "    <tr>\n",
       "      <th>1</th>\n",
       "      <td>Acadia</td>\n",
       "      <td>NaN</td>\n",
       "    </tr>\n",
       "    <tr>\n",
       "      <th>2</th>\n",
       "      <td>Albert Park/Radisson Heights</td>\n",
       "      <td>NaN</td>\n",
       "    </tr>\n",
       "    <tr>\n",
       "      <th>3</th>\n",
       "      <td>Altadore</td>\n",
       "      <td>NaN</td>\n",
       "    </tr>\n",
       "    <tr>\n",
       "      <th>4</th>\n",
       "      <td>Applewood Park</td>\n",
       "      <td>NaN</td>\n",
       "    </tr>\n",
       "  </tbody>\n",
       "</table>\n",
       "</div>"
      ],
      "text/plain": [
       "                 Community Name  Z Score\n",
       "0                     Abbeydale      NaN\n",
       "1                        Acadia      NaN\n",
       "2  Albert Park/Radisson Heights      NaN\n",
       "3                      Altadore      NaN\n",
       "4                Applewood Park      NaN"
      ]
     },
     "execution_count": 46,
     "metadata": {},
     "output_type": "execute_result"
    }
   ],
   "source": [
    "Z_index_df.head()"
   ]
  }
 ],
 "metadata": {
  "kernelspec": {
   "display_name": "Python 3",
   "language": "python",
   "name": "python3"
  },
  "language_info": {
   "codemirror_mode": {
    "name": "ipython",
    "version": 3
   },
   "file_extension": ".py",
   "mimetype": "text/x-python",
   "name": "python",
   "nbconvert_exporter": "python",
   "pygments_lexer": "ipython3",
   "version": "3.12.2"
  }
 },
 "nbformat": 4,
 "nbformat_minor": 2
}
