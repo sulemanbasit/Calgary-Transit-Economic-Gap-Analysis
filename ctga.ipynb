{
 "cells": [
  {
   "cell_type": "code",
   "execution_count": 25,
   "metadata": {},
   "outputs": [],
   "source": [
    "# !pip3 install matplotlib\n",
    "# !pip3 install tabula-py\n",
    "# !pip3 install PyPDF2\n",
    "# !pip3 install pdfminer.six\n",
    "# !pip3 install PyMuPDF\n",
    "# !pip3 install camelot-py\n",
    "# !pip3 install --upgrade pip"
   ]
  },
  {
   "cell_type": "code",
   "execution_count": 28,
   "metadata": {},
   "outputs": [],
   "source": [
    "import pandas as pd\n",
    "import numpy as np\n",
    "# import csv\n",
    "import matplotlib as mpt\n",
    "import os\n",
    "import PyPDF2\n",
    "import tabula\n",
    "import pdfminer\n",
    "import camelot\n",
    "# import PyMuPDF"
   ]
  },
  {
   "cell_type": "code",
   "execution_count": null,
   "metadata": {},
   "outputs": [],
   "source": [
    "# data_path = input(\"include relative path to the dataset: (should work for windows/mac: )\")\n",
    "data_path = os.getcwd()+\"/Data Sets/CT_GTFS/routes.txt\"\n",
    "# read_file = open(data_path)\n",
    "# print(read_file.readline())\n",
    "with open(data_path, 'r') as f:\n",
    "    # print(os.path.getsize(data_path))\n",
    "    # for i in range(os.path.getsize(data_path)):\n",
    "    print(f.read())"
   ]
  },
  {
   "cell_type": "code",
   "execution_count": 31,
   "metadata": {},
   "outputs": [],
   "source": [
    "community_path = os.getcwd() + \"/Community Profiles/\"\n",
    "ward_path = os.getcwd() + \"/ward_profiles/\"\n",
    "\n",
    "if os.path.isdir(ward_path):\n",
    "    try:\n",
    "        # List all files in the specified folder\n",
    "        files = os.listdir(ward_path)\n",
    "\n",
    "        # Extract file names\n",
    "        file_names = [file for file in files if os.path.isfile(os.path.join(ward_path, file)) and \"ward\" in file]\n",
    "\n",
    "        # print(\"File names in the folder:\")\n",
    "        # for file_name in file_names:\n",
    "        #     print(file_name)\n",
    "\n",
    "    except FileNotFoundError:\n",
    "        print(f\"The specified folder '{folder_path}' does not exist.\")\n",
    "    except PermissionError:\n",
    "        print(f\"Permission denied to access '{folder_path}'.\")\n",
    "\n",
    "# data = camelot.read_pdf(ward_path+file_names[0])"
   ]
  },
  {
   "cell_type": "code",
   "execution_count": 32,
   "metadata": {},
   "outputs": [
    {
     "ename": "AttributeError",
     "evalue": "module 'camelot' has no attribute 'read_pdf'",
     "output_type": "error",
     "traceback": [
      "\u001b[0;31m---------------------------------------------------------------------------\u001b[0m",
      "\u001b[0;31mAttributeError\u001b[0m                            Traceback (most recent call last)",
      "Cell \u001b[0;32mIn[32], line 1\u001b[0m\n\u001b[0;32m----> 1\u001b[0m data \u001b[39m=\u001b[39m camelot\u001b[39m.\u001b[39;49mread_pdf(ward_path\u001b[39m+\u001b[39mfile_names[\u001b[39m0\u001b[39m])\n",
      "\u001b[0;31mAttributeError\u001b[0m: module 'camelot' has no attribute 'read_pdf'"
     ]
    }
   ],
   "source": [
    "data = camelot.read_pdf(ward_path+file_names[0])"
   ]
  }
 ],
 "metadata": {
  "kernelspec": {
   "display_name": "Python 3",
   "language": "python",
   "name": "python3"
  },
  "language_info": {
   "codemirror_mode": {
    "name": "ipython",
    "version": 3
   },
   "file_extension": ".py",
   "mimetype": "text/x-python",
   "name": "python",
   "nbconvert_exporter": "python",
   "pygments_lexer": "ipython3",
   "version": "3.9.6"
  }
 },
 "nbformat": 4,
 "nbformat_minor": 2
}
