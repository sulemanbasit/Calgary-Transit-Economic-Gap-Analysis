{
 "cells": [
  {
   "cell_type": "code",
   "execution_count": null,
   "metadata": {},
   "outputs": [],
   "source": [
    "# !pip3 install matplotlib\n",
    "# !pip3 install tabula-py\n",
    "# !pip3 install PyPDF2\n",
    "# !pip3 install pdfminer.six\n",
    "# !pip3 install PyMuPDF\n",
    "# !pip3 install camelot-py\n",
    "# !pip3 install --upgrade pip\n",
    "# !pip3 install geopandas\n",
    "# !pip3 install plotly\n",
    "# !pip3 install pandas\n",
    "# !pip3 install pdfplumber\n",
    "# !pip3 install scipy\n",
    "# !pip3 install --upgrade pandas\n",
    "# %pip install arcgis\n",
    "# !pip3 install json\n",
    "# !pip3 install gtfs_functions\n",
    "# !pip3 install keplergl\n",
    "# %pip install Ipython"
   ]
  },
  {
   "cell_type": "code",
   "execution_count": 2,
   "metadata": {},
   "outputs": [
    {
     "name": "stderr",
     "output_type": "stream",
     "text": [
      "/Users/sulemanbasit/Library/Python/3.9/lib/python/site-packages/dask/dataframe/__init__.py:31: FutureWarning: \n",
      "Dask dataframe query planning is disabled because dask-expr is not installed.\n",
      "\n",
      "You can install it with `pip install dask[dataframe]` or `conda install dask`.\n",
      "This will raise in a future version.\n",
      "\n",
      "  warnings.warn(msg, FutureWarning)\n",
      "/Users/sulemanbasit/Library/Python/3.9/lib/python/site-packages/dask/dataframe/__init__.py:31: FutureWarning: \n",
      "Dask dataframe query planning is disabled because dask-expr is not installed.\n",
      "\n",
      "You can install it with `pip install dask[dataframe]` or `conda install dask`.\n",
      "This will raise in a future version.\n",
      "\n",
      "  warnings.warn(msg, FutureWarning)\n"
     ]
    }
   ],
   "source": [
    "import pandas as pd\n",
    "import numpy as np\n",
    "import matplotlib as mpt\n",
    "import os\n",
    "import geopandas as gpd\n",
    "import fiona\n",
    "from glob import glob\n",
    "import plotly.express as px\n",
    "from shapely.geometry import Point, MultiPolygon\n",
    "from arcgis.gis import GIS\n",
    "from arcgis.features.analysis import summarize_within\n",
    "from IPython.display import display\n",
    "from gtfs_functions import Feed\n",
    "from gtfs_functions.gtfs_plots import map_gdf\n",
    "# import keplergl as kpl\n"
   ]
  },
  {
   "cell_type": "code",
   "execution_count": null,
   "metadata": {},
   "outputs": [],
   "source": [
    "\n",
    "def save_to_csv(df, output_folder, file_name):\n",
    "    \"\"\"AI is creating summary for save_to_csv\n",
    "\n",
    "    Args:\n",
    "        df (Pandas Data Frame): Contains data frame that needs to be converted and saved as csv\n",
    "        output_folder (Str): Destination path where df needs to be saved\n",
    "        file_name (Str): File name that df needs to be saved as\n",
    "    \"\"\"\n",
    "    # Check if the output folder exists, if not, create it\n",
    "    if not os.path.exists(output_folder):\n",
    "        os.makedirs(output_folder)\n",
    "\n",
    "    # Define the output file path\n",
    "    output_file_path = os.path.join(output_folder, file_name)\n",
    "    \n",
    "    # Save the DataFrame to CSV in the output folder\n",
    "    df.to_csv(output_file_path, index=False)\n",
    "    print(f\"DataFrame saved to: {output_file_path}\")\n"
   ]
  },
  {
   "cell_type": "code",
   "execution_count": null,
   "metadata": {},
   "outputs": [],
   "source": [
    "def convert_data (file_path):\n",
    "    \"\"\"\n",
    "    Function to convert files of appropriate structure to csv format, creating point object with files that have lat and lon values\n",
    "\n",
    "    Args:\n",
    "        file_path (str): File Path to open and convert to csv file format\n",
    "    \"\"\"\n",
    "    df = pd.read_csv(file_path)\n",
    "    output_folder_path = os.getcwd()+\"/Data Sets/Analysis Data/\"\n",
    "    # print(output_folder_path)\n",
    "    output_file_name = file_path.split('/')[-1].split('.')[0] + \".csv\"\n",
    "    save_to_csv(df, output_folder_path, output_file_name)\n",
    "    print(\"{} saved in {}\".format(output_file_name, output_folder_path))"
   ]
  },
  {
   "cell_type": "code",
   "execution_count": null,
   "metadata": {},
   "outputs": [],
   "source": [
    "data_path = os.getcwd()+\"/Data Sets/CT_GTFS/\"\n",
    "# ignore_file = ['agency.txt', \"calendar.txt\",\"calendar_dates.txt\"]\n",
    "convert_data(data_path+\"shapes.txt\")"
   ]
  },
  {
   "cell_type": "markdown",
   "metadata": {},
   "source": [
    "# Program To Calculate Demand Index Using Z-Method"
   ]
  },
  {
   "cell_type": "code",
   "execution_count": null,
   "metadata": {},
   "outputs": [],
   "source": [
    "community_data_path = os.getcwd()+\"/Data Sets/Analysis Data/Community Profiles Compiled.xlsx\""
   ]
  },
  {
   "cell_type": "code",
   "execution_count": null,
   "metadata": {},
   "outputs": [],
   "source": [
    "comm_df = pd.read_excel(community_data_path)\n",
    "# comm_df.head()"
   ]
  },
  {
   "cell_type": "code",
   "execution_count": null,
   "metadata": {},
   "outputs": [],
   "source": [
    "comm_df.head()"
   ]
  },
  {
   "cell_type": "code",
   "execution_count": null,
   "metadata": {},
   "outputs": [],
   "source": [
    "output_folder_path = os.getcwd()+\"/Data Sets/Analysis Data\""
   ]
  },
  {
   "cell_type": "code",
   "execution_count": null,
   "metadata": {},
   "outputs": [],
   "source": [
    "#Z-Score method manually\n",
    "pop_mean = comm_df['Population in private households'].mean()\n",
    "pop_std = comm_df['Population in private households'].std()\n",
    "\n",
    "\n",
    "medinc_mean = comm_df[\"Median household income of private households\"].mean()\n",
    "medinc_std = comm_df[\"Median household income of private households\"].std()\n",
    "\n",
    "low_mean = comm_df['Population in private households to whom low income concepts are applicable (Number in low income)'].mean()\n",
    "low_std = comm_df['Population in private households to whom low income concepts are applicable (Number in low income)'].std()\n",
    "\n",
    "trans_mean = ((comm_df['Employed']/comm_df[\"Employed labour force aged 15 years and over in private households\"])*comm_df['Public transit']).mean()\n",
    "trans_std = ((comm_df['Employed']/comm_df[\"Employed labour force aged 15 years and over in private households\"])*comm_df['Public transit']).std()\n",
    "\n",
    "rent_mean = (comm_df['Per cent households with income spending 30% or more total income on shelter (Renter)']*comm_df['Private households with total income greater than zero (Renter)']).mean()\n",
    "rent_std = (comm_df['Per cent households with income spending 30% or more total income on shelter (Renter)']*comm_df['Private households with total income greater than zero (Renter)']).std()\n",
    "\n",
    "seniors_mean = comm_df['65 to 84 years'].mean()\n",
    "seniors_std = comm_df['65 to 84 years'].std()"
   ]
  },
  {
   "cell_type": "code",
   "execution_count": null,
   "metadata": {},
   "outputs": [],
   "source": [
    "row, col = comm_df.shape\n",
    "z_rows_to_append = []\n",
    "for c in range(row):\n",
    "    community = comm_df['Community Name'][c]\n",
    "    \n",
    "    pop = comm_df['Population in private households'][c]\n",
    "    # pop_ss = (pop-pop_max)/(pop_max-pop_min)\n",
    "    z_pop_score = (pop-pop_mean)/pop_std\n",
    "    \n",
    "    med = comm_df['Median household income of private households'][c]\n",
    "    # med_ss = (med-medinc_max)/(medinc_max-medinc_min)\n",
    "    z_med_score = (med-medinc_mean)/medinc_std\n",
    "    \n",
    "    trans = ((comm_df['Employed']/comm_df[\"Employed labour force aged 15 years and over in private households\"])*comm_df['Public transit'])[c]\n",
    "    # trans_ss = (trans-trans_max)/(trans_max-trans_min)\n",
    "    z_trans_score = (trans-trans_mean)/trans_std\n",
    "    \n",
    "    rent = (comm_df['Per cent households with income spending 30% or more total income on shelter (Renter)']*comm_df['Private households with total income greater than zero (Renter)'])[c]\n",
    "    # rent_ss = (rent-rent_max)/(rent_max-rent_min)\n",
    "    z_rent_score = (rent-rent_mean)/rent_std\n",
    "    \n",
    "    low = comm_df['Population in private households to whom low income concepts are applicable (Number in low income)'][c]\n",
    "    # low_ss = (low-low_max)/(low_max-low_min)\n",
    "    z_low_score = (low-low_mean)/low_std\n",
    "\n",
    "    sen = comm_df['65 to 84 years'][c]\n",
    "    z_seniors_score = (sen-seniors_mean)/seniors_std\n",
    "\n",
    "    z_result = z_trans_score+z_rent_score+z_low_score-z_med_score+z_seniors_score\n",
    "    # z_result = z_trans_score+z_rent_score+z_low_score+z_seniors_score\n",
    "\n",
    "    column_df = {\"Community Name\": community, \"Z Score\": z_result}\n",
    "    columns_df = {\"Community Name\": community, \"Low Income Index\": z_low_score, \"Seniors Index\": z_seniors_score, \"Public Transit Index\": z_trans_score, \"Rent Index\": z_rent_score, \"Median Income\": z_med_score}\n",
    "    z_rows_to_append.append(column_df)\n",
    "\n",
    "\n",
    "Z_index_df = pd.DataFrame(z_rows_to_append)"
   ]
  },
  {
   "cell_type": "code",
   "execution_count": null,
   "metadata": {},
   "outputs": [],
   "source": [
    "Z_index_df.head()"
   ]
  },
  {
   "cell_type": "code",
   "execution_count": null,
   "metadata": {},
   "outputs": [],
   "source": [
    "z_max = Z_index_df['Z Score'].max()\n",
    "z_min = Z_index_df['Z Score'].min()"
   ]
  },
  {
   "cell_type": "code",
   "execution_count": null,
   "metadata": {},
   "outputs": [],
   "source": [
    "print(z_max)\n",
    "print(z_min)"
   ]
  },
  {
   "cell_type": "code",
   "execution_count": null,
   "metadata": {},
   "outputs": [],
   "source": [
    "row, col = Z_index_df.shape\n",
    "z_ss_rows = []\n",
    "for c in range(row):\n",
    "    community = Z_index_df[\"Community Name\"][c]\n",
    "    z_score = Z_index_df['Z Score'][c]\n",
    "\n",
    "    z_ss_result = (z_score-z_min)/(z_max-z_min)\n",
    "\n",
    "    column_df = {\"Community Name\": community, \"Z Score\": z_ss_result}\n",
    "    z_ss_rows.append(column_df)\n",
    "    \n",
    "z_ss_index_df = pd.DataFrame(z_ss_rows)"
   ]
  },
  {
   "cell_type": "code",
   "execution_count": null,
   "metadata": {},
   "outputs": [],
   "source": [
    "z_ss_index_df.head()"
   ]
  },
  {
   "cell_type": "code",
   "execution_count": null,
   "metadata": {},
   "outputs": [],
   "source": [
    "save_to_csv(z_ss_index_df, output_folder_path, 'Z Standardized Demand Index.csv')"
   ]
  },
  {
   "cell_type": "markdown",
   "metadata": {},
   "source": [
    "# Program To Visualize ArcGis Data"
   ]
  },
  {
   "cell_type": "code",
   "execution_count": null,
   "metadata": {},
   "outputs": [],
   "source": [
    "gis_link = \"https://ucalgary.maps.arcgis.com\"\n",
    "gis_user = \"sbasit_ucalgary\"\n",
    "gis_user2 = \"suleman.basit@ucalgary.ca_ucalgary\"\n",
    "gis_pass2 = \"Dra90nK!n9\"\n",
    "gis_pass = \"Sa5nar9(\"\n",
    "gis_key = \"AAPK049cf86d96f4462ba33f8b661792d2f0z748Z0jNex7rIOx45MLoRtWEUFk5CElu0-Obz_3bxUwj9_Q8MI398NcMkS9xWe5F\"\n",
    "stop_freq_id = \"ec5537fa5cca45a7ba53f3d70a961c9e\"\n",
    "comm_boundary_id = \"23864b8797424379951a0d4117034bdb\""
   ]
  },
  {
   "cell_type": "code",
   "execution_count": null,
   "metadata": {},
   "outputs": [],
   "source": [
    "layers=[]"
   ]
  },
  {
   "cell_type": "code",
   "execution_count": null,
   "metadata": {},
   "outputs": [],
   "source": [
    "my_gis = GIS(gis_link,gis_user,gis_pass,gis_key)"
   ]
  },
  {
   "cell_type": "code",
   "execution_count": null,
   "metadata": {},
   "outputs": [],
   "source": [
    "my_content = my_gis.content.search(query= \"*\",item_type='Feature *')\n",
    "my_content"
   ]
  },
  {
   "cell_type": "code",
   "execution_count": null,
   "metadata": {},
   "outputs": [],
   "source": [
    "# stop_map = my_gis.content.get(stop_freq_id)\n",
    "my_group = my_gis.groups.search(query='owner:'+gis_user2)[0]\n",
    "\n",
    "# stop_map.add_layer(comm_map)\n",
    "# map.add_layer(comm_boundary_id)"
   ]
  },
  {
   "cell_type": "code",
   "execution_count": null,
   "metadata": {},
   "outputs": [],
   "source": [
    "for g in my_group.content():\n",
    "    print(g)"
   ]
  },
  {
   "cell_type": "code",
   "execution_count": null,
   "metadata": {},
   "outputs": [],
   "source": [
    "group_content = my_gis.groups.get(my_group.groupid)"
   ]
  },
  {
   "cell_type": "code",
   "execution_count": null,
   "metadata": {},
   "outputs": [],
   "source": [
    "# group_content.search(query='owner:'+gis_user2+\" and description: Community\")['results']\n",
    "for i in group_content.search(query='title: Stops Sorted')['results']:\n",
    "    # if \"Stops\" in i and \"Layer\" in i:\n",
    "    layers.append(i)"
   ]
  },
  {
   "cell_type": "code",
   "execution_count": null,
   "metadata": {},
   "outputs": [],
   "source": [
    "layers"
   ]
  },
  {
   "cell_type": "code",
   "execution_count": null,
   "metadata": {},
   "outputs": [],
   "source": [
    "map = my_gis.map('Calgary,AB')\n",
    "stop = my_gis.content.get(stop_freq_id)\n",
    "map.add_layer(stop)\n",
    "# comm_map\n",
    "# print(\"echo\")"
   ]
  },
  {
   "cell_type": "markdown",
   "metadata": {},
   "source": [
    "# Join Multipolygon Data To Profile"
   ]
  },
  {
   "cell_type": "code",
   "execution_count": null,
   "metadata": {},
   "outputs": [],
   "source": [
    "folder_path = os.getcwd()+\"/Data Sets/Analysis Data/\"\n",
    "comm_file = \"Community Profiles Compiled.xlsx\"\n",
    "bound_file = \"Boundraries_Data_by_Community .csv\"\n",
    "z_index_file = \"Z Standardized Demand Index.csv\"\n",
    "census_file = \"Census by Community 2019_20240401.geojson\""
   ]
  },
  {
   "cell_type": "code",
   "execution_count": null,
   "metadata": {},
   "outputs": [],
   "source": [
    "comm_data = pd.read_excel(folder_path+comm_file)\n",
    "comm_bound = gpd.read_file(folder_path+census_file)\n",
    "z_index = pd.read_csv(folder_path+z_index_file)"
   ]
  },
  {
   "cell_type": "code",
   "execution_count": null,
   "metadata": {},
   "outputs": [],
   "source": [
    "comm_bound.columns"
   ]
  },
  {
   "cell_type": "code",
   "execution_count": null,
   "metadata": {},
   "outputs": [],
   "source": [
    "comm_bound_lower = comm_bound.copy()\n",
    "comm_bound_lower['name'] = comm_bound_lower['name'].str.lower()\n",
    "comm_data_lower = comm_data.copy()\n",
    "comm_data_lower['Community Name'] = comm_data_lower['Community Name'].str.lower()\n",
    "comm_z_lower = z_index.copy()\n",
    "comm_z_lower[\"Community Name\"] = comm_z_lower['Community Name'].str.lower()\n",
    "\n",
    "# Merge the DataFrames based on the lower case names\n",
    "# merged_data = pd.merge(comm_data_lower, comm_bound_lower, left_on='Community Name', right_on='NAME', how='inner')\n",
    "merged_data = pd.merge(comm_z_lower, comm_bound_lower, how='left', left_on='Community Name', right_on='name')\n",
    "\n",
    "# Convert back to original case if needed\n",
    "merged_data['name'] = comm_bound['name']  # Assuming you want to keep the original case for boundary names\n",
    "merged_data['Community Name'] = comm_data['Community Name']  # Assuming you want to keep the original case for community names\n",
    "\n",
    "# Now merged_data contains the rows where the names match, regardless of case"
   ]
  },
  {
   "cell_type": "code",
   "execution_count": null,
   "metadata": {},
   "outputs": [],
   "source": [
    "merged_data.head()"
   ]
  },
  {
   "cell_type": "code",
   "execution_count": null,
   "metadata": {},
   "outputs": [],
   "source": [
    "sub_set_data = merged_data[[\"Community Name\",\"Z Score\", \"geometry\"]]"
   ]
  },
  {
   "cell_type": "code",
   "execution_count": null,
   "metadata": {},
   "outputs": [],
   "source": [
    "sub_set_data.head()\n",
    "type(sub_set_data['geometry'][1])"
   ]
  },
  {
   "cell_type": "code",
   "execution_count": null,
   "metadata": {},
   "outputs": [],
   "source": [
    "gpd_data = gpd.GeoDataFrame(sub_set_data, geometry=\"geometry\")"
   ]
  },
  {
   "cell_type": "code",
   "execution_count": null,
   "metadata": {},
   "outputs": [],
   "source": [
    "gpd_data.to_file(folder_path+\"Community_Z_Boundary.geojson\", driver=\"GeoJSON\")"
   ]
  },
  {
   "cell_type": "markdown",
   "metadata": {},
   "source": [
    "# Generate Data Sets For Calculating Supply Frequency"
   ]
  },
  {
   "cell_type": "code",
   "execution_count": 6,
   "metadata": {},
   "outputs": [],
   "source": [
    "gtfs_path = os.getcwd()+\"/Data Sets/CT_GTFS.zip\"\n",
    "# feed = Feed(gtfs_path, start_date = \"2024-02-19\", end_date = \"2024-02-23\", time_windows=[0,1,2,3,4,5,6,7,8,9,10,11,12,13,14,15,16,17,18,19,20,21,22,23,24])\n",
    "feed = Feed(gtfs_path, start_date = \"2024-02-19\", end_date = \"2024-02-23\", time_windows=[0,5,6,9,15,18,24])"
   ]
  },
  {
   "cell_type": "code",
   "execution_count": 7,
   "metadata": {},
   "outputs": [
    {
     "name": "stderr",
     "output_type": "stream",
     "text": [
      "INFO:root:Reading \"routes.txt\".\n",
      "INFO:root:accessing trips\n",
      "INFO:root:Reading \"trips.txt\".\n",
      "INFO:root:Reading \"calendar.txt\".\n",
      "INFO:root:Reading \"calendar_dates.txt\".\n",
      "INFO:root:The busiest date/s of this feed or your selected date range is/are:  ['2024-02-19'] with 17641 trips.\n",
      "INFO:root:In the case that more than one busiest date was found, the first one will be considered.\n",
      "INFO:root:In this case is 2024-02-19.\n",
      "INFO:root:Reading \"stop_times.txt\".\n",
      "INFO:root:_trips is defined in stop_times\n",
      "INFO:root:Reading \"stops.txt\".\n",
      "INFO:root:computing patterns\n",
      "INFO:root:Reading \"shapes.txt\".\n"
     ]
    }
   ],
   "source": [
    "routes = feed.routes\n",
    "trips = feed.trips\n",
    "stops = feed.stops\n",
    "stop_times = feed.stop_times\n",
    "shapes = feed.shapes"
   ]
  },
  {
   "cell_type": "code",
   "execution_count": 8,
   "metadata": {},
   "outputs": [],
   "source": [
    "# feed = Feed(gtfs_path,start_date=\"2024-02-17\", end_date=\"2024-02-17\")\n",
    "stop_freq = feed.stops_freq"
   ]
  },
  {
   "cell_type": "code",
   "execution_count": 9,
   "metadata": {},
   "outputs": [
    {
     "data": {
      "text/html": [
       "<div>\n",
       "<style scoped>\n",
       "    .dataframe tbody tr th:only-of-type {\n",
       "        vertical-align: middle;\n",
       "    }\n",
       "\n",
       "    .dataframe tbody tr th {\n",
       "        vertical-align: top;\n",
       "    }\n",
       "\n",
       "    .dataframe thead th {\n",
       "        text-align: right;\n",
       "    }\n",
       "</style>\n",
       "<table border=\"1\" class=\"dataframe\">\n",
       "  <thead>\n",
       "    <tr style=\"text-align: right;\">\n",
       "      <th></th>\n",
       "      <th>stop_id</th>\n",
       "      <th>direction_id</th>\n",
       "      <th>window</th>\n",
       "      <th>ntrips</th>\n",
       "      <th>min_per_trip</th>\n",
       "      <th>stop_name</th>\n",
       "      <th>geometry</th>\n",
       "    </tr>\n",
       "  </thead>\n",
       "  <tbody>\n",
       "    <tr>\n",
       "      <th>998</th>\n",
       "      <td>2178</td>\n",
       "      <td>0</td>\n",
       "      <td>0:00-5:00</td>\n",
       "      <td>2</td>\n",
       "      <td>150</td>\n",
       "      <td>EB 17th AV SE @ 70th ST SE</td>\n",
       "      <td>POINT (-113.92965 51.03769)</td>\n",
       "    </tr>\n",
       "    <tr>\n",
       "      <th>999</th>\n",
       "      <td>2178</td>\n",
       "      <td>0</td>\n",
       "      <td>15:00-18:00</td>\n",
       "      <td>19</td>\n",
       "      <td>9</td>\n",
       "      <td>EB 17th AV SE @ 70th ST SE</td>\n",
       "      <td>POINT (-113.92965 51.03769)</td>\n",
       "    </tr>\n",
       "    <tr>\n",
       "      <th>1000</th>\n",
       "      <td>2178</td>\n",
       "      <td>0</td>\n",
       "      <td>18:00-24:00</td>\n",
       "      <td>27</td>\n",
       "      <td>13</td>\n",
       "      <td>EB 17th AV SE @ 70th ST SE</td>\n",
       "      <td>POINT (-113.92965 51.03769)</td>\n",
       "    </tr>\n",
       "    <tr>\n",
       "      <th>1001</th>\n",
       "      <td>2178</td>\n",
       "      <td>0</td>\n",
       "      <td>5:00-6:00</td>\n",
       "      <td>1</td>\n",
       "      <td>60</td>\n",
       "      <td>EB 17th AV SE @ 70th ST SE</td>\n",
       "      <td>POINT (-113.92965 51.03769)</td>\n",
       "    </tr>\n",
       "    <tr>\n",
       "      <th>1002</th>\n",
       "      <td>2178</td>\n",
       "      <td>0</td>\n",
       "      <td>6:00-9:00</td>\n",
       "      <td>19</td>\n",
       "      <td>9</td>\n",
       "      <td>EB 17th AV SE @ 70th ST SE</td>\n",
       "      <td>POINT (-113.92965 51.03769)</td>\n",
       "    </tr>\n",
       "    <tr>\n",
       "      <th>...</th>\n",
       "      <td>...</td>\n",
       "      <td>...</td>\n",
       "      <td>...</td>\n",
       "      <td>...</td>\n",
       "      <td>...</td>\n",
       "      <td>...</td>\n",
       "      <td>...</td>\n",
       "    </tr>\n",
       "    <tr>\n",
       "      <th>37269</th>\n",
       "      <td>9935</td>\n",
       "      <td>0</td>\n",
       "      <td>6:00-9:00</td>\n",
       "      <td>15</td>\n",
       "      <td>12</td>\n",
       "      <td>Douglas Glen Boulevard Station (NB)</td>\n",
       "      <td>POINT (-114.00778 50.95750)</td>\n",
       "    </tr>\n",
       "    <tr>\n",
       "      <th>37266</th>\n",
       "      <td>9935</td>\n",
       "      <td>0</td>\n",
       "      <td>15:00-18:00</td>\n",
       "      <td>15</td>\n",
       "      <td>12</td>\n",
       "      <td>Douglas Glen Boulevard Station (NB)</td>\n",
       "      <td>POINT (-114.00778 50.95750)</td>\n",
       "    </tr>\n",
       "    <tr>\n",
       "      <th>37267</th>\n",
       "      <td>9935</td>\n",
       "      <td>0</td>\n",
       "      <td>18:00-24:00</td>\n",
       "      <td>17</td>\n",
       "      <td>21</td>\n",
       "      <td>Douglas Glen Boulevard Station (NB)</td>\n",
       "      <td>POINT (-114.00778 50.95750)</td>\n",
       "    </tr>\n",
       "    <tr>\n",
       "      <th>37268</th>\n",
       "      <td>9935</td>\n",
       "      <td>0</td>\n",
       "      <td>5:00-6:00</td>\n",
       "      <td>1</td>\n",
       "      <td>60</td>\n",
       "      <td>Douglas Glen Boulevard Station (NB)</td>\n",
       "      <td>POINT (-114.00778 50.95750)</td>\n",
       "    </tr>\n",
       "    <tr>\n",
       "      <th>37270</th>\n",
       "      <td>9935</td>\n",
       "      <td>0</td>\n",
       "      <td>9:00-15:00</td>\n",
       "      <td>30</td>\n",
       "      <td>12</td>\n",
       "      <td>Douglas Glen Boulevard Station (NB)</td>\n",
       "      <td>POINT (-114.00778 50.95750)</td>\n",
       "    </tr>\n",
       "  </tbody>\n",
       "</table>\n",
       "<p>1482 rows × 7 columns</p>\n",
       "</div>"
      ],
      "text/plain": [
       "      stop_id  direction_id       window  ntrips  min_per_trip  \\\n",
       "998      2178             0    0:00-5:00       2           150   \n",
       "999      2178             0  15:00-18:00      19             9   \n",
       "1000     2178             0  18:00-24:00      27            13   \n",
       "1001     2178             0    5:00-6:00       1            60   \n",
       "1002     2178             0    6:00-9:00      19             9   \n",
       "...       ...           ...          ...     ...           ...   \n",
       "37269    9935             0    6:00-9:00      15            12   \n",
       "37266    9935             0  15:00-18:00      15            12   \n",
       "37267    9935             0  18:00-24:00      17            21   \n",
       "37268    9935             0    5:00-6:00       1            60   \n",
       "37270    9935             0   9:00-15:00      30            12   \n",
       "\n",
       "                                 stop_name                     geometry  \n",
       "998             EB 17th AV SE @ 70th ST SE  POINT (-113.92965 51.03769)  \n",
       "999             EB 17th AV SE @ 70th ST SE  POINT (-113.92965 51.03769)  \n",
       "1000            EB 17th AV SE @ 70th ST SE  POINT (-113.92965 51.03769)  \n",
       "1001            EB 17th AV SE @ 70th ST SE  POINT (-113.92965 51.03769)  \n",
       "1002            EB 17th AV SE @ 70th ST SE  POINT (-113.92965 51.03769)  \n",
       "...                                    ...                          ...  \n",
       "37269  Douglas Glen Boulevard Station (NB)  POINT (-114.00778 50.95750)  \n",
       "37266  Douglas Glen Boulevard Station (NB)  POINT (-114.00778 50.95750)  \n",
       "37267  Douglas Glen Boulevard Station (NB)  POINT (-114.00778 50.95750)  \n",
       "37268  Douglas Glen Boulevard Station (NB)  POINT (-114.00778 50.95750)  \n",
       "37270  Douglas Glen Boulevard Station (NB)  POINT (-114.00778 50.95750)  \n",
       "\n",
       "[1482 rows x 7 columns]"
      ]
     },
     "execution_count": 9,
     "metadata": {},
     "output_type": "execute_result"
    }
   ],
   "source": [
    "stop_list = [3641, 3816, 3817, 3960, 4155, 4934, 6801, 6802, 6803, 6804, 6805, 6806, 6807, 6815, 6816, 6817, 6818, 6819, 6820, 6822, 6823, 6824, 6825, 6827, 6828, 6829, 6830, 6831, 8556, 8557, 8558, 8559, 8560, 8561, 8562, 8563, 8564, 8565, 8566, 9261, 9262, 9263, 9264, 9387, 9390, 9391, 9392, 3627, 3628, 3629, 3630, 3631, 3632, 3633, 3634, 3635, 3636, 3637, 3638, 3639, 6747, 6808, 6809, 6810, 6811, 6812, 6813, 6814, 6825, 6831, 8567, 8568, 8569, 8570, 8571, 8572, 9385, 9396, 9781, 9896, 9897, 2350, 2376, 2793, 2794, 2795, 2796, 2797, 2798, 2799, 2800, 2801, 2802, 2803, 3495, 5701, 5703, 5718, 5730, 5731, 5732, 5734, 5789, 6048, 6724, 6846, 7281, 7759, 7762, 7763, 7764, 7881, 7892, 8157, 8161, 8162, 8163, 8215, 9400, 9407, 9409, 9430, 9439, 9617, 3368, 3370, 3371, 3372, 3380, 3381, 3382, 3383, 3384, 3751, 3761, 4567, 4568, 4582, 4583, 5147, 5385, 5630, 5752, 5754, 5767, 5769, 6099, 6110, 6111, 6586, 6982, 8038, 8368, 9174, 9178, 9828, 2469, 2486, 2487, 2488, 2489, 2498, 3371, 3531, 3744, 3745, 3746, 3747, 3748, 3755, 3756, 3764, 3765, 3766, 3767, 3870, 5762, 5763, 6119, 6982, 9453, 9935, 2178, 2180, 2234, 2299, 2788, 3387, 3388, 3389, 3390, 3391, 3392, 3886, 4352, 5057, 7380, 8271, 8653, 8832, 9802, 9805, 9807, 9808, 9809, 9810, 9815, 9816, 9817, 9818, 9820, 9821]\n",
    "stop_list_str = [str(x) for x in stop_list]\n",
    "# stop_freq.loc[stop_freq[\"stop_id\"].isin(stop_list_str)].sort_values(by='stop_id').to_excel(\"PTN_stop_frequency.xlsx\")\n",
    "stop_freq.loc[stop_freq[\"stop_id\"].isin(stop_list_str)].sort_values(by='stop_id')\n",
    "# type(stop_freq[\"stop_id\"][1])\n",
    "# stop_freq"
   ]
  },
  {
   "cell_type": "code",
   "execution_count": 10,
   "metadata": {},
   "outputs": [],
   "source": [
    "line_freq = feed.lines_freq"
   ]
  },
  {
   "cell_type": "code",
   "execution_count": 11,
   "metadata": {},
   "outputs": [],
   "source": [
    "# line_freq.loc[line_freq[\"route_name\"].str.contains(\"Line|MAX\")].sort_values(by=['window']).to_excel(\"Lines_Frequency.xlsx\")\n",
    "ptn = line_freq.loc[line_freq[\"route_name\"].str.contains(\"Line|MAX\")].sort_values(by=['window'])"
   ]
  },
  {
   "cell_type": "code",
   "execution_count": 12,
   "metadata": {},
   "outputs": [],
   "source": [
    "morning_rush = '6:00-9:00'\n",
    "evening_rush = '15:00-18:00'"
   ]
  },
  {
   "cell_type": "code",
   "execution_count": 13,
   "metadata": {},
   "outputs": [],
   "source": [
    "rush_hour_performance = ptn.loc[ptn['window'].str.contains(morning_rush+\"|\"+evening_rush)].sort_values(by=['route_name'])"
   ]
  },
  {
   "cell_type": "code",
   "execution_count": 14,
   "metadata": {},
   "outputs": [
    {
     "data": {
      "text/plain": [
       "(121, 7)"
      ]
     },
     "execution_count": 14,
     "metadata": {},
     "output_type": "execute_result"
    }
   ],
   "source": [
    "ptn.shape"
   ]
  },
  {
   "cell_type": "code",
   "execution_count": 15,
   "metadata": {},
   "outputs": [],
   "source": [
    "ptn.to_excel('Lines_Frequency.xlsx')"
   ]
  },
  {
   "cell_type": "code",
   "execution_count": 16,
   "metadata": {},
   "outputs": [],
   "source": [
    "# sum_trips = ptn.groupby('route_name')['ntrips'].sum()\n",
    "n_trips = rush_hour_performance.groupby('route_id')['ntrips'].sum()"
   ]
  },
  {
   "cell_type": "code",
   "execution_count": 17,
   "metadata": {},
   "outputs": [
    {
     "data": {
      "text/plain": [
       "route_id\n",
       "201-20718    226\n",
       "202-20718    193\n",
       "303-20727     98\n",
       "304-20727     75\n",
       "306-20727     61\n",
       "307-20727     66\n",
       "Name: ntrips, dtype: int64"
      ]
     },
     "execution_count": 17,
     "metadata": {},
     "output_type": "execute_result"
    }
   ],
   "source": [
    "n_trips"
   ]
  },
  {
   "cell_type": "code",
   "execution_count": 18,
   "metadata": {},
   "outputs": [],
   "source": [
    "mean_min_per_trip = rush_hour_performance.groupby('route_id')['min_per_trip'].mean()"
   ]
  },
  {
   "cell_type": "code",
   "execution_count": 22,
   "metadata": {},
   "outputs": [],
   "source": [
    "median_min_per_trip = rush_hour_performance.groupby('route_id')['min_per_trip'].median()"
   ]
  },
  {
   "cell_type": "markdown",
   "metadata": {},
   "source": [
    "# Visualize through Kepler"
   ]
  },
  {
   "cell_type": "code",
   "execution_count": null,
   "metadata": {},
   "outputs": [],
   "source": [
    "feed = Feed(gtfs_path,start_date=\"2024-02-17\", end_date=\"2024-02-17\")\n",
    "\n",
    "feed.stop_times.fillna('', inplace=True)\n",
    "feed.trips.fillna('', inplace=True)\n",
    "# Repeat for other DataFrame attributes as needed\n",
    "\n",
    "# Now call get_segments_freq()\n",
    "segments_freq = feed.segments_freq"
   ]
  },
  {
   "cell_type": "code",
   "execution_count": null,
   "metadata": {},
   "outputs": [],
   "source": [
    "filtered_segments = segments_freq.loc[segments_freq[\"route_name\"].str.contains(\"MAX|Line\")]"
   ]
  },
  {
   "cell_type": "code",
   "execution_count": null,
   "metadata": {},
   "outputs": [],
   "source": [
    "map = kpl.KeplerGl(data=dict(data = filtered_segments, name = \"PTN_segments\"), config= ptn_config, height = 750)\n",
    "map.add_data(gpd_data, name=\"Community\")\n",
    "map"
   ]
  },
  {
   "cell_type": "code",
   "execution_count": null,
   "metadata": {},
   "outputs": [],
   "source": [
    "ptn_config = map.config"
   ]
  },
  {
   "cell_type": "markdown",
   "metadata": {},
   "source": [
    "# Supply Frequency and Capacity"
   ]
  },
  {
   "cell_type": "code",
   "execution_count": null,
   "metadata": {},
   "outputs": [],
   "source": [
    "data_path = os.getcwd()+\"/Data Sets/Analysis Data/\"\n",
    "current_supply_data = \"Supplyside588.xlsx\"\n",
    "future_supply_data = \"Supplyside588 - With future stops Updated.xlsx\""
   ]
  },
  {
   "cell_type": "code",
   "execution_count": null,
   "metadata": {},
   "outputs": [],
   "source": [
    "blue_trips = 193\n",
    "blue_freq = 8.9333\n",
    "red_trips = 444\n",
    "red_freq = 6.7\n",
    "orange_trips = 98\n",
    "orange_freq = 7.0833\n",
    "teal_trips = 65\n",
    "teal_freq = 15.6923\n",
    "yellow_trips = 75\n",
    "yellow_freq = 9.75\n",
    "purple_trips = 127\n",
    "purple_freq = 20.5172\n",
    "\n",
    "bus_capacity = 65\n",
    "train_capacity = 600\n"
   ]
  },
  {
   "cell_type": "markdown",
   "metadata": {},
   "source": [
    "Current Supply"
   ]
  },
  {
   "cell_type": "code",
   "execution_count": null,
   "metadata": {},
   "outputs": [],
   "source": [
    "supply_df = pd.read_excel(data_path+current_supply_data, sheet_name=\"Frequency Index\")\n"
   ]
  },
  {
   "cell_type": "code",
   "execution_count": null,
   "metadata": {},
   "outputs": [],
   "source": [
    "supply_df.shape"
   ]
  },
  {
   "cell_type": "code",
   "execution_count": null,
   "metadata": {},
   "outputs": [],
   "source": [
    "sup_fc = pd.DataFrame()"
   ]
  },
  {
   "cell_type": "code",
   "execution_count": null,
   "metadata": {},
   "outputs": [],
   "source": [
    "sup_fc['Community'] = supply_df['Community']\n",
    "sup_fc['Blue Trips'] = supply_df['Blue']\n",
    "sup_fc['Blue Freq'] = supply_df['Blue']\n",
    "sup_fc['Red Trips'] = supply_df[\"Red\"]\n",
    "sup_fc['Red Freq'] = supply_df[\"Red\"]\n",
    "sup_fc['Teal Trips'] = supply_df[\"Teal\"]\n",
    "sup_fc['Teal Freq'] = supply_df[\"Teal\"]\n",
    "sup_fc['Orange Trips'] = supply_df[\"Orange\"]\n",
    "sup_fc['Orange Freq'] = supply_df[\"Orange\"]\n",
    "sup_fc['Yellow Trips'] = supply_df[\"Yellow\"]\n",
    "sup_fc['Yellow Freq'] = supply_df[\"Yellow\"]\n",
    "sup_fc['Purple Trips'] = supply_df[\"Purple\"]\n",
    "sup_fc['Purple Freq'] = supply_df[\"Purple\"]"
   ]
  },
  {
   "cell_type": "code",
   "execution_count": null,
   "metadata": {},
   "outputs": [],
   "source": [
    "sup_fc.loc[(sup_fc['Blue Trips'] != 0),'Blue Trips'] = blue_trips\n",
    "sup_fc.loc[(sup_fc['Blue Freq'] != 0),'Blue Freq'] = blue_freq\n",
    "sup_fc.loc[(sup_fc['Red Trips'] != 0),'Red Trips'] = red_trips\n",
    "sup_fc.loc[(sup_fc['Red Freq'] != 0),'Red Freq'] = red_freq\n",
    "sup_fc.loc[(sup_fc['Orange Trips'] != 0),'Orange Trips'] = orange_trips\n",
    "sup_fc.loc[(sup_fc['Orange Freq'] != 0),'Orange Freq'] = orange_freq\n",
    "sup_fc.loc[(sup_fc['Yellow Trips'] != 0),'Yellow Trips'] = yellow_trips\n",
    "sup_fc.loc[(sup_fc['Yellow Freq'] != 0),'Yellow Freq'] = yellow_freq\n",
    "sup_fc.loc[(sup_fc['Teal Trips'] != 0),'Teal Trips'] = teal_trips\n",
    "sup_fc.loc[(sup_fc['Teal Freq'] != 0),'Teal Freq'] = teal_freq\n",
    "sup_fc.loc[(sup_fc['Purple Trips'] != 0),'Purple Trips'] = purple_trips\n",
    "sup_fc.loc[(sup_fc['Purple Freq'] != 0),'Purple Freq'] = purple_freq"
   ]
  },
  {
   "cell_type": "code",
   "execution_count": null,
   "metadata": {},
   "outputs": [],
   "source": [
    "sup_fc.head()"
   ]
  },
  {
   "cell_type": "code",
   "execution_count": null,
   "metadata": {},
   "outputs": [],
   "source": [
    "sup_fc.shape"
   ]
  },
  {
   "cell_type": "code",
   "execution_count": null,
   "metadata": {},
   "outputs": [],
   "source": [
    "comm_data.shape"
   ]
  },
  {
   "cell_type": "code",
   "execution_count": null,
   "metadata": {},
   "outputs": [],
   "source": [
    "# Merge the two DataFrames on the 'Community' and 'Community Name' columns\n",
    "merged_data = pd.merge(sup_fc, comm_data, left_on='Community', right_on='Community Name', how='right')\n",
    "\n",
    "# Update the 'Population' column in sup_fc with the corresponding values from comm_data\n",
    "sup_fc['Population'] = merged_data['Population in private households']"
   ]
  },
  {
   "cell_type": "code",
   "execution_count": null,
   "metadata": {},
   "outputs": [],
   "source": [
    "sup_fc.shape"
   ]
  },
  {
   "cell_type": "code",
   "execution_count": null,
   "metadata": {},
   "outputs": [],
   "source": [
    "freq_col = sup_fc.filter(like=\"Freq\")\n",
    "sup_fc['Total Freq'] = freq_col.sum(axis=1)"
   ]
  },
  {
   "cell_type": "code",
   "execution_count": null,
   "metadata": {},
   "outputs": [],
   "source": [
    "trip_col = sup_fc.filter(like=\"Trips\")\n",
    "train_col = trip_col.filter(regex=\"Blue|Red\")\n",
    "bus_col = trip_col.filter(regex=\"Orange|Teal|Yellow|Purple\")\n",
    "pop_col = sup_fc.filter(like=\"Population\")"
   ]
  },
  {
   "cell_type": "code",
   "execution_count": null,
   "metadata": {},
   "outputs": [],
   "source": [
    "# sup_fc[\"Capacity Index\"] = ((train_col.sum(axis=1)*train_capacity)+(bus_col.sum(axis=1)*bus_capacity))/pop_col.sum(axis=1)\n",
    "sup_fc['Sum Train Capacity'] = train_col.sum(axis=1)*train_capacity\n",
    "sup_fc['Sum Bus Capacity'] = bus_col.sum(axis=1)*bus_capacity"
   ]
  },
  {
   "cell_type": "code",
   "execution_count": null,
   "metadata": {},
   "outputs": [],
   "source": [
    "sup_fc[\"Capacity Index\"] = (sup_fc['Sum Train Capacity']+sup_fc['Sum Bus Capacity'])/pop_col.sum(axis=1)"
   ]
  },
  {
   "cell_type": "code",
   "execution_count": null,
   "metadata": {},
   "outputs": [],
   "source": [
    "min_freq = min(sup_fc[\"Total Freq\"])\n",
    "max_freq = max(sup_fc[\"Total Freq\"])\n",
    "min_cap = min(sup_fc['Capacity Index'])\n",
    "max_cap = max(sup_fc['Capacity Index'])"
   ]
  },
  {
   "cell_type": "code",
   "execution_count": null,
   "metadata": {},
   "outputs": [],
   "source": [
    "print(min_freq, max_freq, min_cap, max_cap)"
   ]
  },
  {
   "cell_type": "code",
   "execution_count": null,
   "metadata": {},
   "outputs": [],
   "source": [
    "sup_fc['SS Freq'] = (sup_fc['Total Freq']-min_freq)/(max_freq-min_freq)\n",
    "sup_fc['SS Cap'] = (sup_fc['Capacity Index']-min_cap)/(max_cap-min_cap)"
   ]
  },
  {
   "cell_type": "code",
   "execution_count": null,
   "metadata": {},
   "outputs": [],
   "source": [
    "sup_fc.loc[sup_fc[\"Capacity Index\"]==max_cap].head()"
   ]
  },
  {
   "cell_type": "code",
   "execution_count": null,
   "metadata": {},
   "outputs": [],
   "source": [
    "sup_fc.shape"
   ]
  },
  {
   "cell_type": "code",
   "execution_count": null,
   "metadata": {},
   "outputs": [],
   "source": [
    "sup_fc.to_csv(data_path+'Current_Freq_Cap.csv')"
   ]
  },
  {
   "cell_type": "markdown",
   "metadata": {},
   "source": [
    "Future Supply"
   ]
  },
  {
   "cell_type": "code",
   "execution_count": null,
   "metadata": {},
   "outputs": [],
   "source": [
    "fut_sup_df = pd.read_excel(data_path+future_supply_data, sheet_name = 'F.Frequ')"
   ]
  },
  {
   "cell_type": "code",
   "execution_count": null,
   "metadata": {},
   "outputs": [],
   "source": [
    "sup_fc = pd.DataFrame()"
   ]
  },
  {
   "cell_type": "code",
   "execution_count": null,
   "metadata": {},
   "outputs": [],
   "source": [
    "sup_fc['Community'] = fut_sup_df['Community']\n",
    "sup_fc['Blue Trips'] = fut_sup_df['Blue']\n",
    "sup_fc['Blue Freq'] = fut_sup_df['Blue']\n",
    "sup_fc['Red Trips'] = fut_sup_df[\"Red\"]\n",
    "sup_fc['Red Freq'] = fut_sup_df[\"Red\"]\n",
    "sup_fc['Green Trips'] = fut_sup_df[\"Green\"]\n",
    "sup_fc['Green Freq'] = fut_sup_df[\"Green\"]\n",
    "sup_fc['Teal Trips'] = fut_sup_df[\"Teal\"]\n",
    "sup_fc['Teal Freq'] = fut_sup_df[\"Teal\"]\n",
    "sup_fc['Orange Trips'] = fut_sup_df[\"Orange\"]\n",
    "sup_fc['Orange Freq'] = fut_sup_df[\"Orange\"]\n",
    "sup_fc['Yellow Trips'] = fut_sup_df[\"Yellow\"]\n",
    "sup_fc['Yellow Freq'] = fut_sup_df[\"Yellow\"]\n",
    "sup_fc['Purple Trips'] = fut_sup_df[\"Purple\"]\n",
    "sup_fc['Purple Freq'] = fut_sup_df[\"Purple\"]\n",
    "sup_fc['East Gray Trips'] = fut_sup_df[\"Teal\"]\n",
    "sup_fc['East Gray Freq'] = fut_sup_df[\"Teal\"]\n",
    "sup_fc['West Gray Trips'] = fut_sup_df[\"Teal\"]\n",
    "sup_fc['West Gray Freq'] = fut_sup_df[\"Teal\"]\n",
    "sup_fc['Future Brentwood Trips'] = fut_sup_df[\"Teal\"]\n",
    "sup_fc['Future Brentwood Freq'] = fut_sup_df[\"Teal\"]\n",
    "sup_fc['Future Tuscany Trips'] = fut_sup_df[\"Teal\"]\n",
    "sup_fc['Future Tuscany Freq'] = fut_sup_df[\"Teal\"]"
   ]
  },
  {
   "cell_type": "code",
   "execution_count": null,
   "metadata": {},
   "outputs": [],
   "source": [
    "print(sup_fc.shape)\n",
    "sup_fc.head()"
   ]
  },
  {
   "cell_type": "code",
   "execution_count": null,
   "metadata": {},
   "outputs": [],
   "source": [
    "sup_fc.loc[(sup_fc['Blue Trips'] != 0),'Blue Trips'] = blue_trips\n",
    "sup_fc.loc[(sup_fc['Blue Freq'] != 0),'Blue Freq'] = blue_freq\n",
    "sup_fc.loc[(sup_fc['Red Trips'] != 0),'Red Trips'] = red_trips\n",
    "sup_fc.loc[(sup_fc['Red Freq'] != 0),'Red Freq'] = red_freq\n",
    "sup_fc.loc[(sup_fc['Orange Trips'] != 0),'Orange Trips'] = orange_trips\n",
    "sup_fc.loc[(sup_fc['Orange Freq'] != 0),'Orange Freq'] = orange_freq\n",
    "sup_fc.loc[(sup_fc['Yellow Trips'] != 0),'Yellow Trips'] = yellow_trips\n",
    "sup_fc.loc[(sup_fc['Yellow Freq'] != 0),'Yellow Freq'] = yellow_freq\n",
    "sup_fc.loc[(sup_fc['Teal Trips'] != 0),'Teal Trips'] = teal_trips\n",
    "sup_fc.loc[(sup_fc['Teal Freq'] != 0),'Teal Freq'] = teal_freq\n",
    "sup_fc.loc[(sup_fc['Purple Trips'] != 0),'Purple Trips'] = purple_trips\n",
    "sup_fc.loc[(sup_fc['Purple Freq'] != 0),'Purple Freq'] = purple_freq\n",
    "sup_fc.loc[(sup_fc['Green Trips'] != 0), 'Green Trips'] = red_trips\n",
    "sup_fc.loc[(sup_fc['Green Freq'] != 0), 'Green Freq'] = red_freq\n",
    "sup_fc.loc[(sup_fc['East Gray Trips'] != 0), 'East Gray Trips']  = teal_trips\n",
    "sup_fc.loc[(sup_fc['East Gray Freq'] != 0), 'East Gray Freq']  = teal_freq\n",
    "sup_fc.loc[(sup_fc['West Gray Trips'] != 0), 'West Gray Trips'] = teal_trips\n",
    "sup_fc.loc[(sup_fc['West Gray Freq'] != 0), 'West Gray Freq']  = teal_freq\n",
    "sup_fc.loc[(sup_fc['Future Brentwood Trips'] !=0), 'Future Brentwood Trips'] = teal_trips\n",
    "sup_fc.loc[(sup_fc['Future Brentwood Freq'] !=0), 'Future Brentwood Freq'] = teal_freq\n",
    "sup_fc.loc[(sup_fc['Future Tuscany Trips'] !=0), 'Future Tuscany Trips'] = teal_trips\n",
    "sup_fc.loc[(sup_fc['Future Tuscany Freq'] !=0), 'Future Tuscany Freq'] = teal_freq"
   ]
  },
  {
   "cell_type": "code",
   "execution_count": null,
   "metadata": {},
   "outputs": [],
   "source": [
    "print(sup_fc.shape)\n",
    "sup_fc.head()"
   ]
  },
  {
   "cell_type": "code",
   "execution_count": null,
   "metadata": {},
   "outputs": [],
   "source": [
    "# Merge the two DataFrames on the 'Community' and 'Community Name' columns\n",
    "merged_data = pd.merge(sup_fc, comm_data, left_on='Community', right_on='Community Name', how='right')\n",
    "\n",
    "# Update the 'Population' column in sup_fc with the corresponding values from comm_data\n",
    "sup_fc['Population'] = merged_data['Population in private households']"
   ]
  },
  {
   "cell_type": "code",
   "execution_count": null,
   "metadata": {},
   "outputs": [],
   "source": [
    "sup_fc.shape"
   ]
  },
  {
   "cell_type": "code",
   "execution_count": null,
   "metadata": {},
   "outputs": [],
   "source": [
    "freq_col = sup_fc.filter(like=\"Freq\")\n",
    "trip_col = sup_fc.filter(like=\"Trips\")\n",
    "train_col = trip_col.filter(regex=\"Blue|Red|Green\")\n",
    "bus_col = trip_col.filter(regex=\"Orange|Teal|Yellow|Purple|Gray|Future\")\n",
    "pop_col = sup_fc.filter(like=\"Population\")"
   ]
  },
  {
   "cell_type": "code",
   "execution_count": null,
   "metadata": {},
   "outputs": [],
   "source": [
    "pop_col.head()"
   ]
  },
  {
   "cell_type": "code",
   "execution_count": null,
   "metadata": {},
   "outputs": [],
   "source": [
    "sup_fc['Total Freq'] = freq_col.sum(axis=1)\n",
    "sup_fc['Sum Train Capacity'] = train_col.sum(axis=1)*train_capacity\n",
    "sup_fc['Sum Bus Capacity'] = bus_col.sum(axis=1)*bus_capacity\n",
    "sup_fc[\"Capacity Index\"] = (sup_fc['Sum Train Capacity']+sup_fc['Sum Bus Capacity'])/pop_col.sum(axis=1)"
   ]
  },
  {
   "cell_type": "code",
   "execution_count": null,
   "metadata": {},
   "outputs": [],
   "source": [
    "min_freq = min(sup_fc[\"Total Freq\"])\n",
    "max_freq = max(sup_fc[\"Total Freq\"])\n",
    "min_cap = min(sup_fc['Capacity Index'])\n",
    "max_cap = max(sup_fc['Capacity Index'])"
   ]
  },
  {
   "cell_type": "code",
   "execution_count": null,
   "metadata": {},
   "outputs": [],
   "source": [
    "sup_fc['SS Freq'] = (sup_fc['Total Freq']-min_freq)/(max_freq-min_freq)\n",
    "sup_fc['SS Cap'] = (sup_fc['Capacity Index']-min_cap)/(max_cap-min_cap)"
   ]
  },
  {
   "cell_type": "code",
   "execution_count": null,
   "metadata": {},
   "outputs": [],
   "source": [
    "print(sup_fc.shape)\n",
    "sup_fc.head()"
   ]
  },
  {
   "cell_type": "code",
   "execution_count": null,
   "metadata": {},
   "outputs": [],
   "source": [
    "sup_fc.to_csv(data_path+'Future_Freq_Cap.csv')"
   ]
  },
  {
   "cell_type": "markdown",
   "metadata": {},
   "source": [
    "# SF SC Through Stop Sorted"
   ]
  },
  {
   "cell_type": "code",
   "execution_count": 118,
   "metadata": {},
   "outputs": [],
   "source": [
    "data_path = os.getcwd()+\"/Data Sets/Analysis Data/\"\n",
    "current_stops_data = \"Stops Sorted.xlsx\"\n",
    "future_stops_data = \"Stops Sorted Future Network.xlsx\"\n",
    "# comm_file = \"Community Profiles Compiled.xlsx\"\n",
    "comm_file = 'demand.csv'"
   ]
  },
  {
   "cell_type": "code",
   "execution_count": 119,
   "metadata": {},
   "outputs": [],
   "source": [
    "red_code = '201-20718'\n",
    "blue_code = '202-20718'\n",
    "orange_code = '303-20727'\n",
    "yellow_code = '304-20727'\n",
    "teal_code = '306-20727'\n",
    "purple_code = '307-20727'"
   ]
  },
  {
   "cell_type": "code",
   "execution_count": 120,
   "metadata": {},
   "outputs": [],
   "source": [
    "blue_trips = n_trips.loc[blue_code]\n",
    "blue_freq = median_min_per_trip.loc[blue_code]\n",
    "red_trips = n_trips.loc[red_code]\n",
    "red_freq = median_min_per_trip.loc[red_code]\n",
    "orange_trips = n_trips.loc[orange_code]\n",
    "orange_freq = median_min_per_trip.loc[orange_code]\n",
    "teal_trips = n_trips.loc[teal_code]\n",
    "teal_freq = median_min_per_trip.loc[teal_code]\n",
    "yellow_trips = n_trips.loc[yellow_code]\n",
    "yellow_freq = median_min_per_trip.loc[yellow_code]\n",
    "purple_trips = n_trips.loc[purple_code]\n",
    "purple_freq = median_min_per_trip.loc[purple_code]\n",
    "\n",
    "bus_capacity = 65\n",
    "train_capacity = 600\n"
   ]
  },
  {
   "cell_type": "code",
   "execution_count": 121,
   "metadata": {},
   "outputs": [],
   "source": [
    "green_trips = n_trips.loc[red_code]\n",
    "green_freq = median_min_per_trip.loc[red_code]\n",
    "east_grey_trips = n_trips.loc[teal_code]\n",
    "east_grey_freq = median_min_per_trip.loc[teal_code]\n",
    "west_grey_trips = n_trips.loc[teal_code]\n",
    "west_grey_freq = median_min_per_trip.loc[teal_code]\n",
    "future_brentwood_trips = n_trips.loc[teal_code]\n",
    "future_brentwood_freq = median_min_per_trip.loc[teal_code]\n",
    "future_tuscany_trips = n_trips.loc[teal_code]\n",
    "future_tuscany_freq = median_min_per_trip.loc[teal_code]"
   ]
  },
  {
   "cell_type": "code",
   "execution_count": 122,
   "metadata": {},
   "outputs": [],
   "source": [
    "comm_data = pd.read_csv(data_path+comm_file)\n",
    "stop_df = pd.read_excel(data_path+current_stops_data, sheet_name = \"Sheet2\")\n",
    "fut_stop_df = pd.read_excel(data_path+future_stops_data, sheet_name = \"Sheet2\")"
   ]
  },
  {
   "cell_type": "code",
   "execution_count": 123,
   "metadata": {},
   "outputs": [
    {
     "data": {
      "text/html": [
       "<div>\n",
       "<style scoped>\n",
       "    .dataframe tbody tr th:only-of-type {\n",
       "        vertical-align: middle;\n",
       "    }\n",
       "\n",
       "    .dataframe tbody tr th {\n",
       "        vertical-align: top;\n",
       "    }\n",
       "\n",
       "    .dataframe thead th {\n",
       "        text-align: right;\n",
       "    }\n",
       "</style>\n",
       "<table border=\"1\" class=\"dataframe\">\n",
       "  <thead>\n",
       "    <tr style=\"text-align: right;\">\n",
       "      <th></th>\n",
       "      <th>Stops</th>\n",
       "      <th>Coordinates</th>\n",
       "      <th>Line</th>\n",
       "      <th>Community</th>\n",
       "    </tr>\n",
       "  </thead>\n",
       "  <tbody>\n",
       "    <tr>\n",
       "      <th>0</th>\n",
       "      <td>69th street</td>\n",
       "      <td>51.037317,-114.187902</td>\n",
       "      <td>Blue Line</td>\n",
       "      <td>Christie Park\\nSpringbank Hill\\nSignal Hill\\nA...</td>\n",
       "    </tr>\n",
       "    <tr>\n",
       "      <th>1</th>\n",
       "      <td>Sirocco</td>\n",
       "      <td>51.038353, -114.169128</td>\n",
       "      <td>Blue Line</td>\n",
       "      <td>Christie Park\\nSignal Hill</td>\n",
       "    </tr>\n",
       "    <tr>\n",
       "      <th>2</th>\n",
       "      <td>45th Street</td>\n",
       "      <td>51.03776,-114.153425</td>\n",
       "      <td>Blue Line</td>\n",
       "      <td>Westgate\\nRosscarrock\\nGlendale</td>\n",
       "    </tr>\n",
       "    <tr>\n",
       "      <th>3</th>\n",
       "      <td>Westbrook</td>\n",
       "      <td>51.041596,-114.124162</td>\n",
       "      <td>Blue Line</td>\n",
       "      <td>Shaganappi\\nRosscarrock\\nKillarney</td>\n",
       "    </tr>\n",
       "    <tr>\n",
       "      <th>4</th>\n",
       "      <td>Shagannappi Point</td>\n",
       "      <td>51.041724,-114.124038</td>\n",
       "      <td>Blue Line</td>\n",
       "      <td>Shaganappi</td>\n",
       "    </tr>\n",
       "  </tbody>\n",
       "</table>\n",
       "</div>"
      ],
      "text/plain": [
       "               Stops             Coordinates       Line  \\\n",
       "0        69th street   51.037317,-114.187902  Blue Line   \n",
       "1            Sirocco  51.038353, -114.169128  Blue Line   \n",
       "2        45th Street    51.03776,-114.153425  Blue Line   \n",
       "3          Westbrook   51.041596,-114.124162  Blue Line   \n",
       "4  Shagannappi Point   51.041724,-114.124038  Blue Line   \n",
       "\n",
       "                                           Community  \n",
       "0  Christie Park\\nSpringbank Hill\\nSignal Hill\\nA...  \n",
       "1                         Christie Park\\nSignal Hill  \n",
       "2                    Westgate\\nRosscarrock\\nGlendale  \n",
       "3                 Shaganappi\\nRosscarrock\\nKillarney  \n",
       "4                                         Shaganappi  "
      ]
     },
     "execution_count": 123,
     "metadata": {},
     "output_type": "execute_result"
    }
   ],
   "source": [
    "stop_df.head()"
   ]
  },
  {
   "cell_type": "code",
   "execution_count": 124,
   "metadata": {},
   "outputs": [],
   "source": [
    "stop_df['Community'] = stop_df['Community'].str.rstrip('\\n').str.replace('\\n',',')"
   ]
  },
  {
   "cell_type": "code",
   "execution_count": 125,
   "metadata": {},
   "outputs": [
    {
     "data": {
      "text/html": [
       "<div>\n",
       "<style scoped>\n",
       "    .dataframe tbody tr th:only-of-type {\n",
       "        vertical-align: middle;\n",
       "    }\n",
       "\n",
       "    .dataframe tbody tr th {\n",
       "        vertical-align: top;\n",
       "    }\n",
       "\n",
       "    .dataframe thead th {\n",
       "        text-align: right;\n",
       "    }\n",
       "</style>\n",
       "<table border=\"1\" class=\"dataframe\">\n",
       "  <thead>\n",
       "    <tr style=\"text-align: right;\">\n",
       "      <th></th>\n",
       "      <th>Stops</th>\n",
       "      <th>Coordinates</th>\n",
       "      <th>Line</th>\n",
       "      <th>Community</th>\n",
       "    </tr>\n",
       "  </thead>\n",
       "  <tbody>\n",
       "    <tr>\n",
       "      <th>0</th>\n",
       "      <td>69th street</td>\n",
       "      <td>51.037317,-114.187902</td>\n",
       "      <td>Blue Line</td>\n",
       "      <td>Christie Park,Springbank Hill,Signal Hill,Aspe...</td>\n",
       "    </tr>\n",
       "    <tr>\n",
       "      <th>1</th>\n",
       "      <td>Sirocco</td>\n",
       "      <td>51.038353, -114.169128</td>\n",
       "      <td>Blue Line</td>\n",
       "      <td>Christie Park,Signal Hill</td>\n",
       "    </tr>\n",
       "    <tr>\n",
       "      <th>2</th>\n",
       "      <td>45th Street</td>\n",
       "      <td>51.03776,-114.153425</td>\n",
       "      <td>Blue Line</td>\n",
       "      <td>Westgate,Rosscarrock,Glendale</td>\n",
       "    </tr>\n",
       "    <tr>\n",
       "      <th>3</th>\n",
       "      <td>Westbrook</td>\n",
       "      <td>51.041596,-114.124162</td>\n",
       "      <td>Blue Line</td>\n",
       "      <td>Shaganappi,Rosscarrock,Killarney</td>\n",
       "    </tr>\n",
       "    <tr>\n",
       "      <th>4</th>\n",
       "      <td>Shagannappi Point</td>\n",
       "      <td>51.041724,-114.124038</td>\n",
       "      <td>Blue Line</td>\n",
       "      <td>Shaganappi</td>\n",
       "    </tr>\n",
       "  </tbody>\n",
       "</table>\n",
       "</div>"
      ],
      "text/plain": [
       "               Stops             Coordinates       Line  \\\n",
       "0        69th street   51.037317,-114.187902  Blue Line   \n",
       "1            Sirocco  51.038353, -114.169128  Blue Line   \n",
       "2        45th Street    51.03776,-114.153425  Blue Line   \n",
       "3          Westbrook   51.041596,-114.124162  Blue Line   \n",
       "4  Shagannappi Point   51.041724,-114.124038  Blue Line   \n",
       "\n",
       "                                           Community  \n",
       "0  Christie Park,Springbank Hill,Signal Hill,Aspe...  \n",
       "1                          Christie Park,Signal Hill  \n",
       "2                      Westgate,Rosscarrock,Glendale  \n",
       "3                   Shaganappi,Rosscarrock,Killarney  \n",
       "4                                         Shaganappi  "
      ]
     },
     "execution_count": 125,
     "metadata": {},
     "output_type": "execute_result"
    }
   ],
   "source": [
    "stop_df.head()"
   ]
  },
  {
   "cell_type": "code",
   "execution_count": 126,
   "metadata": {},
   "outputs": [],
   "source": [
    "# service_dict = {}\n",
    "comm_list = []\n",
    "red_list = []\n",
    "blue_list = []\n",
    "orange_list = []\n",
    "yellow_list = []\n",
    "purple_list = []\n",
    "teal_list = []"
   ]
  },
  {
   "cell_type": "code",
   "execution_count": 127,
   "metadata": {},
   "outputs": [],
   "source": [
    "for index, row in stop_df.iterrows():\n",
    "    if 'Line' in row['Line']:\n",
    "        if 'Red' in row['Line']:\n",
    "            red_list.extend([com for com in row['Community'].split(',')])\n",
    "        else:\n",
    "            blue_list.extend([com for com in row['Community'].split(',')])\n",
    "    else:\n",
    "        if 'Orange' in row['Line']:\n",
    "            orange_list.extend([com for com in row['Community'].split(',')])\n",
    "        elif 'Purple' in row['Line']:\n",
    "            purple_list.extend([com for com in row['Community'].split(',')])\n",
    "        elif 'Teal' in row['Line']:\n",
    "            teal_list.extend([com for com in row['Community'].split(',')])\n",
    "        else:\n",
    "            yellow_list.extend([com for com in row['Community'].split(',')])"
   ]
  },
  {
   "cell_type": "code",
   "execution_count": 128,
   "metadata": {},
   "outputs": [],
   "source": [
    "comm_list = list(set(red_list+blue_list+orange_list+purple_list+teal_list+yellow_list))\n",
    "clean_com_list = [item for item in comm_list if item.strip()]\n",
    "service_df = pd.DataFrame(clean_com_list, columns=[\"Community\"]).sort_values(by=\"Community\")"
   ]
  },
  {
   "cell_type": "code",
   "execution_count": 129,
   "metadata": {},
   "outputs": [
    {
     "data": {
      "text/html": [
       "<div>\n",
       "<style scoped>\n",
       "    .dataframe tbody tr th:only-of-type {\n",
       "        vertical-align: middle;\n",
       "    }\n",
       "\n",
       "    .dataframe tbody tr th {\n",
       "        vertical-align: top;\n",
       "    }\n",
       "\n",
       "    .dataframe thead th {\n",
       "        text-align: right;\n",
       "    }\n",
       "</style>\n",
       "<table border=\"1\" class=\"dataframe\">\n",
       "  <thead>\n",
       "    <tr style=\"text-align: right;\">\n",
       "      <th></th>\n",
       "      <th>Community</th>\n",
       "    </tr>\n",
       "  </thead>\n",
       "  <tbody>\n",
       "    <tr>\n",
       "      <th>21</th>\n",
       "      <td>Acadia</td>\n",
       "    </tr>\n",
       "    <tr>\n",
       "      <th>38</th>\n",
       "      <td>Altadore</td>\n",
       "    </tr>\n",
       "    <tr>\n",
       "      <th>54</th>\n",
       "      <td>Applewood Park</td>\n",
       "    </tr>\n",
       "    <tr>\n",
       "      <th>65</th>\n",
       "      <td>Arbour Lake</td>\n",
       "    </tr>\n",
       "    <tr>\n",
       "      <th>26</th>\n",
       "      <td>Aspen Woods</td>\n",
       "    </tr>\n",
       "    <tr>\n",
       "      <th>...</th>\n",
       "      <td>...</td>\n",
       "    </tr>\n",
       "    <tr>\n",
       "      <th>93</th>\n",
       "      <td>Whitehorn</td>\n",
       "    </tr>\n",
       "    <tr>\n",
       "      <th>74</th>\n",
       "      <td>Willow Park</td>\n",
       "    </tr>\n",
       "    <tr>\n",
       "      <th>0</th>\n",
       "      <td>Winston Heights/Mountview</td>\n",
       "    </tr>\n",
       "    <tr>\n",
       "      <th>1</th>\n",
       "      <td>Woodbine</td>\n",
       "    </tr>\n",
       "    <tr>\n",
       "      <th>12</th>\n",
       "      <td>Woodlands</td>\n",
       "    </tr>\n",
       "  </tbody>\n",
       "</table>\n",
       "<p>97 rows × 1 columns</p>\n",
       "</div>"
      ],
      "text/plain": [
       "                    Community\n",
       "21                     Acadia\n",
       "38                   Altadore\n",
       "54             Applewood Park\n",
       "65                Arbour Lake\n",
       "26                Aspen Woods\n",
       "..                        ...\n",
       "93                  Whitehorn\n",
       "74                Willow Park\n",
       "0   Winston Heights/Mountview\n",
       "1                    Woodbine\n",
       "12                  Woodlands\n",
       "\n",
       "[97 rows x 1 columns]"
      ]
     },
     "execution_count": 129,
     "metadata": {},
     "output_type": "execute_result"
    }
   ],
   "source": [
    "service_df"
   ]
  },
  {
   "cell_type": "code",
   "execution_count": 130,
   "metadata": {},
   "outputs": [],
   "source": [
    "service_df[\"Red Trips\"] = service_df[\"Community\"].isin(red_list) * red_trips\n",
    "service_df[\"Red Freq\"] = service_df[\"Community\"].isin(red_list) * red_freq\n",
    "service_df[\"Blue Trips\"] = service_df[\"Community\"].isin(blue_list) * blue_trips\n",
    "service_df[\"Blue Freq\"] = service_df[\"Community\"].isin(blue_list) * blue_freq\n",
    "service_df[\"Orange Trips\"] = service_df[\"Community\"].isin(orange_list) * orange_trips\n",
    "service_df[\"Orange Freq\"] = service_df[\"Community\"].isin(orange_list) * orange_freq\n",
    "service_df[\"Yellow Trips\"] = service_df[\"Community\"].isin(yellow_list) * yellow_trips\n",
    "service_df[\"Yellow Freq\"] = service_df[\"Community\"].isin(yellow_list) * yellow_freq\n",
    "service_df[\"Teal Trips\"] = service_df[\"Community\"].isin(teal_list) * teal_trips\n",
    "service_df[\"Teal Freq\"] = service_df[\"Community\"].isin(teal_list) * teal_freq\n",
    "service_df[\"Purple Trips\"] = service_df[\"Community\"].isin(purple_list) * purple_trips\n",
    "service_df[\"Purple Freq\"] = service_df[\"Community\"].isin(purple_list) * purple_freq"
   ]
  },
  {
   "cell_type": "code",
   "execution_count": 131,
   "metadata": {},
   "outputs": [
    {
     "data": {
      "text/html": [
       "<div>\n",
       "<style scoped>\n",
       "    .dataframe tbody tr th:only-of-type {\n",
       "        vertical-align: middle;\n",
       "    }\n",
       "\n",
       "    .dataframe tbody tr th {\n",
       "        vertical-align: top;\n",
       "    }\n",
       "\n",
       "    .dataframe thead th {\n",
       "        text-align: right;\n",
       "    }\n",
       "</style>\n",
       "<table border=\"1\" class=\"dataframe\">\n",
       "  <thead>\n",
       "    <tr style=\"text-align: right;\">\n",
       "      <th></th>\n",
       "      <th>Community</th>\n",
       "      <th>Red Trips</th>\n",
       "      <th>Red Freq</th>\n",
       "      <th>Blue Trips</th>\n",
       "      <th>Blue Freq</th>\n",
       "      <th>Orange Trips</th>\n",
       "      <th>Orange Freq</th>\n",
       "      <th>Yellow Trips</th>\n",
       "      <th>Yellow Freq</th>\n",
       "      <th>Teal Trips</th>\n",
       "      <th>Teal Freq</th>\n",
       "      <th>Purple Trips</th>\n",
       "      <th>Purple Freq</th>\n",
       "    </tr>\n",
       "  </thead>\n",
       "  <tbody>\n",
       "    <tr>\n",
       "      <th>21</th>\n",
       "      <td>Acadia</td>\n",
       "      <td>226</td>\n",
       "      <td>10.0</td>\n",
       "      <td>0</td>\n",
       "      <td>0.0</td>\n",
       "      <td>0</td>\n",
       "      <td>0.0</td>\n",
       "      <td>0</td>\n",
       "      <td>0.0</td>\n",
       "      <td>61</td>\n",
       "      <td>12.0</td>\n",
       "      <td>0</td>\n",
       "      <td>0.0</td>\n",
       "    </tr>\n",
       "    <tr>\n",
       "      <th>38</th>\n",
       "      <td>Altadore</td>\n",
       "      <td>0</td>\n",
       "      <td>0.0</td>\n",
       "      <td>0</td>\n",
       "      <td>0.0</td>\n",
       "      <td>0</td>\n",
       "      <td>0.0</td>\n",
       "      <td>75</td>\n",
       "      <td>9.5</td>\n",
       "      <td>0</td>\n",
       "      <td>0.0</td>\n",
       "      <td>0</td>\n",
       "      <td>0.0</td>\n",
       "    </tr>\n",
       "    <tr>\n",
       "      <th>54</th>\n",
       "      <td>Applewood Park</td>\n",
       "      <td>0</td>\n",
       "      <td>0.0</td>\n",
       "      <td>0</td>\n",
       "      <td>0.0</td>\n",
       "      <td>0</td>\n",
       "      <td>0.0</td>\n",
       "      <td>0</td>\n",
       "      <td>0.0</td>\n",
       "      <td>0</td>\n",
       "      <td>0.0</td>\n",
       "      <td>66</td>\n",
       "      <td>25.0</td>\n",
       "    </tr>\n",
       "    <tr>\n",
       "      <th>65</th>\n",
       "      <td>Arbour Lake</td>\n",
       "      <td>226</td>\n",
       "      <td>10.0</td>\n",
       "      <td>0</td>\n",
       "      <td>0.0</td>\n",
       "      <td>0</td>\n",
       "      <td>0.0</td>\n",
       "      <td>0</td>\n",
       "      <td>0.0</td>\n",
       "      <td>0</td>\n",
       "      <td>0.0</td>\n",
       "      <td>0</td>\n",
       "      <td>0.0</td>\n",
       "    </tr>\n",
       "    <tr>\n",
       "      <th>26</th>\n",
       "      <td>Aspen Woods</td>\n",
       "      <td>0</td>\n",
       "      <td>0.0</td>\n",
       "      <td>193</td>\n",
       "      <td>4.0</td>\n",
       "      <td>0</td>\n",
       "      <td>0.0</td>\n",
       "      <td>0</td>\n",
       "      <td>0.0</td>\n",
       "      <td>0</td>\n",
       "      <td>0.0</td>\n",
       "      <td>0</td>\n",
       "      <td>0.0</td>\n",
       "    </tr>\n",
       "    <tr>\n",
       "      <th>...</th>\n",
       "      <td>...</td>\n",
       "      <td>...</td>\n",
       "      <td>...</td>\n",
       "      <td>...</td>\n",
       "      <td>...</td>\n",
       "      <td>...</td>\n",
       "      <td>...</td>\n",
       "      <td>...</td>\n",
       "      <td>...</td>\n",
       "      <td>...</td>\n",
       "      <td>...</td>\n",
       "      <td>...</td>\n",
       "      <td>...</td>\n",
       "    </tr>\n",
       "    <tr>\n",
       "      <th>93</th>\n",
       "      <td>Whitehorn</td>\n",
       "      <td>0</td>\n",
       "      <td>0.0</td>\n",
       "      <td>193</td>\n",
       "      <td>4.0</td>\n",
       "      <td>98</td>\n",
       "      <td>7.0</td>\n",
       "      <td>0</td>\n",
       "      <td>0.0</td>\n",
       "      <td>0</td>\n",
       "      <td>0.0</td>\n",
       "      <td>0</td>\n",
       "      <td>0.0</td>\n",
       "    </tr>\n",
       "    <tr>\n",
       "      <th>74</th>\n",
       "      <td>Willow Park</td>\n",
       "      <td>226</td>\n",
       "      <td>10.0</td>\n",
       "      <td>0</td>\n",
       "      <td>0.0</td>\n",
       "      <td>0</td>\n",
       "      <td>0.0</td>\n",
       "      <td>0</td>\n",
       "      <td>0.0</td>\n",
       "      <td>0</td>\n",
       "      <td>0.0</td>\n",
       "      <td>0</td>\n",
       "      <td>0.0</td>\n",
       "    </tr>\n",
       "    <tr>\n",
       "      <th>0</th>\n",
       "      <td>Winston Heights/Mountview</td>\n",
       "      <td>0</td>\n",
       "      <td>0.0</td>\n",
       "      <td>0</td>\n",
       "      <td>0.0</td>\n",
       "      <td>98</td>\n",
       "      <td>7.0</td>\n",
       "      <td>0</td>\n",
       "      <td>0.0</td>\n",
       "      <td>0</td>\n",
       "      <td>0.0</td>\n",
       "      <td>0</td>\n",
       "      <td>0.0</td>\n",
       "    </tr>\n",
       "    <tr>\n",
       "      <th>1</th>\n",
       "      <td>Woodbine</td>\n",
       "      <td>0</td>\n",
       "      <td>0.0</td>\n",
       "      <td>0</td>\n",
       "      <td>0.0</td>\n",
       "      <td>0</td>\n",
       "      <td>0.0</td>\n",
       "      <td>75</td>\n",
       "      <td>9.5</td>\n",
       "      <td>0</td>\n",
       "      <td>0.0</td>\n",
       "      <td>0</td>\n",
       "      <td>0.0</td>\n",
       "    </tr>\n",
       "    <tr>\n",
       "      <th>12</th>\n",
       "      <td>Woodlands</td>\n",
       "      <td>0</td>\n",
       "      <td>0.0</td>\n",
       "      <td>0</td>\n",
       "      <td>0.0</td>\n",
       "      <td>0</td>\n",
       "      <td>0.0</td>\n",
       "      <td>75</td>\n",
       "      <td>9.5</td>\n",
       "      <td>0</td>\n",
       "      <td>0.0</td>\n",
       "      <td>0</td>\n",
       "      <td>0.0</td>\n",
       "    </tr>\n",
       "  </tbody>\n",
       "</table>\n",
       "<p>97 rows × 13 columns</p>\n",
       "</div>"
      ],
      "text/plain": [
       "                    Community  Red Trips  Red Freq  Blue Trips  Blue Freq  \\\n",
       "21                     Acadia        226      10.0           0        0.0   \n",
       "38                   Altadore          0       0.0           0        0.0   \n",
       "54             Applewood Park          0       0.0           0        0.0   \n",
       "65                Arbour Lake        226      10.0           0        0.0   \n",
       "26                Aspen Woods          0       0.0         193        4.0   \n",
       "..                        ...        ...       ...         ...        ...   \n",
       "93                  Whitehorn          0       0.0         193        4.0   \n",
       "74                Willow Park        226      10.0           0        0.0   \n",
       "0   Winston Heights/Mountview          0       0.0           0        0.0   \n",
       "1                    Woodbine          0       0.0           0        0.0   \n",
       "12                  Woodlands          0       0.0           0        0.0   \n",
       "\n",
       "    Orange Trips  Orange Freq  Yellow Trips  Yellow Freq  Teal Trips  \\\n",
       "21             0          0.0             0          0.0          61   \n",
       "38             0          0.0            75          9.5           0   \n",
       "54             0          0.0             0          0.0           0   \n",
       "65             0          0.0             0          0.0           0   \n",
       "26             0          0.0             0          0.0           0   \n",
       "..           ...          ...           ...          ...         ...   \n",
       "93            98          7.0             0          0.0           0   \n",
       "74             0          0.0             0          0.0           0   \n",
       "0             98          7.0             0          0.0           0   \n",
       "1              0          0.0            75          9.5           0   \n",
       "12             0          0.0            75          9.5           0   \n",
       "\n",
       "    Teal Freq  Purple Trips  Purple Freq  \n",
       "21       12.0             0          0.0  \n",
       "38        0.0             0          0.0  \n",
       "54        0.0            66         25.0  \n",
       "65        0.0             0          0.0  \n",
       "26        0.0             0          0.0  \n",
       "..        ...           ...          ...  \n",
       "93        0.0             0          0.0  \n",
       "74        0.0             0          0.0  \n",
       "0         0.0             0          0.0  \n",
       "1         0.0             0          0.0  \n",
       "12        0.0             0          0.0  \n",
       "\n",
       "[97 rows x 13 columns]"
      ]
     },
     "execution_count": 131,
     "metadata": {},
     "output_type": "execute_result"
    }
   ],
   "source": [
    "service_df"
   ]
  },
  {
   "cell_type": "code",
   "execution_count": 132,
   "metadata": {},
   "outputs": [],
   "source": [
    "# Merge the two DataFrames on the 'Community' and 'Community Name' columns\n",
    "merged_data = pd.merge(service_df, comm_data, left_on='Community', right_on='Community Name', how='right')\n",
    "\n",
    "# Update the 'Population' column in sup_fc with the corresponding values from comm_data\n",
    "service_df['Population'] = service_df['Community'].apply(\n",
    "    lambda x: merged_data.loc[merged_data['Community Name'] == x, 'Population in private households'].iloc[0]\n",
    "    if x in merged_data['Community Name'].tolist() else 0\n",
    ")\n",
    "\n",
    "# dropping rows that have no population:\n",
    "service_df = service_df[service_df['Population'] != 0]"
   ]
  },
  {
   "cell_type": "code",
   "execution_count": 133,
   "metadata": {},
   "outputs": [],
   "source": [
    "service_df[\"Frequency Index\"] = service_df.filter(like=\"Freq\").sum(axis=1)"
   ]
  },
  {
   "cell_type": "code",
   "execution_count": 134,
   "metadata": {},
   "outputs": [],
   "source": [
    "service_df['Total Trips'] = service_df.filter(regex=\"Red Trips|Blue Trips\").sum(axis=1)*train_capacity + service_df.filter(regex=\"Orange Trips|Yellow Trips|Teal Trips|Yellow Trips|Purple Trips\").sum(axis=1)*bus_capacity\n",
    "service_df[\"Capacity Index\"] = service_df['Total Trips']/service_df.filter(like='Population').sum(axis=1)"
   ]
  },
  {
   "cell_type": "code",
   "execution_count": 135,
   "metadata": {},
   "outputs": [],
   "source": [
    "min_freq = min(service_df['Frequency Index'])\n",
    "max_freq = max(service_df['Frequency Index'])\n",
    "min_cap = min(service_df['Capacity Index'])\n",
    "max_cap = max(service_df['Capacity Index'])"
   ]
  },
  {
   "cell_type": "code",
   "execution_count": 136,
   "metadata": {},
   "outputs": [],
   "source": [
    "service_df['SS Frequency Index'] = (service_df['Frequency Index']-min_freq)/(max_freq-min_freq)\n",
    "service_df['SS Capacity Index'] = (service_df['Capacity Index']-min_cap)/(max_cap-min_cap)"
   ]
  },
  {
   "cell_type": "code",
   "execution_count": 137,
   "metadata": {},
   "outputs": [
    {
     "data": {
      "text/html": [
       "<div>\n",
       "<style scoped>\n",
       "    .dataframe tbody tr th:only-of-type {\n",
       "        vertical-align: middle;\n",
       "    }\n",
       "\n",
       "    .dataframe tbody tr th {\n",
       "        vertical-align: top;\n",
       "    }\n",
       "\n",
       "    .dataframe thead th {\n",
       "        text-align: right;\n",
       "    }\n",
       "</style>\n",
       "<table border=\"1\" class=\"dataframe\">\n",
       "  <thead>\n",
       "    <tr style=\"text-align: right;\">\n",
       "      <th></th>\n",
       "      <th>Community</th>\n",
       "      <th>Red Trips</th>\n",
       "      <th>Red Freq</th>\n",
       "      <th>Blue Trips</th>\n",
       "      <th>Blue Freq</th>\n",
       "      <th>Orange Trips</th>\n",
       "      <th>Orange Freq</th>\n",
       "      <th>Yellow Trips</th>\n",
       "      <th>Yellow Freq</th>\n",
       "      <th>Teal Trips</th>\n",
       "      <th>Teal Freq</th>\n",
       "      <th>Purple Trips</th>\n",
       "      <th>Purple Freq</th>\n",
       "      <th>Population</th>\n",
       "      <th>Frequency Index</th>\n",
       "      <th>Total Trips</th>\n",
       "      <th>Capacity Index</th>\n",
       "      <th>SS Frequency Index</th>\n",
       "      <th>SS Capacity Index</th>\n",
       "    </tr>\n",
       "  </thead>\n",
       "  <tbody>\n",
       "    <tr>\n",
       "      <th>21</th>\n",
       "      <td>Acadia</td>\n",
       "      <td>226</td>\n",
       "      <td>10.0</td>\n",
       "      <td>0</td>\n",
       "      <td>0.0</td>\n",
       "      <td>0</td>\n",
       "      <td>0.0</td>\n",
       "      <td>0</td>\n",
       "      <td>0.0</td>\n",
       "      <td>61</td>\n",
       "      <td>12.0</td>\n",
       "      <td>0</td>\n",
       "      <td>0.0</td>\n",
       "      <td>9915</td>\n",
       "      <td>22.0</td>\n",
       "      <td>139565</td>\n",
       "      <td>14.076147</td>\n",
       "      <td>0.404494</td>\n",
       "      <td>0.062027</td>\n",
       "    </tr>\n",
       "    <tr>\n",
       "      <th>38</th>\n",
       "      <td>Altadore</td>\n",
       "      <td>0</td>\n",
       "      <td>0.0</td>\n",
       "      <td>0</td>\n",
       "      <td>0.0</td>\n",
       "      <td>0</td>\n",
       "      <td>0.0</td>\n",
       "      <td>75</td>\n",
       "      <td>9.5</td>\n",
       "      <td>0</td>\n",
       "      <td>0.0</td>\n",
       "      <td>0</td>\n",
       "      <td>0.0</td>\n",
       "      <td>7290</td>\n",
       "      <td>9.5</td>\n",
       "      <td>4875</td>\n",
       "      <td>0.668724</td>\n",
       "      <td>0.123596</td>\n",
       "      <td>0.001630</td>\n",
       "    </tr>\n",
       "    <tr>\n",
       "      <th>54</th>\n",
       "      <td>Applewood Park</td>\n",
       "      <td>0</td>\n",
       "      <td>0.0</td>\n",
       "      <td>0</td>\n",
       "      <td>0.0</td>\n",
       "      <td>0</td>\n",
       "      <td>0.0</td>\n",
       "      <td>0</td>\n",
       "      <td>0.0</td>\n",
       "      <td>0</td>\n",
       "      <td>0.0</td>\n",
       "      <td>66</td>\n",
       "      <td>25.0</td>\n",
       "      <td>6830</td>\n",
       "      <td>25.0</td>\n",
       "      <td>4290</td>\n",
       "      <td>0.628111</td>\n",
       "      <td>0.471910</td>\n",
       "      <td>0.001447</td>\n",
       "    </tr>\n",
       "    <tr>\n",
       "      <th>65</th>\n",
       "      <td>Arbour Lake</td>\n",
       "      <td>226</td>\n",
       "      <td>10.0</td>\n",
       "      <td>0</td>\n",
       "      <td>0.0</td>\n",
       "      <td>0</td>\n",
       "      <td>0.0</td>\n",
       "      <td>0</td>\n",
       "      <td>0.0</td>\n",
       "      <td>0</td>\n",
       "      <td>0.0</td>\n",
       "      <td>0</td>\n",
       "      <td>0.0</td>\n",
       "      <td>10335</td>\n",
       "      <td>10.0</td>\n",
       "      <td>135600</td>\n",
       "      <td>13.120464</td>\n",
       "      <td>0.134831</td>\n",
       "      <td>0.057722</td>\n",
       "    </tr>\n",
       "    <tr>\n",
       "      <th>26</th>\n",
       "      <td>Aspen Woods</td>\n",
       "      <td>0</td>\n",
       "      <td>0.0</td>\n",
       "      <td>193</td>\n",
       "      <td>4.0</td>\n",
       "      <td>0</td>\n",
       "      <td>0.0</td>\n",
       "      <td>0</td>\n",
       "      <td>0.0</td>\n",
       "      <td>0</td>\n",
       "      <td>0.0</td>\n",
       "      <td>0</td>\n",
       "      <td>0.0</td>\n",
       "      <td>9435</td>\n",
       "      <td>4.0</td>\n",
       "      <td>115800</td>\n",
       "      <td>12.273450</td>\n",
       "      <td>0.000000</td>\n",
       "      <td>0.053906</td>\n",
       "    </tr>\n",
       "    <tr>\n",
       "      <th>...</th>\n",
       "      <td>...</td>\n",
       "      <td>...</td>\n",
       "      <td>...</td>\n",
       "      <td>...</td>\n",
       "      <td>...</td>\n",
       "      <td>...</td>\n",
       "      <td>...</td>\n",
       "      <td>...</td>\n",
       "      <td>...</td>\n",
       "      <td>...</td>\n",
       "      <td>...</td>\n",
       "      <td>...</td>\n",
       "      <td>...</td>\n",
       "      <td>...</td>\n",
       "      <td>...</td>\n",
       "      <td>...</td>\n",
       "      <td>...</td>\n",
       "      <td>...</td>\n",
       "      <td>...</td>\n",
       "    </tr>\n",
       "    <tr>\n",
       "      <th>93</th>\n",
       "      <td>Whitehorn</td>\n",
       "      <td>0</td>\n",
       "      <td>0.0</td>\n",
       "      <td>193</td>\n",
       "      <td>4.0</td>\n",
       "      <td>98</td>\n",
       "      <td>7.0</td>\n",
       "      <td>0</td>\n",
       "      <td>0.0</td>\n",
       "      <td>0</td>\n",
       "      <td>0.0</td>\n",
       "      <td>0</td>\n",
       "      <td>0.0</td>\n",
       "      <td>11085</td>\n",
       "      <td>11.0</td>\n",
       "      <td>122170</td>\n",
       "      <td>11.021200</td>\n",
       "      <td>0.157303</td>\n",
       "      <td>0.048265</td>\n",
       "    </tr>\n",
       "    <tr>\n",
       "      <th>74</th>\n",
       "      <td>Willow Park</td>\n",
       "      <td>226</td>\n",
       "      <td>10.0</td>\n",
       "      <td>0</td>\n",
       "      <td>0.0</td>\n",
       "      <td>0</td>\n",
       "      <td>0.0</td>\n",
       "      <td>0</td>\n",
       "      <td>0.0</td>\n",
       "      <td>0</td>\n",
       "      <td>0.0</td>\n",
       "      <td>0</td>\n",
       "      <td>0.0</td>\n",
       "      <td>5090</td>\n",
       "      <td>10.0</td>\n",
       "      <td>135600</td>\n",
       "      <td>26.640472</td>\n",
       "      <td>0.134831</td>\n",
       "      <td>0.118626</td>\n",
       "    </tr>\n",
       "    <tr>\n",
       "      <th>0</th>\n",
       "      <td>Winston Heights/Mountview</td>\n",
       "      <td>0</td>\n",
       "      <td>0.0</td>\n",
       "      <td>0</td>\n",
       "      <td>0.0</td>\n",
       "      <td>98</td>\n",
       "      <td>7.0</td>\n",
       "      <td>0</td>\n",
       "      <td>0.0</td>\n",
       "      <td>0</td>\n",
       "      <td>0.0</td>\n",
       "      <td>0</td>\n",
       "      <td>0.0</td>\n",
       "      <td>3605</td>\n",
       "      <td>7.0</td>\n",
       "      <td>6370</td>\n",
       "      <td>1.766990</td>\n",
       "      <td>0.067416</td>\n",
       "      <td>0.006577</td>\n",
       "    </tr>\n",
       "    <tr>\n",
       "      <th>1</th>\n",
       "      <td>Woodbine</td>\n",
       "      <td>0</td>\n",
       "      <td>0.0</td>\n",
       "      <td>0</td>\n",
       "      <td>0.0</td>\n",
       "      <td>0</td>\n",
       "      <td>0.0</td>\n",
       "      <td>75</td>\n",
       "      <td>9.5</td>\n",
       "      <td>0</td>\n",
       "      <td>0.0</td>\n",
       "      <td>0</td>\n",
       "      <td>0.0</td>\n",
       "      <td>8745</td>\n",
       "      <td>9.5</td>\n",
       "      <td>4875</td>\n",
       "      <td>0.557461</td>\n",
       "      <td>0.123596</td>\n",
       "      <td>0.001129</td>\n",
       "    </tr>\n",
       "    <tr>\n",
       "      <th>12</th>\n",
       "      <td>Woodlands</td>\n",
       "      <td>0</td>\n",
       "      <td>0.0</td>\n",
       "      <td>0</td>\n",
       "      <td>0.0</td>\n",
       "      <td>0</td>\n",
       "      <td>0.0</td>\n",
       "      <td>75</td>\n",
       "      <td>9.5</td>\n",
       "      <td>0</td>\n",
       "      <td>0.0</td>\n",
       "      <td>0</td>\n",
       "      <td>0.0</td>\n",
       "      <td>5830</td>\n",
       "      <td>9.5</td>\n",
       "      <td>4875</td>\n",
       "      <td>0.836192</td>\n",
       "      <td>0.123596</td>\n",
       "      <td>0.002384</td>\n",
       "    </tr>\n",
       "  </tbody>\n",
       "</table>\n",
       "<p>95 rows × 19 columns</p>\n",
       "</div>"
      ],
      "text/plain": [
       "                    Community  Red Trips  Red Freq  Blue Trips  Blue Freq  \\\n",
       "21                     Acadia        226      10.0           0        0.0   \n",
       "38                   Altadore          0       0.0           0        0.0   \n",
       "54             Applewood Park          0       0.0           0        0.0   \n",
       "65                Arbour Lake        226      10.0           0        0.0   \n",
       "26                Aspen Woods          0       0.0         193        4.0   \n",
       "..                        ...        ...       ...         ...        ...   \n",
       "93                  Whitehorn          0       0.0         193        4.0   \n",
       "74                Willow Park        226      10.0           0        0.0   \n",
       "0   Winston Heights/Mountview          0       0.0           0        0.0   \n",
       "1                    Woodbine          0       0.0           0        0.0   \n",
       "12                  Woodlands          0       0.0           0        0.0   \n",
       "\n",
       "    Orange Trips  Orange Freq  Yellow Trips  Yellow Freq  Teal Trips  \\\n",
       "21             0          0.0             0          0.0          61   \n",
       "38             0          0.0            75          9.5           0   \n",
       "54             0          0.0             0          0.0           0   \n",
       "65             0          0.0             0          0.0           0   \n",
       "26             0          0.0             0          0.0           0   \n",
       "..           ...          ...           ...          ...         ...   \n",
       "93            98          7.0             0          0.0           0   \n",
       "74             0          0.0             0          0.0           0   \n",
       "0             98          7.0             0          0.0           0   \n",
       "1              0          0.0            75          9.5           0   \n",
       "12             0          0.0            75          9.5           0   \n",
       "\n",
       "    Teal Freq  Purple Trips  Purple Freq  Population  Frequency Index  \\\n",
       "21       12.0             0          0.0        9915             22.0   \n",
       "38        0.0             0          0.0        7290              9.5   \n",
       "54        0.0            66         25.0        6830             25.0   \n",
       "65        0.0             0          0.0       10335             10.0   \n",
       "26        0.0             0          0.0        9435              4.0   \n",
       "..        ...           ...          ...         ...              ...   \n",
       "93        0.0             0          0.0       11085             11.0   \n",
       "74        0.0             0          0.0        5090             10.0   \n",
       "0         0.0             0          0.0        3605              7.0   \n",
       "1         0.0             0          0.0        8745              9.5   \n",
       "12        0.0             0          0.0        5830              9.5   \n",
       "\n",
       "    Total Trips  Capacity Index  SS Frequency Index  SS Capacity Index  \n",
       "21       139565       14.076147            0.404494           0.062027  \n",
       "38         4875        0.668724            0.123596           0.001630  \n",
       "54         4290        0.628111            0.471910           0.001447  \n",
       "65       135600       13.120464            0.134831           0.057722  \n",
       "26       115800       12.273450            0.000000           0.053906  \n",
       "..          ...             ...                 ...                ...  \n",
       "93       122170       11.021200            0.157303           0.048265  \n",
       "74       135600       26.640472            0.134831           0.118626  \n",
       "0          6370        1.766990            0.067416           0.006577  \n",
       "1          4875        0.557461            0.123596           0.001129  \n",
       "12         4875        0.836192            0.123596           0.002384  \n",
       "\n",
       "[95 rows x 19 columns]"
      ]
     },
     "execution_count": 137,
     "metadata": {},
     "output_type": "execute_result"
    }
   ],
   "source": [
    "service_df"
   ]
  },
  {
   "cell_type": "code",
   "execution_count": 138,
   "metadata": {},
   "outputs": [
    {
     "data": {
      "text/plain": [
       "(10, 19)"
      ]
     },
     "execution_count": 138,
     "metadata": {},
     "output_type": "execute_result"
    }
   ],
   "source": [
    "service_df.loc[service_df['SS Frequency Index']==0].shape"
   ]
  },
  {
   "cell_type": "code",
   "execution_count": 139,
   "metadata": {},
   "outputs": [
    {
     "data": {
      "text/plain": [
       "(0, 19)"
      ]
     },
     "execution_count": 139,
     "metadata": {},
     "output_type": "execute_result"
    }
   ],
   "source": [
    "service_df.loc[service_df['Population'] == 0].shape"
   ]
  },
  {
   "cell_type": "code",
   "execution_count": null,
   "metadata": {},
   "outputs": [],
   "source": []
  }
 ],
 "metadata": {
  "kernelspec": {
   "display_name": "Python 3",
   "language": "python",
   "name": "python3"
  },
  "language_info": {
   "codemirror_mode": {
    "name": "ipython",
    "version": 3
   },
   "file_extension": ".py",
   "mimetype": "text/x-python",
   "name": "python",
   "nbconvert_exporter": "python",
   "pygments_lexer": "ipython3",
   "version": "3.9.6"
  }
 },
 "nbformat": 4,
 "nbformat_minor": 2
}
