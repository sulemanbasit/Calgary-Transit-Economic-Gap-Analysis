{
 "cells": [
  {
   "cell_type": "code",
   "execution_count": null,
   "metadata": {},
   "outputs": [],
   "source": [
    "# !pip3 install matplotlib\n",
    "# !pip3 install tabula-py\n",
    "# !pip3 install PyPDF2\n",
    "# !pip3 install pdfminer.six\n",
    "# !pip3 install PyMuPDF\n",
    "# !pip3 install camelot-py\n",
    "# !pip3 install --upgrade pip\n",
    "# !pip3 install geopandas\n",
    "# !pip3 install plotly\n",
    "# !pip3 install pandas\n",
    "# !pip3 install pdfplumber\n",
    "# !pip3 install scipy\n",
    "# !pip3 install --upgrade pandas"
   ]
  },
  {
   "cell_type": "code",
   "execution_count": null,
   "metadata": {},
   "outputs": [],
   "source": [
    "import pandas as pd\n",
    "import numpy as np\n",
    "import matplotlib as mpt\n",
    "import os\n",
    "import PyPDF2\n",
    "import tabula\n",
    "import tabulate\n",
    "import pdfminer\n",
    "import geopandas as gpd\n",
    "import fiona\n",
    "from glob import glob\n",
    "import plotly.express as px\n",
    "from shapely.geometry import Point\n",
    "import pdfplumber\n",
    "import scipy\n"
   ]
  },
  {
   "cell_type": "code",
   "execution_count": null,
   "metadata": {},
   "outputs": [],
   "source": [
    "\n",
    "def save_to_csv(df, output_folder, file_name):\n",
    "    \"\"\"AI is creating summary for save_to_csv\n",
    "\n",
    "    Args:\n",
    "        df (Pandas Data Frame): Contains data frame that needs to be converted and saved as csv\n",
    "        output_folder (Str): Destination path where df needs to be saved\n",
    "        file_name (Str): File name that df needs to be saved as\n",
    "    \"\"\"\n",
    "    # Check if the output folder exists, if not, create it\n",
    "    if not os.path.exists(output_folder):\n",
    "        os.makedirs(output_folder)\n",
    "\n",
    "    # Define the output file path\n",
    "    output_file_path = os.path.join(output_folder, file_name)\n",
    "    \n",
    "    # Save the DataFrame to CSV in the output folder\n",
    "    df.to_csv(output_file_path, index=False)\n",
    "    print(f\"DataFrame saved to: {output_file_path}\")\n"
   ]
  },
  {
   "cell_type": "code",
   "execution_count": null,
   "metadata": {},
   "outputs": [],
   "source": [
    "def convert_data (file_path):\n",
    "    \"\"\"\n",
    "    Function to convert files of appropriate structure to csv format, creating point object with files that have lat and lon values\n",
    "\n",
    "    Args:\n",
    "        file_path (str): File Path to open and convert to csv file format\n",
    "    \"\"\"\n",
    "    df = pd.read_csv(file_path)\n",
    "    output_folder_path = os.getcwd()+\"/Data Sets/Analysis Data/\"\n",
    "    # print(output_folder_path)\n",
    "    output_file_name = file_path.split('/')[-1].split('.')[0] + \".csv\"\n",
    "    # output_destination = os.path.join(output_folder_path, output_file_name)\n",
    "    if 'lat' in str(df.columns) and 'lon' in str(df.columns):\n",
    "        lat = \"\"\n",
    "        lon = \"\"\n",
    "        for col in df.columns:\n",
    "            if str(col).endswith('lat'):\n",
    "                lat = str(col)\n",
    "            elif str(col).endswith('lon'):\n",
    "                lon = str(col)\n",
    "        df_geo = gpd.GeoDataFrame(df, geometry=gpd.points_from_xy(df[lat],df[lon]))\n",
    "        if not os.path.exists(output_folder_path):\n",
    "            os.make_dir(output_folder_path)\n",
    "        # df_geo.drop(columns=[lat, lon]).to_csv(output_destination, index = False)\n",
    "        final_df = df_geo.drop(columns=[lat, lon])\n",
    "        save_to_csv(final_df, output_folder_path, output_file_name)\n",
    "        print(\"{} saved in {}\".format(output_file_name, output_folder_path))\n",
    "    else:\n",
    "        # df.to_csv(output_destination, index=False)\n",
    "        save_to_csv(df, output_folder_path, output_file_name)\n",
    "        print(\"{} saved in {}\".format(output_file_name, output_folder_path))"
   ]
  },
  {
   "cell_type": "code",
   "execution_count": null,
   "metadata": {},
   "outputs": [],
   "source": [
    "# data_path = input(\"include relative path to the dataset: (should work for windows/mac: )\")\n",
    "data_path = os.getcwd()+\"/Data Sets/CT_GTFS/agency.txt\"\n",
    "# with open(data_path, 'r') as f:\n",
    "#     print(f.read())\n",
    "convert_data(data_path)\n",
    "# shape = pd.read_csv(data_path)\n",
    "# shape_geo = gpd.GeoDataFrame(shape)\n"
   ]
  },
  {
   "cell_type": "code",
   "execution_count": null,
   "metadata": {},
   "outputs": [],
   "source": [
    "# community_path = os.getcwd() + \"/Community Profiles/\"\n",
    "# ward_path = os.getcwd() + \"/ward_profiles/\"\n",
    "\n",
    "# if os.path.isdir(ward_path):\n",
    "#     try:\n",
    "#         # List all files in the specified folder\n",
    "#         files = os.listdir(ward_path)\n",
    "\n",
    "#         # Extract file names\n",
    "#         file_names = [file for file in files if os.path.isfile(os.path.join(ward_path, file)) and \"ward\" in file]\n",
    "\n",
    "#         # print(\"File names in the folder:\")\n",
    "#         # for file_name in file_names:\n",
    "#         #     print(file_name)\n",
    "\n",
    "#     except FileNotFoundError:\n",
    "#         print(f\"The specified folder '{ward_path}' does not exist.\")\n",
    "#     except PermissionError:\n",
    "#         print(f\"Permission denied to access '{ward_path}'.\")\n",
    "\n",
    "# # data = camelot.read_pdf(ward_path+file_names[0])"
   ]
  },
  {
   "cell_type": "code",
   "execution_count": null,
   "metadata": {},
   "outputs": [],
   "source": [
    "# save_to_csv(combined_df, os.getcwd()+\"/Data Sets/Analysis Data\", \"Ward1.csv\")"
   ]
  },
  {
   "cell_type": "code",
   "execution_count": null,
   "metadata": {},
   "outputs": [],
   "source": [
    "community_data_path = os.getcwd()+\"/Data Sets/Analysis Data/Community Profiles Compiled.xlsx\""
   ]
  },
  {
   "cell_type": "code",
   "execution_count": null,
   "metadata": {},
   "outputs": [],
   "source": [
    "comm_df = pd.read_excel(community_data_path)\n",
    "# comm_df.head()"
   ]
  },
  {
   "cell_type": "code",
   "execution_count": null,
   "metadata": {},
   "outputs": [],
   "source": [
    "comm_df.head()\n",
    "# summary_stat = comm_df.describe()\n",
    "# print(type(summary_stat))\n",
    "# comm_df.set_index(\"Community Name\", inplace=True)"
   ]
  },
  {
   "cell_type": "code",
   "execution_count": null,
   "metadata": {},
   "outputs": [],
   "source": [
    "\n",
    "# Initialize an empty list to hold dictionaries of row data\n",
    "rows_to_append = []\n",
    "\n",
    "# Loop through rows of comm_df and append data to rows_to_append list\n",
    "for index, row in comm_df.iterrows():\n",
    "    comm_low = row['Population in private households to whom low income concepts are applicable (Number in low income)']\n",
    "    comm_pop = row['Population in private households']\n",
    "    comm_seniors = row['65 to 84 years']\n",
    "    comm_lab_trans = (comm_pop/row[\"Employed labour force aged 15 years and over in private households\"])*row['Public transit']\n",
    "    comm_rent = row[\"Per cent households with income spending 30% or more total income on shelter (Renter)\"]\n",
    "    \n",
    "    # Calculate index values\n",
    "    low_income_index = (comm_low / comm_pop) * 100\n",
    "    seniors_index = (comm_seniors / comm_pop) * 100\n",
    "    labour_transit_index = (comm_lab_trans / comm_pop) * 100\n",
    "    rent_index = comm_rent * 100\n",
    "    \n",
    "    # Create a dictionary for the row and append it to the list\n",
    "    index_columns = {\"Community Name\": row['Community Name'], \"Low Income Index\": low_income_index, \"Seniors Index\": seniors_index, \"Public Transit Index\": labour_transit_index, \"Rent Index\": rent_index}\n",
    "    rows_to_append.append(index_columns)\n",
    "\n",
    "# Convert the list of dictionaries to a DataFrame\n",
    "first_index_df = pd.DataFrame(rows_to_append)\n",
    "\n"
   ]
  },
  {
   "cell_type": "code",
   "execution_count": null,
   "metadata": {},
   "outputs": [],
   "source": [
    "first_index_df.describe()"
   ]
  },
  {
   "cell_type": "code",
   "execution_count": null,
   "metadata": {},
   "outputs": [],
   "source": [
    "output_folder_path = os.getcwd()+\"/Data Sets/Analysis Data\""
   ]
  },
  {
   "cell_type": "code",
   "execution_count": 80,
   "metadata": {},
   "outputs": [],
   "source": [
    "#Z-Score method manually\n",
    "pop_mean = comm_df['Population in private households'].mean()\n",
    "pop_std = comm_df['Population in private households'].std()\n",
    "# pop_max = comm_df['Population in private households'].max()\n",
    "# pop_min = comm_df['Population in private households'].min()\n",
    "\n",
    "medinc_mean = comm_df[\"Median household income of private households\"].mean()\n",
    "medinc_std = comm_df[\"Median household income of private households\"].std()\n",
    "\n",
    "low_mean = comm_df['Population in private households to whom low income concepts are applicable (Number in low income)'].mean()\n",
    "low_std = comm_df['Population in private households to whom low income concepts are applicable (Number in low income)'].std()\n",
    "\n",
    "trans_mean = ((comm_df['Employed']/comm_df[\"Employed labour force aged 15 years and over in private households\"])*comm_df['Public transit']).mean()\n",
    "trans_std = ((comm_df['Employed']/comm_df[\"Employed labour force aged 15 years and over in private households\"])*comm_df['Public transit']).std()\n",
    "\n",
    "rent_mean = (comm_df['Per cent households with income spending 30% or more total income on shelter (Renter)']*comm_df['Private households with total income greater than zero (Renter)']).mean()\n",
    "rent_std = (comm_df['Per cent households with income spending 30% or more total income on shelter (Renter)']*comm_df['Private households with total income greater than zero (Renter)']).std()\n",
    "\n",
    "seniors_mean = comm_df['65 to 84 years'].mean()\n",
    "seniors_std = comm_df['65 to 84 years'].std()"
   ]
  },
  {
   "cell_type": "code",
   "execution_count": 87,
   "metadata": {},
   "outputs": [],
   "source": [
    "row, col = comm_df.shape\n",
    "z_rows_to_append = []\n",
    "for c in range(row):\n",
    "    community = comm_df['Community Name'][c]\n",
    "    \n",
    "    pop = comm_df['Population in private households'][c]\n",
    "    # pop_ss = (pop-pop_max)/(pop_max-pop_min)\n",
    "    z_pop_score = (pop-pop_mean)/pop_std\n",
    "    \n",
    "    med = comm_df['Median household income of private households'][c]\n",
    "    # med_ss = (med-medinc_max)/(medinc_max-medinc_min)\n",
    "    z_med_score = (med-medinc_mean)/medinc_std\n",
    "    \n",
    "    trans = ((comm_df['Employed']/comm_df[\"Employed labour force aged 15 years and over in private households\"])*comm_df['Public transit'])[c]\n",
    "    # trans_ss = (trans-trans_max)/(trans_max-trans_min)\n",
    "    z_trans_score = (trans-trans_mean)/trans_std\n",
    "    \n",
    "    rent = (comm_df['Per cent households with income spending 30% or more total income on shelter (Renter)']*comm_df['Private households with total income greater than zero (Renter)'])[c]\n",
    "    # rent_ss = (rent-rent_max)/(rent_max-rent_min)\n",
    "    z_rent_score = (rent-rent_mean)/rent_std\n",
    "    \n",
    "    low = comm_df['Population in private households to whom low income concepts are applicable (Number in low income)'][c]\n",
    "    # low_ss = (low-low_max)/(low_max-low_min)\n",
    "    z_low_score = (low-low_mean)/low_std\n",
    "\n",
    "    sen = comm_df['65 to 84 years'][c]\n",
    "    z_seniors_score = (sen-seniors_mean)/seniors_std\n",
    "\n",
    "    z_result = z_trans_score+z_rent_score+z_low_score-z_med_score+z_seniors_score\n",
    "    # z_result = z_trans_score+z_rent_score+z_low_score+z_seniors_score\n",
    "\n",
    "    column_df = {\"Community Name\": community, \"Z Score\": z_result}\n",
    "    columns_df = {\"Community Name\": community, \"Low Income Index\": z_low_score, \"Seniors Index\": z_seniors_score, \"Public Transit Index\": z_trans_score, \"Rent Index\": z_rent_score, \"Median Income\": z_med_score}\n",
    "    z_rows_to_append.append(column_df)\n",
    "\n",
    "\n",
    "Z_index_df = pd.DataFrame(z_rows_to_append)"
   ]
  },
  {
   "cell_type": "code",
   "execution_count": 82,
   "metadata": {},
   "outputs": [
    {
     "data": {
      "text/html": [
       "<div>\n",
       "<style scoped>\n",
       "    .dataframe tbody tr th:only-of-type {\n",
       "        vertical-align: middle;\n",
       "    }\n",
       "\n",
       "    .dataframe tbody tr th {\n",
       "        vertical-align: top;\n",
       "    }\n",
       "\n",
       "    .dataframe thead th {\n",
       "        text-align: right;\n",
       "    }\n",
       "</style>\n",
       "<table border=\"1\" class=\"dataframe\">\n",
       "  <thead>\n",
       "    <tr style=\"text-align: right;\">\n",
       "      <th></th>\n",
       "      <th>Community Name</th>\n",
       "      <th>Z Score</th>\n",
       "    </tr>\n",
       "  </thead>\n",
       "  <tbody>\n",
       "    <tr>\n",
       "      <th>0</th>\n",
       "      <td>Abbeydale</td>\n",
       "      <td>-0.326060</td>\n",
       "    </tr>\n",
       "    <tr>\n",
       "      <th>1</th>\n",
       "      <td>Acadia</td>\n",
       "      <td>4.381997</td>\n",
       "    </tr>\n",
       "    <tr>\n",
       "      <th>2</th>\n",
       "      <td>Albert Park/Radisson Heights</td>\n",
       "      <td>2.750797</td>\n",
       "    </tr>\n",
       "    <tr>\n",
       "      <th>3</th>\n",
       "      <td>Altadore</td>\n",
       "      <td>-0.860095</td>\n",
       "    </tr>\n",
       "    <tr>\n",
       "      <th>4</th>\n",
       "      <td>Applewood Park</td>\n",
       "      <td>0.651714</td>\n",
       "    </tr>\n",
       "  </tbody>\n",
       "</table>\n",
       "</div>"
      ],
      "text/plain": [
       "                 Community Name   Z Score\n",
       "0                     Abbeydale -0.326060\n",
       "1                        Acadia  4.381997\n",
       "2  Albert Park/Radisson Heights  2.750797\n",
       "3                      Altadore -0.860095\n",
       "4                Applewood Park  0.651714"
      ]
     },
     "execution_count": 82,
     "metadata": {},
     "output_type": "execute_result"
    }
   ],
   "source": [
    "Z_index_df.head()"
   ]
  },
  {
   "cell_type": "code",
   "execution_count": 88,
   "metadata": {},
   "outputs": [],
   "source": [
    "z_max = Z_index_df['Z Score'].max()\n",
    "z_min = Z_index_df['Z Score'].min()"
   ]
  },
  {
   "cell_type": "code",
   "execution_count": 89,
   "metadata": {},
   "outputs": [
    {
     "name": "stdout",
     "output_type": "stream",
     "text": [
      "28.006507636218434\n",
      "-10.348038955884837\n"
     ]
    }
   ],
   "source": [
    "print(z_max)\n",
    "print(z_min)"
   ]
  },
  {
   "cell_type": "code",
   "execution_count": 90,
   "metadata": {},
   "outputs": [],
   "source": [
    "row, col = Z_index_df.shape\n",
    "z_ss_rows = []\n",
    "for c in range(row):\n",
    "    community = Z_index_df[\"Community Name\"][c]\n",
    "    z_score = Z_index_df['Z Score'][c]\n",
    "\n",
    "    z_ss_result = (z_score-z_min)/(z_max-z_min)\n",
    "\n",
    "    column_df = {\"Community Name\": community, \"Z Score\": z_ss_result}\n",
    "    z_ss_rows.append(column_df)\n",
    "    \n",
    "z_ss_index_df = pd.DataFrame(z_ss_rows)"
   ]
  },
  {
   "cell_type": "code",
   "execution_count": 91,
   "metadata": {},
   "outputs": [
    {
     "data": {
      "text/html": [
       "<div>\n",
       "<style scoped>\n",
       "    .dataframe tbody tr th:only-of-type {\n",
       "        vertical-align: middle;\n",
       "    }\n",
       "\n",
       "    .dataframe tbody tr th {\n",
       "        vertical-align: top;\n",
       "    }\n",
       "\n",
       "    .dataframe thead th {\n",
       "        text-align: right;\n",
       "    }\n",
       "</style>\n",
       "<table border=\"1\" class=\"dataframe\">\n",
       "  <thead>\n",
       "    <tr style=\"text-align: right;\">\n",
       "      <th></th>\n",
       "      <th>Community Name</th>\n",
       "      <th>Z Score</th>\n",
       "    </tr>\n",
       "  </thead>\n",
       "  <tbody>\n",
       "    <tr>\n",
       "      <th>0</th>\n",
       "      <td>Abbeydale</td>\n",
       "      <td>0.272777</td>\n",
       "    </tr>\n",
       "    <tr>\n",
       "      <th>1</th>\n",
       "      <td>Acadia</td>\n",
       "      <td>0.403855</td>\n",
       "    </tr>\n",
       "    <tr>\n",
       "      <th>2</th>\n",
       "      <td>Albert Park/Radisson Heights</td>\n",
       "      <td>0.364817</td>\n",
       "    </tr>\n",
       "    <tr>\n",
       "      <th>3</th>\n",
       "      <td>Altadore</td>\n",
       "      <td>0.223933</td>\n",
       "    </tr>\n",
       "    <tr>\n",
       "      <th>4</th>\n",
       "      <td>Applewood Park</td>\n",
       "      <td>0.298807</td>\n",
       "    </tr>\n",
       "  </tbody>\n",
       "</table>\n",
       "</div>"
      ],
      "text/plain": [
       "                 Community Name   Z Score\n",
       "0                     Abbeydale  0.272777\n",
       "1                        Acadia  0.403855\n",
       "2  Albert Park/Radisson Heights  0.364817\n",
       "3                      Altadore  0.223933\n",
       "4                Applewood Park  0.298807"
      ]
     },
     "execution_count": 91,
     "metadata": {},
     "output_type": "execute_result"
    }
   ],
   "source": [
    "z_ss_index_df.head()"
   ]
  },
  {
   "cell_type": "code",
   "execution_count": null,
   "metadata": {},
   "outputs": [],
   "source": [
    "save_to_csv(first_index_df, output_folder_path, \"First Demand Index.csv\")"
   ]
  },
  {
   "cell_type": "code",
   "execution_count": 92,
   "metadata": {},
   "outputs": [
    {
     "name": "stdout",
     "output_type": "stream",
     "text": [
      "DataFrame saved to: /Users/sulemanbasit/Project/Calgary-Transit-Economic-Gap-Analysis/Data Sets/Analysis Data/Z Standardized Demand Index (with Median Income).csv\n"
     ]
    }
   ],
   "source": [
    "save_to_csv(z_ss_index_df, output_folder_path, 'Z Standardized Demand Index (with Median Income).csv')"
   ]
  }
 ],
 "metadata": {
  "kernelspec": {
   "display_name": "Python 3",
   "language": "python",
   "name": "python3"
  },
  "language_info": {
   "codemirror_mode": {
    "name": "ipython",
    "version": 3
   },
   "file_extension": ".py",
   "mimetype": "text/x-python",
   "name": "python",
   "nbconvert_exporter": "python",
   "pygments_lexer": "ipython3",
   "version": "3.12.2"
  }
 },
 "nbformat": 4,
 "nbformat_minor": 2
}
